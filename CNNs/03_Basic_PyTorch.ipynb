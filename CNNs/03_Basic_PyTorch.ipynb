{
  "cells": [
    {
      "cell_type": "code",
      "execution_count": 3,
      "metadata": {
        "id": "0WNbgJcr1w18"
      },
      "outputs": [],
      "source": [
        "# Importando PyTorch\n",
        "import torch"
      ]
    },
    {
      "cell_type": "markdown",
      "metadata": {
        "id": "tL_vljqJ1w1_"
      },
      "source": [
        "# Introdução ao PyTorch\n",
        "\n",
        "## O que é PyTorch?\n",
        "PyTorch é uma biblioteca de aprendizado profundo de código aberto desenvolvida pelo Facebook's AI Research lab (FAIR). Ela é amplamente utilizada para tarefas de visão computacional e processamento de linguagem natural."
      ]
    },
    {
      "cell_type": "markdown",
      "metadata": {
        "id": "bDh7Cvjw1w2A"
      },
      "source": [
        "### História e contexto\n",
        "PyTorch foi lançado em janeiro de 2017. Ele é baseado na biblioteca Torch, que é uma estrutura de aprendizado de máquina em Lua. PyTorch é conhecido por sua facilidade de uso e integração com Python, o que o torna popular entre pesquisadores e engenheiros.\n",
        "\n",
        "### Comparação com outras bibliotecas\n",
        "- **TensorFlow**: Desenvolvido pelo Google, TensorFlow é uma das bibliotecas de aprendizado profundo mais populares. Enquanto TensorFlow é conhecido por sua escalabilidade e produção, PyTorch é elogiado por sua facilidade de uso e flexibilidade.\n",
        "- **NumPy**: NumPy é uma biblioteca fundamental para computação científica em Python. PyTorch usa tensores, que são similares aos arrays do NumPy, mas com suporte para computação em GPU."
      ]
    },
    {
      "cell_type": "markdown",
      "metadata": {
        "id": "gme4gb_21w2B"
      },
      "source": [
        "## O que são tensores?\n",
        "Tensores são a estrutura de dados fundamental em PyTorch. Eles são similares aos arrays do NumPy, mas com suporte para computação em GPU.\n",
        "\n",
        "Tensores 1D, 2D, 3D, etc.\n",
        "- 1D: Vetores\n",
        "- 2D: Matrizes\n",
        "- 3D: Matrizes tridimensionais (cubos de dados)\n",
        "- ND: Tensores de N dimensões"
      ]
    },
    {
      "cell_type": "code",
      "execution_count": null,
      "metadata": {
        "id": "L1T8_09w1w2B",
        "colab": {
          "base_uri": "https://localhost:8080/"
        },
        "outputId": "8cdabcc4-56ce-4fac-eb2e-df31474830c0"
      },
      "outputs": [
        {
          "output_type": "stream",
          "name": "stdout",
          "text": [
            "tensor([1, 2, 3, 4])\n"
          ]
        }
      ],
      "source": [
        "# Tensor 1D\n",
        "tensor_1d = torch.tensor([1, 2, 3, 4])\n",
        "print(tensor_1d)"
      ]
    },
    {
      "cell_type": "code",
      "execution_count": null,
      "metadata": {
        "id": "j82JByGP1w2C",
        "colab": {
          "base_uri": "https://localhost:8080/"
        },
        "outputId": "431a2e89-90bd-4638-f220-65ee261519ed"
      },
      "outputs": [
        {
          "output_type": "stream",
          "name": "stdout",
          "text": [
            "tensor([[1, 2, 3],\n",
            "        [4, 5, 6]])\n"
          ]
        }
      ],
      "source": [
        "# Tensor 2D\n",
        "tensor_2d = torch.tensor([[1, 2, 3], [4, 5, 6]])\n",
        "print(tensor_2d)"
      ]
    },
    {
      "cell_type": "code",
      "execution_count": null,
      "metadata": {
        "id": "k6pIDa0s1w2C",
        "colab": {
          "base_uri": "https://localhost:8080/"
        },
        "outputId": "87198b15-fd78-4c29-e204-8006725d99ec"
      },
      "outputs": [
        {
          "output_type": "stream",
          "name": "stdout",
          "text": [
            "tensor([[[1, 2],\n",
            "         [3, 4]],\n",
            "\n",
            "        [[5, 6],\n",
            "         [7, 8]]])\n"
          ]
        }
      ],
      "source": [
        "# Tensor 3D\n",
        "tensor_3d = torch.tensor([[[1, 2], [3, 4]], [[5, 6], [7, 8]]])\n",
        "print(tensor_3d)"
      ]
    },
    {
      "cell_type": "markdown",
      "metadata": {
        "id": "0ZuSNxVF1w2C"
      },
      "source": [
        "### Tipos de dados\n",
        "Os tensores em PyTorch suportam vários tipos de dados, como inteiros e floats. O tipo de dado pode ser especificado durante a criação do tensor."
      ]
    },
    {
      "cell_type": "code",
      "execution_count": null,
      "metadata": {
        "id": "VhySYZZo1w2D",
        "colab": {
          "base_uri": "https://localhost:8080/"
        },
        "outputId": "de5b69aa-d6fa-47ef-c7f7-6883ccbf09db"
      },
      "outputs": [
        {
          "output_type": "stream",
          "name": "stdout",
          "text": [
            "tensor([1, 2, 3], dtype=torch.int32)\n"
          ]
        }
      ],
      "source": [
        "# Criação de um tensor de inteiros\n",
        "tensor_int = torch.tensor([1, 2, 3], dtype=torch.int32)\n",
        "print(tensor_int)"
      ]
    },
    {
      "cell_type": "code",
      "execution_count": null,
      "metadata": {
        "id": "Zfe6V6yN1w2D",
        "colab": {
          "base_uri": "https://localhost:8080/"
        },
        "outputId": "89791078-af65-447f-f757-dc6d900c30d4"
      },
      "outputs": [
        {
          "output_type": "stream",
          "name": "stdout",
          "text": [
            "tensor([1., 2., 3.])\n"
          ]
        }
      ],
      "source": [
        "# Criação de um tensor de floats\n",
        "tensor_float = torch.tensor([1.0, 2.0, 3.0], dtype=torch.float32)\n",
        "print(tensor_float)"
      ]
    },
    {
      "cell_type": "markdown",
      "metadata": {
        "id": "jOc7H6Nu1w2G"
      },
      "source": [
        "## Funções de Criação de Tensores\n",
        "PyTorch fornece várias funções utilitárias para criar tensores de forma eficiente.\n",
        "\n",
        "- `torch.zeros`: Cria um tensor preenchido com zeros.\n",
        "- `torch.zeros_like`: Cria um tensor preenchido com zeros, com as mesmas dimensões de um tensor dado.\n",
        "- `torch.ones`: Cria um tensor preenchido com uns.\n",
        "- `torch.ones_like`: Cria um tensor preenchido com uns, com as mesmas dimensões de um tensor dado.\n",
        "- `torch.linspace`: Cria um tensor com valores linearmente espaçados entre dois pontos.\n",
        "- `torch.arange`: Cria um tensor com valores em uma faixa específica com um passo definido."
      ]
    },
    {
      "cell_type": "code",
      "execution_count": null,
      "metadata": {
        "id": "7oDCCEuH1w2G",
        "colab": {
          "base_uri": "https://localhost:8080/"
        },
        "outputId": "25073e20-a3cb-448e-a223-bb62ad4fa5d3"
      },
      "outputs": [
        {
          "output_type": "stream",
          "name": "stdout",
          "text": [
            "tensor([[[0., 0., 0., 0., 0.],\n",
            "         [0., 0., 0., 0., 0.],\n",
            "         [0., 0., 0., 0., 0.]],\n",
            "\n",
            "        [[0., 0., 0., 0., 0.],\n",
            "         [0., 0., 0., 0., 0.],\n",
            "         [0., 0., 0., 0., 0.]],\n",
            "\n",
            "        [[0., 0., 0., 0., 0.],\n",
            "         [0., 0., 0., 0., 0.],\n",
            "         [0., 0., 0., 0., 0.]]])\n"
          ]
        }
      ],
      "source": [
        "# Criação de tensores de zeros\n",
        "tensor_zeros = torch.zeros(3, 3, 5)\n",
        "print(tensor_zeros)"
      ]
    },
    {
      "cell_type": "code",
      "execution_count": null,
      "metadata": {
        "id": "WwKGAhGm1w2H",
        "colab": {
          "base_uri": "https://localhost:8080/"
        },
        "outputId": "2fcb03ee-f1d4-45cf-acb1-58d1f5f2aa3c"
      },
      "outputs": [
        {
          "output_type": "stream",
          "name": "stdout",
          "text": [
            "tensor([[0, 0, 0],\n",
            "        [0, 0, 0]])\n"
          ]
        }
      ],
      "source": [
        "# Criação de tensores de zeros_like\n",
        "tensor_zeros_like = torch.zeros_like(tensor_2d)\n",
        "print(tensor_zeros_like)"
      ]
    },
    {
      "cell_type": "code",
      "execution_count": null,
      "metadata": {
        "id": "1d8_Udo41w2H",
        "colab": {
          "base_uri": "https://localhost:8080/"
        },
        "outputId": "5dca5d85-f302-4c2a-9cfe-453f057582a5"
      },
      "outputs": [
        {
          "output_type": "stream",
          "name": "stdout",
          "text": [
            "tensor([[1., 1.],\n",
            "        [1., 1.]])\n"
          ]
        }
      ],
      "source": [
        "# Criação de tensores de uns\n",
        "tensor_ones = torch.ones(2, 2)\n",
        "print(tensor_ones)"
      ]
    },
    {
      "cell_type": "code",
      "execution_count": null,
      "metadata": {
        "id": "Jz-j57oz1w2H",
        "colab": {
          "base_uri": "https://localhost:8080/"
        },
        "outputId": "2b2306dc-efee-438a-ade6-6a5ed9676aa3"
      },
      "outputs": [
        {
          "output_type": "stream",
          "name": "stdout",
          "text": [
            "tensor([[1, 1, 1],\n",
            "        [1, 1, 1]])\n"
          ]
        }
      ],
      "source": [
        "# Criação de tensores de ones_like\n",
        "tensor_ones_like = torch.ones_like(tensor_2d)\n",
        "print(tensor_ones_like)"
      ]
    },
    {
      "cell_type": "code",
      "execution_count": null,
      "metadata": {
        "id": "9Vj8N6yp1w2H",
        "colab": {
          "base_uri": "https://localhost:8080/"
        },
        "outputId": "d14d9ca2-87e8-4c00-a85e-4f2203987ee8"
      },
      "outputs": [
        {
          "output_type": "stream",
          "name": "stdout",
          "text": [
            "tensor([ 0.0000,  2.5000,  5.0000,  7.5000, 10.0000])\n"
          ]
        }
      ],
      "source": [
        "# Linspace\n",
        "tensor_linspace = torch.linspace(0, 10, steps=5)\n",
        "print(tensor_linspace)"
      ]
    },
    {
      "cell_type": "code",
      "execution_count": null,
      "metadata": {
        "id": "AzxGJUYr1w2H",
        "colab": {
          "base_uri": "https://localhost:8080/"
        },
        "outputId": "c0ead7c7-3a29-4218-a74d-d6085d2568fa"
      },
      "outputs": [
        {
          "output_type": "stream",
          "name": "stdout",
          "text": [
            "tensor([0.0000, 2.5000, 5.0000, 7.5000])\n"
          ]
        }
      ],
      "source": [
        "# Arange\n",
        "tensor_arange = torch.arange(0, 10, step=2.5)\n",
        "print(tensor_arange)"
      ]
    },
    {
      "cell_type": "markdown",
      "metadata": {
        "id": "SazHGhJi1w2H"
      },
      "source": [
        "## Indexação e Fatiamento\n",
        "A indexação e o fatiamento em PyTorch são similares ao NumPy, permitindo acessar e modificar partes específicas de um tensor."
      ]
    },
    {
      "cell_type": "code",
      "execution_count": null,
      "metadata": {
        "id": "mGjl53mT1w2I",
        "colab": {
          "base_uri": "https://localhost:8080/"
        },
        "outputId": "6265ac3e-488d-46b4-94fc-1ebaac3a997a"
      },
      "outputs": [
        {
          "output_type": "stream",
          "name": "stdout",
          "text": [
            "Tensor original:\n",
            " tensor([[1, 2, 3],\n",
            "        [4, 5, 6],\n",
            "        [7, 8, 9]])\n"
          ]
        }
      ],
      "source": [
        "# Criando um tensor de exemplo\n",
        "tensor = torch.tensor([[1, 2, 3], [4, 5, 6], [7, 8, 9]])\n",
        "print(\"Tensor original:\\n\", tensor)"
      ]
    },
    {
      "cell_type": "code",
      "execution_count": null,
      "metadata": {
        "id": "TgMkwm2C1w2I",
        "colab": {
          "base_uri": "https://localhost:8080/"
        },
        "outputId": "0fdb1c07-4270-4b01-e006-a8f16e5e8cfa"
      },
      "outputs": [
        {
          "output_type": "stream",
          "name": "stdout",
          "text": [
            "Elemento na posição [1, 2]: tensor(6)\n"
          ]
        }
      ],
      "source": [
        "# Indexação por elementos específicos\n",
        "print(\"Elemento na posição [1, 2]:\", tensor[1, 2])  # Acessa o valor '6'"
      ]
    },
    {
      "cell_type": "code",
      "execution_count": null,
      "metadata": {
        "id": "owqOCpch1w2I",
        "colab": {
          "base_uri": "https://localhost:8080/"
        },
        "outputId": "9da1e07a-7ccd-4f4a-b19b-f80081cc0dfa"
      },
      "outputs": [
        {
          "output_type": "stream",
          "name": "stdout",
          "text": [
            "Primeira linha: tensor([1, 2, 3])\n",
            "Segunda coluna: tensor([2, 5, 8])\n"
          ]
        }
      ],
      "source": [
        "# Indexação\n",
        "print(\"Primeira linha:\", tensor[0, :])  # Obtendo a primeira linha\n",
        "print(\"Segunda coluna:\", tensor[:, 1])  # Obtendo a segunda coluna"
      ]
    },
    {
      "cell_type": "code",
      "execution_count": null,
      "metadata": {
        "id": "UjarVbj01w2I",
        "colab": {
          "base_uri": "https://localhost:8080/"
        },
        "outputId": "ecf657f8-baa5-4533-c78b-92743bb6389a"
      },
      "outputs": [
        {
          "output_type": "stream",
          "name": "stdout",
          "text": [
            "Subtensor a partir da segunda linha e segunda coluna:\n",
            " tensor([[5, 6],\n",
            "        [8, 9]])\n"
          ]
        }
      ],
      "source": [
        "# Fatiamento\n",
        "print(\"Subtensor a partir da segunda linha e segunda coluna:\\n\", tensor[1:, 1:])"
      ]
    },
    {
      "cell_type": "code",
      "execution_count": null,
      "metadata": {
        "id": "WGhdmHMM1w2I",
        "colab": {
          "base_uri": "https://localhost:8080/"
        },
        "outputId": "dfe42228-b64e-4423-c3ab-c6c113834502"
      },
      "outputs": [
        {
          "output_type": "stream",
          "name": "stdout",
          "text": [
            "Subtensor pulando uma linha e uma coluna:\n",
            " tensor([[1, 3],\n",
            "        [7, 9]])\n"
          ]
        }
      ],
      "source": [
        "# Exemplo de fatiamento complexo: pulando elementos\n",
        "print(\"Subtensor pulando uma linha e uma coluna:\\n\", tensor[::2, ::2])  # Pulando linhas e colunas"
      ]
    },
    {
      "cell_type": "code",
      "execution_count": null,
      "metadata": {
        "id": "5crVZodO1w2J",
        "colab": {
          "base_uri": "https://localhost:8080/"
        },
        "outputId": "9d9653f2-9ca8-4c97-e8f6-e6a040a511e6"
      },
      "outputs": [
        {
          "output_type": "stream",
          "name": "stdout",
          "text": [
            "Última linha do tensor: tensor([7, 8, 9])\n",
            "Última coluna do tensor: tensor([3, 6, 9])\n"
          ]
        }
      ],
      "source": [
        "# Fatiamento com valores negativos\n",
        "print(\"Última linha do tensor:\", tensor[-1, :])  # Acessando a última linha\n",
        "print(\"Última coluna do tensor:\", tensor[:, -1])  # Acessando a última coluna"
      ]
    },
    {
      "cell_type": "markdown",
      "metadata": {
        "id": "Or1DzFTh1w2J"
      },
      "source": [
        "## Operações básicas com tensores\n",
        "PyTorch suporta várias operações básicas com tensores, como adição, multiplicação, subtração e divisão."
      ]
    },
    {
      "cell_type": "code",
      "execution_count": null,
      "metadata": {
        "id": "HXw_jr1t1w2J",
        "colab": {
          "base_uri": "https://localhost:8080/"
        },
        "outputId": "c71b07ee-dd07-42f7-d7c3-353b3ec221cf"
      },
      "outputs": [
        {
          "output_type": "stream",
          "name": "stdout",
          "text": [
            "+ tensor([5, 7, 9])\n",
            "* tensor([ 4, 10, 18])\n",
            "- tensor([-3, -3, -3])\n",
            "/ tensor([0.2500, 0.4000, 0.5000])\n",
            "Produto escalar tensor(32)\n"
          ]
        }
      ],
      "source": [
        "a = torch.tensor([1, 2, 3])\n",
        "b = torch.tensor([4, 5, 6])\n",
        "\n",
        "# Adição\n",
        "print(\"+\", a + b)\n",
        "\n",
        "# Multiplicação\n",
        "print(\"*\", a * b)\n",
        "\n",
        "# Subtração\n",
        "print(\"-\", a - b)\n",
        "\n",
        "# Divisão\n",
        "print(\"/\", a / b)\n",
        "\n",
        "# Produto escalar\n",
        "dot_product = torch.dot(a, b)\n",
        "print(\"Produto escalar\", dot_product)"
      ]
    },
    {
      "cell_type": "markdown",
      "metadata": {
        "id": "MTeGhv7N1w2J"
      },
      "source": [
        "## Manipulando formato (shape)"
      ]
    },
    {
      "cell_type": "code",
      "execution_count": null,
      "metadata": {
        "id": "h34pUTYr1w2J",
        "colab": {
          "base_uri": "https://localhost:8080/"
        },
        "outputId": "f0037eee-90d5-4993-ec7e-e754b613cb83"
      },
      "outputs": [
        {
          "output_type": "stream",
          "name": "stdout",
          "text": [
            "tensor([[ 0,  1,  2],\n",
            "        [ 3,  4,  5],\n",
            "        [ 6,  7,  8],\n",
            "        [ 9, 10, 11]])\n"
          ]
        }
      ],
      "source": [
        "tensor = torch.arange(12).reshape(4, 3) # modifica na memória\n",
        "print(tensor)"
      ]
    },
    {
      "cell_type": "code",
      "execution_count": null,
      "metadata": {
        "id": "BrxGzvwr1w2J",
        "colab": {
          "base_uri": "https://localhost:8080/"
        },
        "outputId": "b233a23b-f7bc-479c-8e49-32a93b13350e"
      },
      "outputs": [
        {
          "output_type": "stream",
          "name": "stdout",
          "text": [
            "tensor([[ 0,  1],\n",
            "        [ 2,  3],\n",
            "        [ 4,  5],\n",
            "        [ 6,  7],\n",
            "        [ 8,  9],\n",
            "        [10, 11]])\n"
          ]
        }
      ],
      "source": [
        "# View\n",
        "tensor_reshaped = tensor.view(6, 2) # Modifica apenas na tela, apenas para visualização\n",
        "print(tensor_reshaped)"
      ]
    },
    {
      "cell_type": "code",
      "execution_count": null,
      "metadata": {
        "id": "s376etEI1w2K",
        "colab": {
          "base_uri": "https://localhost:8080/"
        },
        "outputId": "0c645187-83ab-4183-bab5-c06929009727"
      },
      "outputs": [
        {
          "output_type": "stream",
          "name": "stdout",
          "text": [
            "tensor([[ 0,  3,  6,  9],\n",
            "        [ 1,  4,  7, 10],\n",
            "        [ 2,  5,  8, 11]])\n"
          ]
        }
      ],
      "source": [
        "# Transpose\n",
        "tensor_transposed = tensor.t()\n",
        "print(tensor_transposed)"
      ]
    },
    {
      "cell_type": "markdown",
      "metadata": {
        "id": "PBMxdjBn1w2K"
      },
      "source": [
        "### Flatten\n",
        "A função flatten retorna um tensor 1D contendo todos os elementos do tensor original"
      ]
    },
    {
      "cell_type": "code",
      "execution_count": null,
      "metadata": {
        "id": "5rNNlgrj1w2K",
        "colab": {
          "base_uri": "https://localhost:8080/"
        },
        "outputId": "93d479d9-ed61-4ed2-9ccc-62c8812ce104"
      },
      "outputs": [
        {
          "output_type": "stream",
          "name": "stdout",
          "text": [
            "tensor([ 0,  1,  2,  3,  4,  5,  6,  7,  8,  9, 10, 11])\n"
          ]
        }
      ],
      "source": [
        "# Flatten\n",
        "tensor_flattened = tensor.flatten()\n",
        "print(tensor_flattened)"
      ]
    },
    {
      "cell_type": "code",
      "execution_count": null,
      "metadata": {
        "id": "pZYNrHrf1w2K",
        "colab": {
          "base_uri": "https://localhost:8080/"
        },
        "outputId": "844a9833-c3c9-44cb-cbe8-c30dbb43fdaa"
      },
      "outputs": [
        {
          "output_type": "stream",
          "name": "stdout",
          "text": [
            "tensor([[[[ 0],\n",
            "          [ 1],\n",
            "          [ 2],\n",
            "          [ 3],\n",
            "          [ 4],\n",
            "          [ 5]],\n",
            "\n",
            "         [[ 6],\n",
            "          [ 7],\n",
            "          [ 8],\n",
            "          [ 9],\n",
            "          [10],\n",
            "          [11]]]])\n",
            "torch.Size([1, 2, 6, 1])\n"
          ]
        }
      ],
      "source": [
        "# Reshape\n",
        "tensor_reshaped = tensor.reshape(1, 2, 6, 1)\n",
        "print(tensor_reshaped)\n",
        "print(tensor_reshaped.shape)"
      ]
    },
    {
      "cell_type": "markdown",
      "metadata": {
        "id": "z80MHPjs1w2K"
      },
      "source": [
        "### Squeeze e Unsqueeze\n",
        "- `squeeze`: Remove dimensões de tamanho 1 de um tensor.\n",
        "- `unsqueeze`: Adiciona uma dimensão de tamanho 1 em um tensor."
      ]
    },
    {
      "cell_type": "code",
      "execution_count": null,
      "metadata": {
        "id": "rIE1cwdG1w2K",
        "colab": {
          "base_uri": "https://localhost:8080/"
        },
        "outputId": "dca8a96e-67db-4cfc-a3b3-1567664d011d"
      },
      "outputs": [
        {
          "output_type": "stream",
          "name": "stdout",
          "text": [
            "tensor([[ 0,  1,  2,  3,  4,  5],\n",
            "        [ 6,  7,  8,  9, 10, 11]])\n",
            "torch.Size([2, 6])\n"
          ]
        }
      ],
      "source": [
        "# Squeeze\n",
        "tensor_squeezed = tensor_reshaped.squeeze()\n",
        "print(tensor_squeezed)\n",
        "print(tensor_squeezed.shape)"
      ]
    },
    {
      "cell_type": "code",
      "execution_count": null,
      "metadata": {
        "id": "SIZYKtEC1w2L",
        "colab": {
          "base_uri": "https://localhost:8080/"
        },
        "outputId": "cfbc18aa-828c-4c7b-b081-50f40a1f4ed8"
      },
      "outputs": [
        {
          "output_type": "stream",
          "name": "stdout",
          "text": [
            "tensor([[[ 0,  1,  2,  3,  4,  5],\n",
            "         [ 6,  7,  8,  9, 10, 11]]])\n",
            "torch.Size([1, 2, 6])\n"
          ]
        }
      ],
      "source": [
        "# Unsqueeze\n",
        "tensor_unsqueezed = tensor_squeezed.unsqueeze(dim=0)\n",
        "print(tensor_unsqueezed)\n",
        "print(tensor_unsqueezed.shape)"
      ]
    },
    {
      "cell_type": "markdown",
      "metadata": {
        "id": "5HDvNwlo1w2L"
      },
      "source": [
        "## Broadcasting\n",
        "O broadcasting é uma técnica que permite que tensores de diferentes formas sejam utilizados juntos em operações aritméticas. Em vez de copiar dados, o PyTorch ajusta os tensores de forma automática para que tenham formas compatíveis."
      ]
    },
    {
      "cell_type": "markdown",
      "metadata": {
        "id": "WAgwgg_b1w2L"
      },
      "source": [
        "### Adição de um Escalar\n",
        "\n",
        "Quando adicionamos um escalar a um tensor, o escalar é automaticamente expandido para a forma do tensor:"
      ]
    },
    {
      "cell_type": "code",
      "execution_count": null,
      "metadata": {
        "id": "TOWfrju21w2L",
        "colab": {
          "base_uri": "https://localhost:8080/"
        },
        "outputId": "8f8a0979-d61a-44bd-9fbe-4fbff38ccf40"
      },
      "outputs": [
        {
          "output_type": "stream",
          "name": "stdout",
          "text": [
            "tensor([[11, 12, 13],\n",
            "        [14, 15, 16]])\n"
          ]
        }
      ],
      "source": [
        "# Cria um tensor 2x3\n",
        "tensor = torch.tensor([[1, 2, 3], [4, 5, 6]])\n",
        "\n",
        "# Adiciona um escalar\n",
        "scalar = 10\n",
        "\n",
        "# Broadcasting para adicionar o escalar a cada elemento do tensor\n",
        "result = tensor + scalar\n",
        "print(result)"
      ]
    },
    {
      "cell_type": "markdown",
      "metadata": {
        "id": "acyXXyUC1w2Q"
      },
      "source": [
        "### Adição de Tensores com Diferentes Dimensões\n",
        "\n",
        "Vamos adicionar um tensor 2x3 com um tensor 1x3. Neste caso, o tensor 1x3 será expandido (broadcasted) para uma forma 2x3:"
      ]
    },
    {
      "cell_type": "code",
      "execution_count": null,
      "metadata": {
        "id": "qNjxfNjn1w2Q",
        "colab": {
          "base_uri": "https://localhost:8080/"
        },
        "outputId": "da70cc92-1776-4e57-de04-710b030945ae"
      },
      "outputs": [
        {
          "output_type": "stream",
          "name": "stdout",
          "text": [
            "tensor([[11, 22, 33],\n",
            "        [14, 25, 36]])\n"
          ]
        }
      ],
      "source": [
        "# Cria um tensor 2x3\n",
        "tensor_a = torch.tensor([[1, 2, 3], [4, 5, 6]])\n",
        "\n",
        "# Cria um tensor 1x3\n",
        "tensor_b = torch.tensor([10, 20, 30])\n",
        "\n",
        "# Broadcasting para adicionar tensores de diferentes formas\n",
        "result = tensor_a + tensor_b\n",
        "print(result)"
      ]
    },
    {
      "cell_type": "markdown",
      "metadata": {
        "id": "89L3nQ2e1w2Q"
      },
      "source": [
        "### Regras de Broadcasting\n",
        "\n",
        "Para que o broadcasting funcione, os tensores devem seguir algumas regras:\n",
        "\n",
        "1. **Compatibilidade de Dimensões**: As dimensões dos tensores devem ser compatíveis. Duas dimensões são compatíveis se forem iguais ou se uma delas for 1.\n",
        "2. **Expansão Automática**: Se uma dimensão de um tensor for 1, ela será expandida para corresponder à dimensão do outro tensor.\n",
        "\n",
        "No exemplo a seguir, o tensor `tensor_c` de forma 2x1 é expandido para 2x3, e o tensor `tensor_d` de forma 1x3 é expandido para 2x3. O resultado é um tensor 2x3 onde cada elemento é o produto dos elementos correspondentes."
      ]
    },
    {
      "cell_type": "code",
      "execution_count": null,
      "metadata": {
        "id": "-sahA1Y21w2Q",
        "colab": {
          "base_uri": "https://localhost:8080/"
        },
        "outputId": "7eb1087f-2402-4ff9-eb40-2d7d0ae857c8"
      },
      "outputs": [
        {
          "output_type": "stream",
          "name": "stdout",
          "text": [
            "tensor([[10, 20, 30],\n",
            "        [20, 40, 60]])\n"
          ]
        }
      ],
      "source": [
        "# Cria um tensor 2x1\n",
        "tensor_c = torch.tensor([[1], [2]])\n",
        "\n",
        "# Cria um tensor 1x3\n",
        "tensor_d = torch.tensor([10, 20, 30])\n",
        "\n",
        "# Broadcasting para multiplicar tensores de diferentes formas\n",
        "result = tensor_c * tensor_d\n",
        "print(result)"
      ]
    },
    {
      "cell_type": "markdown",
      "metadata": {
        "id": "9Pcra84Z1w2R"
      },
      "source": [
        "## Operações de Redução em PyTorch\n",
        "\n",
        "As operações de redução são usadas para reduzir as dimensões de um tensor, aplicando operações como soma, média, mínimo e máximo. Essas operações são fundamentais em várias aplicações de machine learning e deep learning."
      ]
    },
    {
      "cell_type": "code",
      "execution_count": null,
      "metadata": {
        "id": "EmEkfGc_1w2R",
        "colab": {
          "base_uri": "https://localhost:8080/"
        },
        "outputId": "f1eab958-a483-4ca0-a008-fc9116acc14f"
      },
      "outputs": [
        {
          "output_type": "stream",
          "name": "stdout",
          "text": [
            "Tensor original:\n",
            " tensor([[1., 2., 3.],\n",
            "        [4., 5., 6.]])\n",
            "torch.Size([2, 3])\n"
          ]
        }
      ],
      "source": [
        "# Cria um tensor 2x3\n",
        "tensor = torch.tensor([[1.0, 2.0, 3.0], [4.0, 5.0, 6.0]])\n",
        "print(\"Tensor original:\\n\", tensor)\n",
        "print(tensor.shape)"
      ]
    },
    {
      "cell_type": "markdown",
      "metadata": {
        "id": "AE_B1sjl1w2R"
      },
      "source": [
        "### Soma de Todos os Elementos\n",
        "\n",
        "A função `torch.sum` calcula a soma de todos os elementos do tensor:"
      ]
    },
    {
      "cell_type": "code",
      "execution_count": null,
      "metadata": {
        "id": "d4EzXS4b1w2R",
        "colab": {
          "base_uri": "https://localhost:8080/"
        },
        "outputId": "b9fe8efe-b050-4a19-ff93-3bdcb58f575f"
      },
      "outputs": [
        {
          "output_type": "stream",
          "name": "stdout",
          "text": [
            "Soma de todos os elementos: 21.0\n"
          ]
        }
      ],
      "source": [
        "# Soma de todos os elementos do tensor\n",
        "sum_all = torch.sum(tensor)\n",
        "print(\"Soma de todos os elementos:\", sum_all.item())"
      ]
    },
    {
      "cell_type": "markdown",
      "metadata": {
        "id": "q4XIslms1w2R"
      },
      "source": [
        "### Soma ao Longo de um Eixo\n",
        "\n",
        "Podemos calcular a soma ao longo de um eixo específico, usando o parâmetro `dim`:"
      ]
    },
    {
      "cell_type": "code",
      "execution_count": null,
      "metadata": {
        "id": "NjO1SzTK1w2R",
        "colab": {
          "base_uri": "https://localhost:8080/"
        },
        "outputId": "21256a2a-7a11-4ac4-c885-f3728405525f"
      },
      "outputs": [
        {
          "output_type": "stream",
          "name": "stdout",
          "text": [
            "Soma ao longo do eixo 0 (linhas): tensor([5., 7., 9.])\n",
            "torch.Size([3])\n"
          ]
        }
      ],
      "source": [
        "# Soma ao longo do eixo 0 (linhas)\n",
        "sum_dim0 = torch.sum(tensor, axis=0)\n",
        "print(\"Soma ao longo do eixo 0 (linhas):\", sum_dim0)\n",
        "print(sum_dim0.shape)"
      ]
    },
    {
      "cell_type": "code",
      "execution_count": null,
      "metadata": {
        "id": "hdRnT2b31w2R",
        "colab": {
          "base_uri": "https://localhost:8080/"
        },
        "outputId": "b7cf2b2b-a8ee-4865-9ae5-6435a5b61387"
      },
      "outputs": [
        {
          "output_type": "stream",
          "name": "stdout",
          "text": [
            "Soma ao longo do eixo 1 (colunas): tensor([ 6., 15.])\n",
            "torch.Size([2])\n"
          ]
        }
      ],
      "source": [
        "# Soma ao longo do eixo 1 (colunas)\n",
        "sum_dim1 = torch.sum(tensor, dim=1)\n",
        "print(\"Soma ao longo do eixo 1 (colunas):\", sum_dim1)\n",
        "print(sum_dim1.shape)"
      ]
    },
    {
      "cell_type": "markdown",
      "metadata": {
        "id": "eGQVR4I-1w2S"
      },
      "source": [
        "### Média dos Elementos\n",
        "\n",
        "A função `torch.mean` calcula a média dos elementos do tensor:"
      ]
    },
    {
      "cell_type": "code",
      "execution_count": null,
      "metadata": {
        "id": "J9WCO7bd1w2S",
        "colab": {
          "base_uri": "https://localhost:8080/"
        },
        "outputId": "294a26d9-f573-4425-ec22-ecfd37fd6be1"
      },
      "outputs": [
        {
          "output_type": "stream",
          "name": "stdout",
          "text": [
            "Média de todos os elementos: 3.5\n"
          ]
        }
      ],
      "source": [
        "# Média de todos os elementos do tensor\n",
        "mean_all = torch.mean(tensor)\n",
        "print(\"Média de todos os elementos:\", mean_all.item())"
      ]
    },
    {
      "cell_type": "code",
      "execution_count": null,
      "metadata": {
        "id": "6RhqePEN1w2S",
        "colab": {
          "base_uri": "https://localhost:8080/"
        },
        "outputId": "521cb88e-2cab-43d8-9c3a-da22a8298e7d"
      },
      "outputs": [
        {
          "output_type": "stream",
          "name": "stdout",
          "text": [
            "Média ao longo do eixo 0 (linhas): tensor([2.5000, 3.5000, 4.5000])\n",
            "torch.Size([3])\n"
          ]
        }
      ],
      "source": [
        "# Média ao longo do eixo 0 (linhas)\n",
        "mean_dim0 = torch.mean(tensor, dim=0)\n",
        "print(\"Média ao longo do eixo 0 (linhas):\", mean_dim0)\n",
        "print(mean_dim0.shape)"
      ]
    },
    {
      "cell_type": "code",
      "execution_count": null,
      "metadata": {
        "id": "RuEbn8L11w2S",
        "colab": {
          "base_uri": "https://localhost:8080/"
        },
        "outputId": "49bb48dd-264c-4fb8-b092-36739c24e662"
      },
      "outputs": [
        {
          "output_type": "stream",
          "name": "stdout",
          "text": [
            "Média ao longo do eixo 1 (colunas): tensor([2., 5.])\n",
            "torch.Size([2])\n"
          ]
        }
      ],
      "source": [
        "# Média ao longo do eixo 1 (colunas)\n",
        "mean_dim1 = torch.mean(tensor, dim=1)\n",
        "print(\"Média ao longo do eixo 1 (colunas):\", mean_dim1)\n",
        "print(mean_dim1.shape)"
      ]
    },
    {
      "cell_type": "markdown",
      "metadata": {
        "id": "yOEvlouG1w2T"
      },
      "source": [
        "### Valor Mínimo e Máximo\n",
        "\n",
        "Podemos encontrar o valor mínimo e máximo de um tensor usando `torch.min` e `torch.max`:"
      ]
    },
    {
      "cell_type": "code",
      "execution_count": null,
      "metadata": {
        "id": "5MoDEEs-1w2T",
        "colab": {
          "base_uri": "https://localhost:8080/"
        },
        "outputId": "746be538-739c-4cd7-e87b-b985e46704bd"
      },
      "outputs": [
        {
          "output_type": "stream",
          "name": "stdout",
          "text": [
            "Valor mínimo de todos os elementos: tensor(1.)\n",
            "\n",
            "Valor máximo de todos os elementos: tensor(6.)\n",
            "\n",
            "Valor mínimo ao longo do eixo 0 (linhas): tensor([1., 2., 3.])\n",
            "Índices dos valores mínimos ao longo do eixo 0 (linhas): tensor([0, 0, 0])\n",
            "\n",
            "Valor máximo ao longo do eixo 1 (colunas): tensor([3., 6.])\n",
            "Índices dos valores máximos ao longo do eixo 1 (colunas): tensor([2, 2])\n"
          ]
        }
      ],
      "source": [
        "# Valor mínimo de todos os elementos do tensor\n",
        "min_all = torch.min(tensor)\n",
        "print(\"Valor mínimo de todos os elementos:\", min_all)\n",
        "print()\n",
        "\n",
        "# Valor máximo de todos os elementos do tensor\n",
        "max_all = torch.max(tensor)\n",
        "print(\"Valor máximo de todos os elementos:\", max_all)\n",
        "print()\n",
        "\n",
        "# Valor mínimo ao longo do eixo 0 (linhas)\n",
        "min_dim0, min_indices_dim0 = torch.min(tensor, dim=0)\n",
        "print(\"Valor mínimo ao longo do eixo 0 (linhas):\", min_dim0)\n",
        "print(\"Índices dos valores mínimos ao longo do eixo 0 (linhas):\", min_indices_dim0)\n",
        "print()\n",
        "\n",
        "# Valor máximo ao longo do eixo 1 (colunas)\n",
        "max_dim1, max_indices_dim1 = torch.max(tensor, dim=1)\n",
        "print(\"Valor máximo ao longo do eixo 1 (colunas):\", max_dim1)\n",
        "print(\"Índices dos valores máximos ao longo do eixo 1 (colunas):\", max_indices_dim1)"
      ]
    },
    {
      "cell_type": "markdown",
      "metadata": {
        "id": "z0cJK4n31w2T"
      },
      "source": [
        "### Produto dos Elementos\n",
        "\n",
        "A função `torch.prod` calcula o produto de todos os elementos do tensor:"
      ]
    },
    {
      "cell_type": "code",
      "execution_count": null,
      "metadata": {
        "id": "djTDr7Rd1w2T",
        "colab": {
          "base_uri": "https://localhost:8080/"
        },
        "outputId": "b49cc895-14b4-49c9-baa3-ebea110a9f4e"
      },
      "outputs": [
        {
          "output_type": "stream",
          "name": "stdout",
          "text": [
            "Produto de todos os elementos: tensor(720.)\n",
            "\n",
            "Produto ao longo do eixo 0 (linhas): tensor([ 4., 10., 18.])\n",
            "\n",
            "Produto ao longo do eixo 1 (colunas): tensor([  6., 120.])\n"
          ]
        }
      ],
      "source": [
        "# Produto de todos os elementos do tensor\n",
        "prod_all = torch.prod(tensor)\n",
        "print(\"Produto de todos os elementos:\", prod_all)\n",
        "print()\n",
        "\n",
        "# Produto ao longo do eixo 0 (linhas)\n",
        "prod_dim0 = torch.prod(tensor, dim=0)\n",
        "print(\"Produto ao longo do eixo 0 (linhas):\", prod_dim0)\n",
        "print()\n",
        "\n",
        "# Produto ao longo do eixo 1 (colunas)\n",
        "prod_dim1 = torch.prod(tensor, dim=1)\n",
        "print(\"Produto ao longo do eixo 1 (colunas):\", prod_dim1)"
      ]
    },
    {
      "cell_type": "markdown",
      "metadata": {
        "id": "e8FDtUum1w2T"
      },
      "source": [
        "## Propriedade requires_grad\n",
        "A propriedade `requires_grad` em PyTorch é fundamental para a construção e treinamento de redes neurais, pois permite calcular automaticamente os gradientes das operações. Quando `requires_grad` é definido como `True` em um tensor, todas as operações feitas nesse tensor serão rastreadas para a diferenciação automática.\n",
        "\n",
        "### Autograd e Grafos Computacionais\n",
        "\n",
        "Autograd é um componente essencial em frameworks de deep learning como PyTorch, que permite a diferenciação automática de tensores. Este mecanismo é fundamental para a otimização dos modelos de aprendizado de máquina, pois permite calcular gradientes de forma eficiente, necessária para o ajuste dos parâmetros do modelo durante o treinamento.\n",
        "\n",
        "#### Grafos Computacionais\n",
        "\n",
        "Para entender o funcionamento do autograd, é importante compreender os grafos computacionais. Um grafo computacional é uma representação gráfica de uma sequência de operações matemáticas, onde:\n",
        "\n",
        "- **Nós (nodes)** representam operações matemáticas ou variáveis.\n",
        "- **Arestas (edges)** representam os fluxos de dados (tensores) entre as operações.\n",
        "\n",
        "![alt text](https://miro.medium.com/max/908/1*ahiviCqq6B0R_XWBmgvHkA.png \"Grafo Computacional\")\n",
        "\n",
        "Durante a construção de um modelo, as operações realizadas nos tensores criam um grafo computacional dinâmico, também conhecido como *Dynamic Computation Graph*. Esse grafo é dinâmico porque é construído à medida que as operações são executadas, permitindo flexibilidade e facilidade na criação e modificação de modelos.\n",
        "\n",
        "#### Propagação para Frente (Forward Pass)\n",
        "\n",
        "Durante a propagação para frente (forward pass), os tensores são passados através das operações definidas no grafo computacional, produzindo uma saída. Este processo é usado para calcular a perda (loss) do modelo.\n",
        "\n",
        "#### Propagação para Trás (Backward Pass)\n",
        "\n",
        "A propagação para trás (backward pass) é o processo de calcular os gradientes dos tensores em relação à perda, utilizando a regra da cadeia. O autograd facilita essa tarefa, realizando automaticamente a diferenciação reversa ao longo do grafo computacional. Os passos são:\n",
        "\n",
        "1. **Calcula a perda**: A partir das saídas do forward pass.\n",
        "2. **Calcula os gradientes**: Utilizando a diferenciação automática.\n",
        "3. **Atualiza os parâmetros**: Os gradientes calculados são usados para ajustar os parâmetros do modelo através de otimização, como o gradiente descendente."
      ]
    },
    {
      "cell_type": "markdown",
      "metadata": {
        "id": "jcjSGlSk1w2U"
      },
      "source": [
        "### Criando Tensores com `requires_grad`\n",
        "\n",
        "Vamos criar tensores com a propriedade `requires_grad` definida como `True`:"
      ]
    },
    {
      "cell_type": "code",
      "execution_count": null,
      "metadata": {
        "id": "nYqH9bD41w2U",
        "colab": {
          "base_uri": "https://localhost:8080/"
        },
        "outputId": "27e73019-8c23-4595-b922-aafbe86ea773"
      },
      "outputs": [
        {
          "output_type": "stream",
          "name": "stdout",
          "text": [
            "tensor([1., 2., 3.], requires_grad=True)\n"
          ]
        }
      ],
      "source": [
        "# Tensor com requires_grad\n",
        "x = torch.tensor([1.0, 2.0, 3.0], requires_grad=True)\n",
        "print(x)"
      ]
    },
    {
      "cell_type": "markdown",
      "metadata": {
        "id": "5F7pXpT21w2U"
      },
      "source": [
        "### Realizando Operações com Tensores que Têm `requires_grad`\n",
        "\n",
        "Quando realizamos operações com tensores que têm `requires_grad=True`, o PyTorch cria uma tape (fita) para rastrear todas as operações. Vamos ver um exemplo:"
      ]
    },
    {
      "cell_type": "code",
      "execution_count": null,
      "metadata": {
        "id": "oLtVZdIt1w2U",
        "colab": {
          "base_uri": "https://localhost:8080/"
        },
        "outputId": "68d525fe-6b02-42a4-bdfe-04b37d427d1e"
      },
      "outputs": [
        {
          "output_type": "stream",
          "name": "stdout",
          "text": [
            "tensor(14., grad_fn=<SumBackward0>)\n"
          ]
        }
      ],
      "source": [
        "# Realiza uma operação com o tensor x\n",
        "y = x ** 2\n",
        "\n",
        "# Mais uma operação\n",
        "z = y.sum()\n",
        "\n",
        "print(z)"
      ]
    },
    {
      "cell_type": "markdown",
      "metadata": {
        "id": "z0vPiFgi1w2U"
      },
      "source": [
        "### Calculando Gradientes\n",
        "\n",
        "Para calcular os gradientes, usamos o método `backward()`. Isso calcula o gradiente da função de perda em relação a todos os tensores que têm `requires_grad=True`.\n",
        "\n",
        "Os gradientes armazenados em `x.grad` representam a derivada da soma `z` em relação a `x`. Como `z` é a soma dos elementos de `y` e `y = x ** 2`, a derivada de `z` em relação a `x` é `2 * x`."
      ]
    },
    {
      "cell_type": "code",
      "execution_count": null,
      "metadata": {
        "id": "soISX6lb1w2U",
        "colab": {
          "base_uri": "https://localhost:8080/"
        },
        "outputId": "5411b2ec-252c-45bb-b7e0-69821cc62a05"
      },
      "outputs": [
        {
          "output_type": "stream",
          "name": "stdout",
          "text": [
            "tensor([2., 4., 6.])\n"
          ]
        }
      ],
      "source": [
        "# Calcula os gradientes\n",
        "z.backward()\n",
        "\n",
        "# z = x1² + x2² + x3²\n",
        "# dz/x1 = 2x1\n",
        "\n",
        "# Imprime os gradientes armazenados em x.grad\n",
        "print(x.grad)"
      ]
    },
    {
      "cell_type": "markdown",
      "metadata": {
        "id": "DSlP1f9y1w2U"
      },
      "source": [
        "### Desativando o Rastreamento de Gradientes\n",
        "\n",
        "Em algumas situações, não queremos rastrear as operações, como durante a inferência do modelo. Podemos desativar temporariamente o rastreamento de gradientes usando `torch.no_grad()` ou `detach()`. Vamos ver como:"
      ]
    },
    {
      "cell_type": "code",
      "execution_count": null,
      "metadata": {
        "id": "2LWVcj0C1w2V",
        "colab": {
          "base_uri": "https://localhost:8080/"
        },
        "outputId": "e69676ea-fb0c-410f-c7cc-5f708a30c796"
      },
      "outputs": [
        {
          "output_type": "stream",
          "name": "stdout",
          "text": [
            "False\n",
            "False\n"
          ]
        }
      ],
      "source": [
        "# Desativando o rastreamento de gradientes temporariamente\n",
        "with torch.no_grad():\n",
        "    y = x * 2\n",
        "    print(y.requires_grad)  # False, pois o rastreamento está desativado\n",
        "\n",
        "# Criando um novo tensor sem rastreamento de gradientes\n",
        "x_detached = x.detach()\n",
        "print(x_detached.requires_grad)  # False, pois o tensor foi separado da tape de computação"
      ]
    },
    {
      "cell_type": "markdown",
      "metadata": {
        "id": "sCwgt_mh1w2V"
      },
      "source": [
        "### Verificando se um Tensor Requer Gradiente\n",
        "\n",
        "Podemos verificar se um tensor requer gradiente usando a propriedade `requires_grad`:"
      ]
    },
    {
      "cell_type": "code",
      "execution_count": null,
      "metadata": {
        "id": "zeZcK8pD1w2V",
        "colab": {
          "base_uri": "https://localhost:8080/"
        },
        "outputId": "17811332-d4d0-4fff-c04c-c7d38dfd5de8"
      },
      "outputs": [
        {
          "output_type": "stream",
          "name": "stdout",
          "text": [
            "True\n",
            "False\n"
          ]
        }
      ],
      "source": [
        "print(x.requires_grad)  # True, pois x foi criado com requires_grad=True\n",
        "print(x_detached.requires_grad)  # False, pois x_detached foi separado da tape de computação"
      ]
    },
    {
      "cell_type": "markdown",
      "metadata": {
        "id": "vdyZcmzx1w2V"
      },
      "source": [
        "## Exercícios - PyTorch Básico"
      ]
    },
    {
      "cell_type": "markdown",
      "metadata": {
        "id": "pSvTxjfP1w2V"
      },
      "source": [
        "# Exercício 1: Criação de Tensores\n",
        "\n",
        "1. Crie um tensor 1D com os valores de 1 a 10.\n",
        "2. Crie um tensor 2D de forma (3, 3) com valores aleatórios.\n",
        "3. Crie um tensor 3D de forma (2, 3, 4) com todos os valores iguais a 1.\n",
        "4. Crie um tensor de zeros com as mesmas dimensões do tensor 2D criado no exercício 2.\n",
        "5. Crie um tensor de uns com as mesmas dimensões do tensor 3D criado no exercício 3."
      ]
    },
    {
      "cell_type": "code",
      "source": [
        "# 1. Crie um tensor 1D com os valores de 1 a 10.\n",
        "tensor_1 = torch.arange(1, 11)\n",
        "print(tensor_1)\n",
        "print()\n",
        "\n",
        "# 2. Crie um tensor 2D de forma (3, 3) com valores aleatórios.\n",
        "tensor_2 = torch.rand(3, 3) * 10\n",
        "print(tensor_2)\n",
        "print()\n",
        "\n",
        "# 3. Crie um tensor 3D de forma (2, 3, 4) com todos os valores iguais a 1.\n",
        "tensor_3 = torch.ones(2, 3, 4)\n",
        "print(tensor_3)\n",
        "print()\n",
        "\n",
        "# 4. Crie um tensor de zeros com as mesmas dimensões do tensor 2D criado no exercício 2.\n",
        "tensor_4 = torch.zeros_like(tensor_2)\n",
        "print(tensor_4)\n",
        "print()\n",
        "\n",
        "# 5. Crie um tensor de uns com as mesmas dimensões do tensor 3D criado no exercício 3.\n",
        "tensor_5 = torch.ones_like(tensor_3)\n",
        "print(tensor_5)\n"
      ],
      "metadata": {
        "colab": {
          "base_uri": "https://localhost:8080/"
        },
        "id": "hfUvVXQq8XwW",
        "outputId": "4aec0004-30b9-4fc5-ca81-7faabe55338a"
      },
      "execution_count": 8,
      "outputs": [
        {
          "output_type": "stream",
          "name": "stdout",
          "text": [
            "tensor([ 1,  2,  3,  4,  5,  6,  7,  8,  9, 10])\n",
            "\n",
            "tensor([[5.5303, 4.2286, 5.3975],\n",
            "        [0.5012, 8.2671, 7.8071],\n",
            "        [4.3975, 5.0747, 0.6563]])\n",
            "\n",
            "tensor([[[1., 1., 1., 1.],\n",
            "         [1., 1., 1., 1.],\n",
            "         [1., 1., 1., 1.]],\n",
            "\n",
            "        [[1., 1., 1., 1.],\n",
            "         [1., 1., 1., 1.],\n",
            "         [1., 1., 1., 1.]]])\n",
            "\n",
            "tensor([[0., 0., 0.],\n",
            "        [0., 0., 0.],\n",
            "        [0., 0., 0.]])\n",
            "\n",
            "tensor([[[1., 1., 1., 1.],\n",
            "         [1., 1., 1., 1.],\n",
            "         [1., 1., 1., 1.]],\n",
            "\n",
            "        [[1., 1., 1., 1.],\n",
            "         [1., 1., 1., 1.],\n",
            "         [1., 1., 1., 1.]]])\n"
          ]
        }
      ]
    },
    {
      "cell_type": "markdown",
      "metadata": {
        "id": "Aa60lgF01w2W"
      },
      "source": [
        "### Exercício 2: Manipulação de Tensores\n",
        "\n",
        "1. Dado o tensor `a = torch.tensor([[1, 2], [3, 4], [5, 6]])`, obtenha a primeira coluna.\n",
        "2. Dado o tensor `b = torch.tensor([[[1, 2, 3], [4, 5, 6]], [[7, 8, 9], [10, 11, 12]]])`, obtenha o subtensor `[[7, 8, 9], [10, 11, 12]]`.\n",
        "3. Dado o tensor `c = torch.tensor([1, 2, 3, 4, 5, 6])`, mude sua forma para (2, 3).\n",
        "4. Dado o tensor `d = torch.tensor([1, 2, 3, 4, 5, 6])`, adicione uma dimensão extra para que ele se torne de forma (1, 6)."
      ]
    },
    {
      "cell_type": "code",
      "execution_count": 12,
      "metadata": {
        "id": "v0XW6zXZ1w2W",
        "colab": {
          "base_uri": "https://localhost:8080/"
        },
        "outputId": "5e9f67f7-5248-40d4-b283-fece39b543b0"
      },
      "outputs": [
        {
          "output_type": "stream",
          "name": "stdout",
          "text": [
            "Primeira coluna: tensor([1, 3, 5])\n",
            "\n",
            "Subtensor: tensor([[ 7,  8,  9],\n",
            "        [10, 11, 12]])\n",
            "\n",
            "Tensor reshape para (2, 3):\n",
            " tensor([[1, 2, 3],\n",
            "        [4, 5, 6]])\n",
            "\n",
            "Com dimensão extra (1, 6):\n",
            " tensor([[1, 2, 3, 4, 5, 6]])\n",
            "Forma do tensor: torch.Size([1, 6])\n"
          ]
        }
      ],
      "source": [
        "# Exercício 1 - Obtenha a primeira coluna\n",
        "a = torch.tensor([[1, 2], [3, 4], [5, 6]])\n",
        "print(\"Primeira coluna:\", a[:, 0])\n",
        "print()\n",
        "\n",
        "# Exercício 2 - Obter o subtensor [[7, 8, 9], [10, 11, 12]]\n",
        "b = torch.tensor([[[1, 2, 3], [4, 5, 6]], [[7, 8, 9], [10, 11, 12]]])\n",
        "print(\"Subtensor:\", b[-1, :, :])\n",
        "print()\n",
        "\n",
        "# Exercício 3 - Mude a forma de c para (2, 3)\n",
        "c = torch.tensor([1, 2, 3, 4, 5, 6]).reshape(2, 3)\n",
        "print(\"Tensor reshape para (2, 3):\\n\", c)\n",
        "print()\n",
        "\n",
        "# Exercício 4 - Adicionar uma dimensão extra para que d tenha a forma (1, 6)\n",
        "d = torch.tensor([1, 2, 3, 4, 5, 6])\n",
        "print(\"Com dimensão extra (1, 6):\\n\", d.unsqueeze(0))\n",
        "print(\"Forma do tensor:\", d.unsqueeze(0).shape)\n"
      ]
    },
    {
      "cell_type": "markdown",
      "metadata": {
        "id": "De1OKuDA1w2W"
      },
      "source": [
        "### Exercício 3: Funções de Criação de Tensores\n",
        "\n",
        "1. Crie um tensor contendo valores de 0 a 1, espaçados igualmente em 5 passos.\n",
        "2. Crie um tensor contendo valores de 0 a 10, com um passo de 2.\n",
        "3. Crie um tensor de forma (3, 3) com valores aleatórios entre 0 e 10.\n",
        "4. Crie um tensor correspondente a uma imagem em escala de cinza de dimensões 128x128 com valores aleatórios entre 0 e 255.\n",
        "5. Crie um tensor correspondente a uma imagem em RGB de dimensões 128x128 com valores aleatórios entre 0 e 255."
      ]
    },
    {
      "cell_type": "code",
      "execution_count": 18,
      "metadata": {
        "id": "8iftSHgm1w2W",
        "colab": {
          "base_uri": "https://localhost:8080/"
        },
        "outputId": "e8e17470-b7cb-4b4a-a5a3-8a0758024a81"
      },
      "outputs": [
        {
          "output_type": "stream",
          "name": "stdout",
          "text": [
            "tensor([0.0000, 0.2500, 0.5000, 0.7500, 1.0000])\n",
            "\n",
            "tensor([0, 2, 4, 6, 8])\n",
            "\n",
            "tensor([[4.3584, 3.9818, 6.3911],\n",
            "        [4.8523, 7.2087, 0.0665],\n",
            "        [5.3503, 7.2154, 6.8402]])\n",
            "\n",
            "tensor([[159,  59, 125,  ...,   6, 226, 227],\n",
            "        [162, 126, 122,  ...,  39, 125, 245],\n",
            "        [254, 174,  44,  ..., 137,  12, 126],\n",
            "        ...,\n",
            "        [ 57,  20,  87,  ...,  71,  31,  53],\n",
            "        [232,  99, 244,  ..., 222,   3, 165],\n",
            "        [ 39,  57, 123,  ...,  39,  78,  46]], dtype=torch.uint8)\n",
            "\n",
            "tensor([[[ 24, 132,  20],\n",
            "         [ 27, 191,  67],\n",
            "         [  2, 172, 233],\n",
            "         ...,\n",
            "         [199, 147,  55],\n",
            "         [149,  45, 203],\n",
            "         [ 94,  79, 218]],\n",
            "\n",
            "        [[ 22, 226,  20],\n",
            "         [245, 206,  43],\n",
            "         [206, 129, 123],\n",
            "         ...,\n",
            "         [210, 237, 236],\n",
            "         [ 80, 211,  14],\n",
            "         [132, 191, 138]],\n",
            "\n",
            "        [[116, 221, 195],\n",
            "         [238, 245, 186],\n",
            "         [ 75, 184, 217],\n",
            "         ...,\n",
            "         [  0,  13, 113],\n",
            "         [244, 199, 154],\n",
            "         [ 99, 176, 107]],\n",
            "\n",
            "        ...,\n",
            "\n",
            "        [[  8, 160, 116],\n",
            "         [103, 146, 186],\n",
            "         [ 17,  14, 244],\n",
            "         ...,\n",
            "         [177,  43, 129],\n",
            "         [ 65,  77,  84],\n",
            "         [ 81, 244,  94]],\n",
            "\n",
            "        [[ 53,  48,  76],\n",
            "         [241,  93, 105],\n",
            "         [188,  70,  21],\n",
            "         ...,\n",
            "         [245,  14,   4],\n",
            "         [206,   6,  33],\n",
            "         [127, 105,  60]],\n",
            "\n",
            "        [[  5, 222, 144],\n",
            "         [196, 248, 161],\n",
            "         [138,   9, 124],\n",
            "         ...,\n",
            "         [226, 171, 236],\n",
            "         [229,  67, 197],\n",
            "         [ 86,  13,  94]]], dtype=torch.uint8)\n",
            "\n"
          ]
        }
      ],
      "source": [
        "# 1. Crie um tensor contendo valores de 0 a 1, espaçados igualmente em 5 passos.\n",
        "tensor1 = torch.linspace(0, 1, steps=5)\n",
        "print(tensor1)\n",
        "print()\n",
        "\n",
        "# 2. Crie um tensor contendo valores de 0 a 10, com um passo de 2.\n",
        "tensor2 = torch.arange(0, 10, step=2)\n",
        "print(tensor2)\n",
        "print()\n",
        "\n",
        "# 3. Crie um tensor de forma (3, 3) com valores aleatórios entre 0 e 10.\n",
        "tensor3 = torch.rand(3, 3) * 10\n",
        "print(tensor3)\n",
        "print()\n",
        "\n",
        "#4. Crie um tensor correspondente a uma imagem em escala de cinza de dimensões 128x128 com valores aleatórios entre 0 e 255.\n",
        "gray_image_tensor = torch.randint(0, 256, (128, 128), dtype=torch.uint8)\n",
        "print(gray_image_tensor)\n",
        "print()\n",
        "\n",
        "# 5. Crie um tensor correspondente a uma imagem em RGB de dimensões 128x128 com valores aleatórios entre 0 e 255.\n",
        "rgb_image_tensor = torch.randint(0, 256, (128, 128, 3), dtype=torch.uint8)\n",
        "print(rgb_image_tensor)\n",
        "print()"
      ]
    },
    {
      "cell_type": "markdown",
      "metadata": {
        "id": "E4kj8FI91w2W"
      },
      "source": [
        "### Exercício 4: Operações Avançadas com Tensores\n",
        "\n",
        "1. Dado o tensor `a = torch.tensor([1, 2, 3])` e `b = torch.tensor([[4], [5], [6]])`, calcule a soma de `a` e `b` usando broadcasting.\n",
        "2. Dado o tensor `a = torch.tensor([1.0, 2.0, 3.0, 4.0])`, calcule a soma de todos os elementos.\n",
        "3. Dado o tensor `a = torch.tensor([1.0, 2.0, 3.0, 4.0])`, calcule a média de todos os elementos.\n",
        "4. Dado o tensor `a = torch.tensor([1.0, 2.0, 3.0, 4.0])`, calcule a raiz quadrada de todos os elementos."
      ]
    },
    {
      "cell_type": "code",
      "source": [
        "# 1. Dado o tensor a = torch.tensor([1, 2, 3]) e b = torch.tensor([[4], [5], [6]]), calcule a soma de a e b usando broadcasting.\n",
        "a = torch.tensor([1, 2, 3])\n",
        "b = torch.tensor([[4], [5], [6]])\n",
        "result_1 = a + b\n",
        "print(result_1)\n",
        "print()\n",
        "\n",
        "# 2. Dado o tensor a = torch.tensor([1.0, 2.0, 3.0, 4.0]), calcule a soma de todos os elementos.\n",
        "a = torch.tensor([1.0, 2.0, 3.0, 4.0])\n",
        "soma = torch.sum(a)\n",
        "print(\"Soma de todos os elementos:\", soma.item())\n",
        "print()\n",
        "\n",
        "# 3. Dado o tensor a = torch.tensor([1.0, 2.0, 3.0, 4.0]), calcule a média de todos os elementos.\n",
        "a = torch.tensor([1.0, 2.0, 3.0, 4.0])\n",
        "media = torch.mean(a)\n",
        "print(\"Média de todos os elementos:\", media.item())\n",
        "print()\n",
        "\n",
        "# 4. Dado o tensor a = torch.tensor([1.0, 2.0, 3.0, 4.0]), calcule a raiz quadrada de todos os elementos.\n",
        "a = torch.tensor([1.0, 2.0, 3.0, 4.0])\n",
        "raiz_quadrada = torch.sqrt(a)\n",
        "print(\"Raiz quadrada de todos os elementos:\", raiz_quadrada)"
      ],
      "metadata": {
        "colab": {
          "base_uri": "https://localhost:8080/"
        },
        "id": "vwuuDaGROoNy",
        "outputId": "c6861930-e2d7-4dd8-83c4-a8313783fafd"
      },
      "execution_count": 22,
      "outputs": [
        {
          "output_type": "stream",
          "name": "stdout",
          "text": [
            "tensor([[5, 6, 7],\n",
            "        [6, 7, 8],\n",
            "        [7, 8, 9]])\n",
            "\n",
            "Soma de todos os elementos: 10.0\n",
            "\n",
            "Média de todos os elementos: 2.5\n",
            "\n",
            "Raiz quadrada de todos os elementos: tensor([1.0000, 1.4142, 1.7321, 2.0000])\n"
          ]
        }
      ]
    },
    {
      "cell_type": "markdown",
      "metadata": {
        "id": "1cKomFIl1w2W"
      },
      "source": [
        "### Exercício 5: Autograd e Backpropagation\n",
        "\n",
        "1. Crie um tensor `x` com os valores `[2.0, 3.0]` e `requires_grad=True`. Calcule `y = x^2` e os gradientes.\n",
        "2. Crie um tensor `x` com o valor `3.0` e `requires_grad=True`. Calcule `y = 2*x + 1` e o gradiente.\n",
        "3. Crie um tensor `x` com os valores `[1.0, 2.0, 3.0]` e `requires_grad=True`. Calcule `y = x^3` e os gradientes."
      ]
    },
    {
      "cell_type": "code",
      "execution_count": 26,
      "metadata": {
        "id": "XsZ-seyq1w2W",
        "colab": {
          "base_uri": "https://localhost:8080/"
        },
        "outputId": "799f992a-bdf7-4a90-8fde-cb9d160afb30"
      },
      "outputs": [
        {
          "output_type": "stream",
          "name": "stdout",
          "text": [
            "tensor(13., grad_fn=<SumBackward0>)\n",
            "tensor([4., 6.])\n",
            "\n",
            "tensor(7., grad_fn=<SumBackward0>)\n",
            "tensor([2.])\n",
            "\n",
            "tensor(36., grad_fn=<SumBackward0>)\n",
            "tensor([ 3., 12., 27.])\n"
          ]
        }
      ],
      "source": [
        "# 1. Crie um tensor x com os valores [2.0, 3.0] e requires_grad=True. Calcule y = x^2 e os gradientes.\n",
        "x1 = torch.tensor([2.0, 3.0], requires_grad=True)\n",
        "y1 = x1 ** 2\n",
        "z1 = y1.sum()\n",
        "print(z1)\n",
        "z1.backward()\n",
        "print(x1.grad)\n",
        "print()\n",
        "\n",
        "# 2. Crie um tensor x com o valor 3.0 e requires_grad=True. Calcule y = 2*x + 1 e o gradiente.\n",
        "x2 = torch.tensor([3.0], requires_grad=True)\n",
        "y2 = 2*x2 + 1\n",
        "z2 = y2.sum()\n",
        "print(z2)\n",
        "z2.backward()\n",
        "print(x2.grad)\n",
        "print()\n",
        "\n",
        "# 3. Crie um tensor x com os valores [1.0, 2.0, 3.0] e requires_grad=True. Calcule y = x^3 e os gradientes\n",
        "x3 = torch.tensor([1.0, 2.0, 3.0], requires_grad=True)\n",
        "y3 = x3 ** 3\n",
        "z3 = y3.sum()\n",
        "print(z3)\n",
        "z3.backward()\n",
        "print(x3.grad)"
      ]
    },
    {
      "cell_type": "markdown",
      "metadata": {
        "id": "2u6Q4l7h1w2W"
      },
      "source": [
        "### Exercício 6: Operações de Redução\n",
        "\n",
        "1. Crie um tensor de forma (4, 5) contendo valores de 1 a 20 usando `torch.arange`. Em seguida, calcule a soma de todos os elementos do tensor.\n",
        "\n",
        "2. Crie um tensor de forma (3, 4) com valores aleatórios entre 0 e 1 usando `torch.rand`. Calcule a média dos elementos ao longo do eixo 1 (colunas).\n",
        "\n",
        "3. Crie um tensor de forma (5, 5) contendo valores espaçados igualmente de 0 a 24 usando `torch.linspace`. Encontre o valor mínimo e o máximo de todos os elementos do tensor.\n",
        "\n",
        "4. Crie um tensor de forma (3, 6) com valores inteiros aleatórios entre 10 e 50 usando `torch.randint`. Calcule o produto dos elementos ao longo do eixo 0 (linhas).\n",
        "\n",
        "5. Crie um tensor de forma (2, 3, 4) com valores aleatórios entre 0 e 1 usando `torch.rand`. Encontre a soma dos elementos ao longo do eixo 2."
      ]
    },
    {
      "cell_type": "code",
      "execution_count": 34,
      "metadata": {
        "id": "BtK_jRr91w2X",
        "colab": {
          "base_uri": "https://localhost:8080/"
        },
        "outputId": "23050b44-ffa3-440b-8ba8-0c0bbd7910a3"
      },
      "outputs": [
        {
          "output_type": "stream",
          "name": "stdout",
          "text": [
            "tensor([[ 1,  2,  3,  4,  5],\n",
            "        [ 6,  7,  8,  9, 10],\n",
            "        [11, 12, 13, 14, 15],\n",
            "        [16, 17, 18, 19, 20]])\n",
            "\n",
            "Soma dos elementos:  tensor(210)\n",
            "--------------------------------------\n",
            "\n",
            "tensor([[0.9141, 0.7329, 0.5812, 0.2099],\n",
            "        [0.4790, 0.3917, 0.0464, 0.5887],\n",
            "        [0.2213, 0.6680, 0.6927, 0.7792]])\n",
            "\n",
            "Média dos elementos:  tensor([0.6095, 0.3765, 0.5903])\n",
            "--------------------------------------\n",
            "\n",
            "tensor([[ 0.,  1.,  2.,  3.,  4.],\n",
            "        [ 5.,  6.,  7.,  8.,  9.],\n",
            "        [10., 11., 12., 13., 14.],\n",
            "        [15., 16., 17., 18., 19.],\n",
            "        [20., 21., 22., 23., 24.]])\n",
            "\n",
            "Valor mínimo:  tensor(0.)\n",
            "Valor máximo:  tensor(24.)\n",
            "--------------------------------------\n",
            "\n",
            "tensor([[16, 40, 33, 10, 24, 45],\n",
            "        [29, 43, 38, 31, 31, 30],\n",
            "        [28, 10, 15, 42, 24, 44]])\n",
            "\n",
            "Produto ao longo do eixo 0 (linhas): tensor([12992, 17200, 18810, 13020, 17856, 59400])\n",
            "--------------------------------------\n",
            "\n",
            "tensor([[[0.8433, 0.3041, 0.8861, 0.2404],\n",
            "         [0.9450, 0.3172, 0.2442, 0.0977],\n",
            "         [0.7921, 0.1604, 0.1309, 0.9050]],\n",
            "\n",
            "        [[0.5022, 0.6304, 0.8577, 0.3602],\n",
            "         [0.6426, 0.1208, 0.6797, 0.2597],\n",
            "         [0.0956, 0.4832, 0.4313, 0.2497]]])\n",
            "\n",
            "Soma ao longo do eixo 2: tensor([[2.2738, 1.6042, 1.9885],\n",
            "        [2.3505, 1.7027, 1.2597]])\n"
          ]
        }
      ],
      "source": [
        "# 1. Crie um tensor de forma (4, 5) contendo valores de 1 a 20 usando `torch.arange`. Em seguida, calcule a soma de todos os elementos do tensor.\n",
        "t_1 = torch.arange(1, 21).reshape(4, 5)\n",
        "print(t_1)\n",
        "print()\n",
        "print('Soma dos elementos: ', t_1.sum())\n",
        "print('--------------------------------------')\n",
        "print()\n",
        "\n",
        "\n",
        "# 2. Crie um tensor de forma (3, 4) com valores aleatórios entre 0 e 1 usando `torch.rand`. Calcule a média dos elementos ao longo do eixo 1 (colunas).\n",
        "t_2 = torch.rand(3, 4)\n",
        "print(t_2)\n",
        "print()\n",
        "print('Média dos elementos: ', t_2.mean(dim=1))\n",
        "print('--------------------------------------')\n",
        "print()\n",
        "\n",
        "\n",
        "# 3. Crie um tensor de forma (5, 5) contendo valores espaçados igualmente de 0 a 24 usando `torch.linspace`. Encontre o valor mínimo e o máximo de todos os elementos do tensor.\n",
        "t_3 = torch.linspace(0, 24, steps=25).reshape(5, 5)\n",
        "print(t_3)\n",
        "print()\n",
        "print('Valor mínimo: ', t_3.min())\n",
        "print('Valor máximo: ', t_3.max())\n",
        "print('--------------------------------------')\n",
        "print()\n",
        "\n",
        "# 4. Crie um tensor de forma (3, 6) com valores inteiros aleatórios entre 10 e 50 usando `torch.randint`. Calcule o produto dos elementos ao longo do eixo 0 (linhas).\n",
        "t_4 = torch.randint(10, 50, (3, 6))\n",
        "print(t_4)\n",
        "print()\n",
        "print(\"Produto ao longo do eixo 0 (linhas):\", torch.prod(t_4, dim=0))\n",
        "print('--------------------------------------')\n",
        "print()\n",
        "\n",
        "# 5. Crie um tensor de forma (2, 3, 4) com valores aleatórios entre 0 e 1 usando `torch.rand`. Encontre a soma dos elementos ao longo do eixo 2.\n",
        "t_5 = torch.rand(2, 3, 4)\n",
        "print(t_5)\n",
        "print()\n",
        "print(\"Soma ao longo do eixo 2:\", torch.sum(t_5, dim=2))"
      ]
    }
  ],
  "metadata": {
    "kernelspec": {
      "display_name": "Python 3",
      "name": "python3"
    },
    "language_info": {
      "codemirror_mode": {
        "name": "ipython",
        "version": 3
      },
      "file_extension": ".py",
      "mimetype": "text/x-python",
      "name": "python",
      "nbconvert_exporter": "python",
      "pygments_lexer": "ipython3",
      "version": "3.10.13"
    },
    "colab": {
      "provenance": [],
      "toc_visible": true
    }
  },
  "nbformat": 4,
  "nbformat_minor": 0
}