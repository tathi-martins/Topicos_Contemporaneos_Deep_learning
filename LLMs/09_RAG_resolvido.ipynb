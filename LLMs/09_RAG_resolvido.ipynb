{
  "cells": [
    {
      "cell_type": "code",
      "source": [
        "!pip install langchain_openai"
      ],
      "metadata": {
        "colab": {
          "base_uri": "https://localhost:8080/"
        },
        "collapsed": true,
        "id": "Lgy2088dk3tt",
        "outputId": "c4f8c594-d6f5-47c2-c6d6-2632f0b8553f"
      },
      "execution_count": null,
      "outputs": [
        {
          "output_type": "stream",
          "name": "stdout",
          "text": [
            "Requirement already satisfied: langchain_openai in /usr/local/lib/python3.10/dist-packages (0.2.14)\n",
            "Requirement already satisfied: langchain-core<0.4.0,>=0.3.27 in /usr/local/lib/python3.10/dist-packages (from langchain_openai) (0.3.28)\n",
            "Requirement already satisfied: openai<2.0.0,>=1.58.1 in /usr/local/lib/python3.10/dist-packages (from langchain_openai) (1.58.1)\n",
            "Requirement already satisfied: tiktoken<1,>=0.7 in /usr/local/lib/python3.10/dist-packages (from langchain_openai) (0.8.0)\n",
            "Requirement already satisfied: PyYAML>=5.3 in /usr/local/lib/python3.10/dist-packages (from langchain-core<0.4.0,>=0.3.27->langchain_openai) (6.0.2)\n",
            "Requirement already satisfied: jsonpatch<2.0,>=1.33 in /usr/local/lib/python3.10/dist-packages (from langchain-core<0.4.0,>=0.3.27->langchain_openai) (1.33)\n",
            "Requirement already satisfied: langsmith<0.3,>=0.1.125 in /usr/local/lib/python3.10/dist-packages (from langchain-core<0.4.0,>=0.3.27->langchain_openai) (0.2.3)\n",
            "Requirement already satisfied: packaging<25,>=23.2 in /usr/local/lib/python3.10/dist-packages (from langchain-core<0.4.0,>=0.3.27->langchain_openai) (24.2)\n",
            "Requirement already satisfied: pydantic<3.0.0,>=2.5.2 in /usr/local/lib/python3.10/dist-packages (from langchain-core<0.4.0,>=0.3.27->langchain_openai) (2.10.3)\n",
            "Requirement already satisfied: tenacity!=8.4.0,<10.0.0,>=8.1.0 in /usr/local/lib/python3.10/dist-packages (from langchain-core<0.4.0,>=0.3.27->langchain_openai) (9.0.0)\n",
            "Requirement already satisfied: typing-extensions>=4.7 in /usr/local/lib/python3.10/dist-packages (from langchain-core<0.4.0,>=0.3.27->langchain_openai) (4.12.2)\n",
            "Requirement already satisfied: anyio<5,>=3.5.0 in /usr/local/lib/python3.10/dist-packages (from openai<2.0.0,>=1.58.1->langchain_openai) (3.7.1)\n",
            "Requirement already satisfied: distro<2,>=1.7.0 in /usr/local/lib/python3.10/dist-packages (from openai<2.0.0,>=1.58.1->langchain_openai) (1.9.0)\n",
            "Requirement already satisfied: httpx<1,>=0.23.0 in /usr/local/lib/python3.10/dist-packages (from openai<2.0.0,>=1.58.1->langchain_openai) (0.28.1)\n",
            "Requirement already satisfied: jiter<1,>=0.4.0 in /usr/local/lib/python3.10/dist-packages (from openai<2.0.0,>=1.58.1->langchain_openai) (0.8.2)\n",
            "Requirement already satisfied: sniffio in /usr/local/lib/python3.10/dist-packages (from openai<2.0.0,>=1.58.1->langchain_openai) (1.3.1)\n",
            "Requirement already satisfied: tqdm>4 in /usr/local/lib/python3.10/dist-packages (from openai<2.0.0,>=1.58.1->langchain_openai) (4.67.1)\n",
            "Requirement already satisfied: regex>=2022.1.18 in /usr/local/lib/python3.10/dist-packages (from tiktoken<1,>=0.7->langchain_openai) (2024.11.6)\n",
            "Requirement already satisfied: requests>=2.26.0 in /usr/local/lib/python3.10/dist-packages (from tiktoken<1,>=0.7->langchain_openai) (2.32.3)\n",
            "Requirement already satisfied: idna>=2.8 in /usr/local/lib/python3.10/dist-packages (from anyio<5,>=3.5.0->openai<2.0.0,>=1.58.1->langchain_openai) (3.10)\n",
            "Requirement already satisfied: exceptiongroup in /usr/local/lib/python3.10/dist-packages (from anyio<5,>=3.5.0->openai<2.0.0,>=1.58.1->langchain_openai) (1.2.2)\n",
            "Requirement already satisfied: certifi in /usr/local/lib/python3.10/dist-packages (from httpx<1,>=0.23.0->openai<2.0.0,>=1.58.1->langchain_openai) (2024.12.14)\n",
            "Requirement already satisfied: httpcore==1.* in /usr/local/lib/python3.10/dist-packages (from httpx<1,>=0.23.0->openai<2.0.0,>=1.58.1->langchain_openai) (1.0.7)\n",
            "Requirement already satisfied: h11<0.15,>=0.13 in /usr/local/lib/python3.10/dist-packages (from httpcore==1.*->httpx<1,>=0.23.0->openai<2.0.0,>=1.58.1->langchain_openai) (0.14.0)\n",
            "Requirement already satisfied: jsonpointer>=1.9 in /usr/local/lib/python3.10/dist-packages (from jsonpatch<2.0,>=1.33->langchain-core<0.4.0,>=0.3.27->langchain_openai) (3.0.0)\n",
            "Requirement already satisfied: orjson<4.0.0,>=3.9.14 in /usr/local/lib/python3.10/dist-packages (from langsmith<0.3,>=0.1.125->langchain-core<0.4.0,>=0.3.27->langchain_openai) (3.10.12)\n",
            "Requirement already satisfied: requests-toolbelt<2.0.0,>=1.0.0 in /usr/local/lib/python3.10/dist-packages (from langsmith<0.3,>=0.1.125->langchain-core<0.4.0,>=0.3.27->langchain_openai) (1.0.0)\n",
            "Requirement already satisfied: annotated-types>=0.6.0 in /usr/local/lib/python3.10/dist-packages (from pydantic<3.0.0,>=2.5.2->langchain-core<0.4.0,>=0.3.27->langchain_openai) (0.7.0)\n",
            "Requirement already satisfied: pydantic-core==2.27.1 in /usr/local/lib/python3.10/dist-packages (from pydantic<3.0.0,>=2.5.2->langchain-core<0.4.0,>=0.3.27->langchain_openai) (2.27.1)\n",
            "Requirement already satisfied: charset-normalizer<4,>=2 in /usr/local/lib/python3.10/dist-packages (from requests>=2.26.0->tiktoken<1,>=0.7->langchain_openai) (3.4.0)\n",
            "Requirement already satisfied: urllib3<3,>=1.21.1 in /usr/local/lib/python3.10/dist-packages (from requests>=2.26.0->tiktoken<1,>=0.7->langchain_openai) (1.26.20)\n"
          ]
        }
      ]
    },
    {
      "cell_type": "code",
      "source": [
        "!pip install langchain_community"
      ],
      "metadata": {
        "colab": {
          "base_uri": "https://localhost:8080/"
        },
        "collapsed": true,
        "id": "betEu1IPlciI",
        "outputId": "d9aa3ce0-600f-4874-b2b0-acef59ae6fbf"
      },
      "execution_count": null,
      "outputs": [
        {
          "output_type": "stream",
          "name": "stdout",
          "text": [
            "Requirement already satisfied: langchain_community in /usr/local/lib/python3.10/dist-packages (0.3.13)\n",
            "Requirement already satisfied: PyYAML>=5.3 in /usr/local/lib/python3.10/dist-packages (from langchain_community) (6.0.2)\n",
            "Requirement already satisfied: SQLAlchemy<3,>=1.4 in /usr/local/lib/python3.10/dist-packages (from langchain_community) (2.0.36)\n",
            "Requirement already satisfied: aiohttp<4.0.0,>=3.8.3 in /usr/local/lib/python3.10/dist-packages (from langchain_community) (3.11.10)\n",
            "Requirement already satisfied: dataclasses-json<0.7,>=0.5.7 in /usr/local/lib/python3.10/dist-packages (from langchain_community) (0.6.7)\n",
            "Requirement already satisfied: httpx-sse<0.5.0,>=0.4.0 in /usr/local/lib/python3.10/dist-packages (from langchain_community) (0.4.0)\n",
            "Requirement already satisfied: langchain<0.4.0,>=0.3.13 in /usr/local/lib/python3.10/dist-packages (from langchain_community) (0.3.13)\n",
            "Requirement already satisfied: langchain-core<0.4.0,>=0.3.27 in /usr/local/lib/python3.10/dist-packages (from langchain_community) (0.3.28)\n",
            "Requirement already satisfied: langsmith<0.3,>=0.1.125 in /usr/local/lib/python3.10/dist-packages (from langchain_community) (0.2.3)\n",
            "Requirement already satisfied: numpy<2,>=1.22.4 in /usr/local/lib/python3.10/dist-packages (from langchain_community) (1.26.4)\n",
            "Requirement already satisfied: pydantic-settings<3.0.0,>=2.4.0 in /usr/local/lib/python3.10/dist-packages (from langchain_community) (2.7.0)\n",
            "Requirement already satisfied: requests<3,>=2 in /usr/local/lib/python3.10/dist-packages (from langchain_community) (2.32.3)\n",
            "Requirement already satisfied: tenacity!=8.4.0,<10,>=8.1.0 in /usr/local/lib/python3.10/dist-packages (from langchain_community) (9.0.0)\n",
            "Requirement already satisfied: aiohappyeyeballs>=2.3.0 in /usr/local/lib/python3.10/dist-packages (from aiohttp<4.0.0,>=3.8.3->langchain_community) (2.4.4)\n",
            "Requirement already satisfied: aiosignal>=1.1.2 in /usr/local/lib/python3.10/dist-packages (from aiohttp<4.0.0,>=3.8.3->langchain_community) (1.3.2)\n",
            "Requirement already satisfied: async-timeout<6.0,>=4.0 in /usr/local/lib/python3.10/dist-packages (from aiohttp<4.0.0,>=3.8.3->langchain_community) (4.0.3)\n",
            "Requirement already satisfied: attrs>=17.3.0 in /usr/local/lib/python3.10/dist-packages (from aiohttp<4.0.0,>=3.8.3->langchain_community) (24.3.0)\n",
            "Requirement already satisfied: frozenlist>=1.1.1 in /usr/local/lib/python3.10/dist-packages (from aiohttp<4.0.0,>=3.8.3->langchain_community) (1.5.0)\n",
            "Requirement already satisfied: multidict<7.0,>=4.5 in /usr/local/lib/python3.10/dist-packages (from aiohttp<4.0.0,>=3.8.3->langchain_community) (6.1.0)\n",
            "Requirement already satisfied: propcache>=0.2.0 in /usr/local/lib/python3.10/dist-packages (from aiohttp<4.0.0,>=3.8.3->langchain_community) (0.2.1)\n",
            "Requirement already satisfied: yarl<2.0,>=1.17.0 in /usr/local/lib/python3.10/dist-packages (from aiohttp<4.0.0,>=3.8.3->langchain_community) (1.18.3)\n",
            "Requirement already satisfied: marshmallow<4.0.0,>=3.18.0 in /usr/local/lib/python3.10/dist-packages (from dataclasses-json<0.7,>=0.5.7->langchain_community) (3.23.2)\n",
            "Requirement already satisfied: typing-inspect<1,>=0.4.0 in /usr/local/lib/python3.10/dist-packages (from dataclasses-json<0.7,>=0.5.7->langchain_community) (0.9.0)\n",
            "Requirement already satisfied: langchain-text-splitters<0.4.0,>=0.3.3 in /usr/local/lib/python3.10/dist-packages (from langchain<0.4.0,>=0.3.13->langchain_community) (0.3.3)\n",
            "Requirement already satisfied: pydantic<3.0.0,>=2.7.4 in /usr/local/lib/python3.10/dist-packages (from langchain<0.4.0,>=0.3.13->langchain_community) (2.10.3)\n",
            "Requirement already satisfied: jsonpatch<2.0,>=1.33 in /usr/local/lib/python3.10/dist-packages (from langchain-core<0.4.0,>=0.3.27->langchain_community) (1.33)\n",
            "Requirement already satisfied: packaging<25,>=23.2 in /usr/local/lib/python3.10/dist-packages (from langchain-core<0.4.0,>=0.3.27->langchain_community) (24.2)\n",
            "Requirement already satisfied: typing-extensions>=4.7 in /usr/local/lib/python3.10/dist-packages (from langchain-core<0.4.0,>=0.3.27->langchain_community) (4.12.2)\n",
            "Requirement already satisfied: httpx<1,>=0.23.0 in /usr/local/lib/python3.10/dist-packages (from langsmith<0.3,>=0.1.125->langchain_community) (0.28.1)\n",
            "Requirement already satisfied: orjson<4.0.0,>=3.9.14 in /usr/local/lib/python3.10/dist-packages (from langsmith<0.3,>=0.1.125->langchain_community) (3.10.12)\n",
            "Requirement already satisfied: requests-toolbelt<2.0.0,>=1.0.0 in /usr/local/lib/python3.10/dist-packages (from langsmith<0.3,>=0.1.125->langchain_community) (1.0.0)\n",
            "Requirement already satisfied: python-dotenv>=0.21.0 in /usr/local/lib/python3.10/dist-packages (from pydantic-settings<3.0.0,>=2.4.0->langchain_community) (1.0.1)\n",
            "Requirement already satisfied: charset-normalizer<4,>=2 in /usr/local/lib/python3.10/dist-packages (from requests<3,>=2->langchain_community) (3.4.0)\n",
            "Requirement already satisfied: idna<4,>=2.5 in /usr/local/lib/python3.10/dist-packages (from requests<3,>=2->langchain_community) (3.10)\n",
            "Requirement already satisfied: urllib3<3,>=1.21.1 in /usr/local/lib/python3.10/dist-packages (from requests<3,>=2->langchain_community) (1.26.20)\n",
            "Requirement already satisfied: certifi>=2017.4.17 in /usr/local/lib/python3.10/dist-packages (from requests<3,>=2->langchain_community) (2024.12.14)\n",
            "Requirement already satisfied: greenlet!=0.4.17 in /usr/local/lib/python3.10/dist-packages (from SQLAlchemy<3,>=1.4->langchain_community) (3.1.1)\n",
            "Requirement already satisfied: anyio in /usr/local/lib/python3.10/dist-packages (from httpx<1,>=0.23.0->langsmith<0.3,>=0.1.125->langchain_community) (3.7.1)\n",
            "Requirement already satisfied: httpcore==1.* in /usr/local/lib/python3.10/dist-packages (from httpx<1,>=0.23.0->langsmith<0.3,>=0.1.125->langchain_community) (1.0.7)\n",
            "Requirement already satisfied: h11<0.15,>=0.13 in /usr/local/lib/python3.10/dist-packages (from httpcore==1.*->httpx<1,>=0.23.0->langsmith<0.3,>=0.1.125->langchain_community) (0.14.0)\n",
            "Requirement already satisfied: jsonpointer>=1.9 in /usr/local/lib/python3.10/dist-packages (from jsonpatch<2.0,>=1.33->langchain-core<0.4.0,>=0.3.27->langchain_community) (3.0.0)\n",
            "Requirement already satisfied: annotated-types>=0.6.0 in /usr/local/lib/python3.10/dist-packages (from pydantic<3.0.0,>=2.7.4->langchain<0.4.0,>=0.3.13->langchain_community) (0.7.0)\n",
            "Requirement already satisfied: pydantic-core==2.27.1 in /usr/local/lib/python3.10/dist-packages (from pydantic<3.0.0,>=2.7.4->langchain<0.4.0,>=0.3.13->langchain_community) (2.27.1)\n",
            "Requirement already satisfied: mypy-extensions>=0.3.0 in /usr/local/lib/python3.10/dist-packages (from typing-inspect<1,>=0.4.0->dataclasses-json<0.7,>=0.5.7->langchain_community) (1.0.0)\n",
            "Requirement already satisfied: sniffio>=1.1 in /usr/local/lib/python3.10/dist-packages (from anyio->httpx<1,>=0.23.0->langsmith<0.3,>=0.1.125->langchain_community) (1.3.1)\n",
            "Requirement already satisfied: exceptiongroup in /usr/local/lib/python3.10/dist-packages (from anyio->httpx<1,>=0.23.0->langsmith<0.3,>=0.1.125->langchain_community) (1.2.2)\n"
          ]
        }
      ]
    },
    {
      "cell_type": "code",
      "source": [
        "!pip install faiss-cpu"
      ],
      "metadata": {
        "colab": {
          "base_uri": "https://localhost:8080/"
        },
        "collapsed": true,
        "id": "xV5XeHmyoPDb",
        "outputId": "0e25aa13-a182-4e37-8977-015420cf929b"
      },
      "execution_count": null,
      "outputs": [
        {
          "output_type": "stream",
          "name": "stdout",
          "text": [
            "Requirement already satisfied: faiss-cpu in /usr/local/lib/python3.10/dist-packages (1.9.0.post1)\n",
            "Requirement already satisfied: numpy<3.0,>=1.25.0 in /usr/local/lib/python3.10/dist-packages (from faiss-cpu) (1.26.4)\n",
            "Requirement already satisfied: packaging in /usr/local/lib/python3.10/dist-packages (from faiss-cpu) (24.2)\n"
          ]
        }
      ]
    },
    {
      "cell_type": "code",
      "execution_count": null,
      "metadata": {
        "id": "WiYoFyQmVAYJ",
        "colab": {
          "base_uri": "https://localhost:8080/"
        },
        "outputId": "0ae6bd88-e433-40c3-ba9a-d3e606736c13"
      },
      "outputs": [
        {
          "name": "stdout",
          "output_type": "stream",
          "text": [
            "··········\n"
          ]
        }
      ],
      "source": [
        "import getpass\n",
        "import os\n",
        "\n",
        "os.environ[\"OPENAI_API_KEY\"] = getpass.getpass()"
      ]
    },
    {
      "cell_type": "markdown",
      "metadata": {
        "id": "_UX2k3jPVAYL"
      },
      "source": [
        "## Retrieval Augmented Generation (RAG)"
      ]
    },
    {
      "cell_type": "markdown",
      "metadata": {
        "id": "1k2utoSBVAYM"
      },
      "source": [
        "### Carregando Documentos - Loading"
      ]
    },
    {
      "cell_type": "code",
      "execution_count": null,
      "metadata": {
        "id": "rkitlp8aVAYN",
        "colab": {
          "base_uri": "https://localhost:8080/"
        },
        "outputId": "0f431487-5187-4cc1-f44f-39f4e04b45c7"
      },
      "outputs": [
        {
          "output_type": "execute_result",
          "data": {
            "text/plain": [
              "4301"
            ]
          },
          "metadata": {},
          "execution_count": 31
        }
      ],
      "source": [
        "# https://python.langchain.com/docs/how_to/document_loader_html/\n",
        "# https://python.langchain.com/docs/integrations/document_loaders/\n",
        "\n",
        "import bs4\n",
        "from langchain_community.document_loaders import WebBaseLoader\n",
        "\n",
        "# Filtra o conteúdo da página por uma classe específica\n",
        "bs4_strainer = bs4.SoupStrainer(class_=(\"container-wrapper\"))\n",
        "\n",
        "# Carrega o conteúdo da página\n",
        "loader = WebBaseLoader(\n",
        "    web_paths=(\"https://cesar.breezy.hr/p/00f79174d8ad-pesquisador-em-inteligencia-artificial-e-sistemas-distribuidos\",),\n",
        "    bs_kwargs={\"parse_only\": bs4_strainer},\n",
        ")\n",
        "\n",
        "# Carrega o conteúdo da página\n",
        "docs = loader.load()\n",
        "\n",
        "len(docs[0].page_content)"
      ]
    },
    {
      "cell_type": "markdown",
      "source": [],
      "metadata": {
        "id": "Aswaa6guOopZ"
      }
    },
    {
      "cell_type": "markdown",
      "metadata": {
        "id": "IfLsR-2TVAYN"
      },
      "source": [
        "### Dividindo Documentos - Splitting/Chunking"
      ]
    },
    {
      "cell_type": "code",
      "execution_count": null,
      "metadata": {
        "id": "JPRAoaG1VAYN",
        "colab": {
          "base_uri": "https://localhost:8080/"
        },
        "outputId": "72b653ea-2b8b-4f0c-d498-021807b7e7d5"
      },
      "outputs": [
        {
          "output_type": "execute_result",
          "data": {
            "text/plain": [
              "6"
            ]
          },
          "metadata": {},
          "execution_count": 18
        }
      ],
      "source": [
        "# https://python.langchain.com/v0.2/docs/how_to/#text-splitters\n",
        "\n",
        "from langchain_text_splitters import RecursiveCharacterTextSplitter\n",
        "\n",
        "text_splitter = RecursiveCharacterTextSplitter(\n",
        "    chunk_size=1000, chunk_overlap=500, add_start_index=True\n",
        ")\n",
        "all_splits = text_splitter.split_documents(docs)\n",
        "\n",
        "len(all_splits)"
      ]
    },
    {
      "cell_type": "code",
      "execution_count": null,
      "metadata": {
        "id": "phP3vLiPVAYO",
        "colab": {
          "base_uri": "https://localhost:8080/"
        },
        "outputId": "e2fe4746-04a6-4a94-f158-25bc46eab6d3"
      },
      "outputs": [
        {
          "output_type": "stream",
          "name": "stdout",
          "text": [
            "Requisitos e Qualificações:\n",
            "Doutorado em áreas correlatas;Compreenda e desenvolva modelos de machine learning e deep learning para resolver desafios complexos de cibersegurança;Conhecimento em frameworks de machine learning como TensorFlow, PyTorch ou scikit-learn para desenvolver modelos preditivos e de detecção de anomalias aplicados à cibersegurança;Entenda a arquitetura distribuída dos sistemas e garanta a integração eficiente de soluções de IA com aplicações em cloud;Habilidade em manipulação e visualização de dados com Pandas, NumPy, Matplotlib e Seaborn para explorar grandes volumes de dados;Experiência com AWS, Google Cloud ou Azure para projetar e implementar infraestruturas escaláveis e resilientes;Familiaridade com Kubernetes e Docker para garantir escalabilidade e resiliência de sistemas distribuídos;Experiência com controle de versão (Git) e repositórios remotos como GitLab;Inglês avançado para leitura, escrita e comunicação, facilitando a colaboração com equipes globais.\n"
          ]
        }
      ],
      "source": [
        "print(all_splits[3].page_content)"
      ]
    },
    {
      "cell_type": "markdown",
      "metadata": {
        "id": "_fxpEzXUVAYO"
      },
      "source": [
        "### Indexando - Store"
      ]
    },
    {
      "cell_type": "code",
      "execution_count": null,
      "metadata": {
        "id": "WOxrIWq9VAYO"
      },
      "outputs": [],
      "source": [
        "# https://python.langchain.com/v0.2/docs/how_to/embed_text/\n",
        "\n",
        "from langchain_community.vectorstores import FAISS\n",
        "from langchain_openai import OpenAIEmbeddings\n",
        "\n",
        "vectorstore = FAISS.from_documents(all_splits, OpenAIEmbeddings())"
      ]
    },
    {
      "cell_type": "code",
      "execution_count": null,
      "metadata": {
        "id": "2IKnQOoTVAYP",
        "colab": {
          "base_uri": "https://localhost:8080/"
        },
        "outputId": "894842f5-d215-49c9-b97c-0631d947e5b7"
      },
      "outputs": [
        {
          "output_type": "execute_result",
          "data": {
            "text/plain": [
              "6"
            ]
          },
          "metadata": {},
          "execution_count": 21
        }
      ],
      "source": [
        "retriever = vectorstore.as_retriever(search_type=\"similarity\", search_kwargs={\"k\": 6})\n",
        "\n",
        "retrieved_docs = retriever.invoke(\"precisa de doutorado para a vaga?\")\n",
        "\n",
        "len(retrieved_docs)"
      ]
    },
    {
      "cell_type": "code",
      "execution_count": null,
      "metadata": {
        "id": "siLMXq7AVAYP",
        "colab": {
          "base_uri": "https://localhost:8080/"
        },
        "outputId": "6bf23d47-92b9-4496-af78-d46a08810729"
      },
      "outputs": [
        {
          "output_type": "stream",
          "name": "stdout",
          "text": [
            "Requisitos e Qualificações:\n",
            "Doutorado em áreas correlatas;Compreenda e desenvolva modelos de machine learning e deep learning para resolver desafios complexos de cibersegurança;Conhecimento em frameworks de machine learning como TensorFlow, PyTorch ou scikit-learn para desenvolver modelos preditivos e de detecção de anomalias aplicados à cibersegurança;Entenda a arquitetura distribuída dos sistemas e garanta a integração eficiente de soluções de IA com aplicações em cloud;Habilidade em manipulação e visualização de dados com Pandas, NumPy, Matplotlib e Seaborn para explorar grandes volumes de dados;Experiência com AWS, Google Cloud ou Azure para projetar e implementar infraestruturas escaláveis e resilientes;Familiaridade com Kubernetes e Docker para garantir escalabilidade e resiliência de sistemas distribuídos;Experiência com controle de versão (Git) e repositórios remotos como GitLab;Inglês avançado para leitura, escrita e comunicação, facilitando a colaboração com equipes globais.\n"
          ]
        }
      ],
      "source": [
        "print(retrieved_docs[0].page_content)"
      ]
    },
    {
      "cell_type": "markdown",
      "metadata": {
        "id": "__6Uvw14VAYP"
      },
      "source": [
        "### Buscando e Recuperando Informações - Retrieve"
      ]
    },
    {
      "cell_type": "code",
      "execution_count": null,
      "metadata": {
        "id": "31VQKzg2VAYQ"
      },
      "outputs": [],
      "source": [
        "from langchain_core.prompts import ChatPromptTemplate\n",
        "\n",
        "system_template = \"\"\"Você é um assistente para tarefas de perguntas e respostas. Use os seguintes trechos de contexto recuperados para responder à pergunta. Se você não souber a resposta, apenas diga que não sabe. Use no máximo duas frases e mantenha a resposta concisa e fale apenas o necessário.\n",
        "\n",
        "Pergunta: {question}\n",
        "\n",
        "Contexto: {context}\n",
        "\n",
        "Resposta:\n",
        "\"\"\"\n",
        "\n",
        "prompt_template = ChatPromptTemplate.from_template(system_template)"
      ]
    },
    {
      "cell_type": "code",
      "execution_count": null,
      "metadata": {
        "id": "Lbw0v3hQVAYQ",
        "colab": {
          "base_uri": "https://localhost:8080/"
        },
        "outputId": "75500272-4991-4f5e-a352-0473e8a01620"
      },
      "outputs": [
        {
          "output_type": "stream",
          "name": "stdout",
          "text": [
            "[HumanMessage(content='Você é um assistente para tarefas de perguntas e respostas. Use os seguintes trechos de contexto recuperados para responder à pergunta. Se você não souber a resposta, apenas diga que não sabe. Use no máximo duas frases e mantenha a resposta concisa e fale apenas o necessário.\\n\\nPergunta: alguma pergunta\\n\\nContexto: algum contexto\\n\\nResposta:\\n', additional_kwargs={}, response_metadata={})]\n"
          ]
        }
      ],
      "source": [
        "example_messages = prompt_template.invoke({\n",
        "    \"context\": \"algum contexto\",\n",
        "    \"question\": \"alguma pergunta\"\n",
        "})\n",
        "\n",
        "print(example_messages.to_messages())"
      ]
    },
    {
      "cell_type": "markdown",
      "metadata": {
        "id": "kt1yCZXhVAYQ"
      },
      "source": [
        "### Gerando Respostas - Generate"
      ]
    },
    {
      "cell_type": "code",
      "execution_count": null,
      "metadata": {
        "id": "gLNjrTSTVAYQ"
      },
      "outputs": [],
      "source": [
        "from langchain_openai import ChatOpenAI\n",
        "\n",
        "llm = ChatOpenAI(model=\"gpt-4o-mini\")"
      ]
    },
    {
      "cell_type": "code",
      "execution_count": null,
      "metadata": {
        "id": "AQF87QdnVAYR"
      },
      "outputs": [],
      "source": [
        "from langchain_core.output_parsers import StrOutputParser\n",
        "from langchain_core.runnables import RunnablePassthrough\n",
        "\n",
        "def format_docs(docs):\n",
        "    return \"\\n\\n\".join(doc.page_content for doc in docs)\n",
        "\n",
        "rag_chain = (\n",
        "    {\"context\": retriever | format_docs, \"question\": RunnablePassthrough()}\n",
        "    | prompt_template\n",
        "    | llm\n",
        "    | StrOutputParser()\n",
        ")"
      ]
    },
    {
      "cell_type": "code",
      "execution_count": null,
      "metadata": {
        "id": "bGWW0JG_VAYR",
        "colab": {
          "base_uri": "https://localhost:8080/"
        },
        "outputId": "c21addd4-fdd6-4afb-eb36-a8b274f6bdae"
      },
      "outputs": [
        {
          "output_type": "stream",
          "name": "stdout",
          "text": [
            "Sim, o CESAR oferece plano de saúde como um dos benefícios para os colaboradores. Além disso, também há plano odontológico e outros auxílios."
          ]
        }
      ],
      "source": [
        "for chunk in rag_chain.stream(\"Tem plano de saúde como benefício?\"):\n",
        "    print(chunk, end=\"\", flush=True)"
      ]
    },
    {
      "cell_type": "markdown",
      "metadata": {
        "id": "o1o5PtN0VAYR"
      },
      "source": [
        "## Exercícios"
      ]
    },
    {
      "cell_type": "markdown",
      "metadata": {
        "id": "YOaME-2tVAYR"
      },
      "source": [
        "### Exercício 1\n",
        "Faça um RAG com um pequeno arquivo de texto, contendo informações que, certamente, a LLM não conheça. Você deverá construir o arquivo e enviar para o ambiente de execução. Escolha a forma de chunking apropriada para o seu documento."
      ]
    },
    {
      "cell_type": "code",
      "source": [
        "!pip install unstructured"
      ],
      "metadata": {
        "colab": {
          "base_uri": "https://localhost:8080/"
        },
        "collapsed": true,
        "id": "VZjuWkBGK09k",
        "outputId": "732e0ef7-16c3-4f65-b26d-83e978daab23"
      },
      "execution_count": null,
      "outputs": [
        {
          "output_type": "stream",
          "name": "stdout",
          "text": [
            "Collecting unstructured\n",
            "  Downloading unstructured-0.16.11-py3-none-any.whl.metadata (24 kB)\n",
            "Requirement already satisfied: chardet in /usr/local/lib/python3.10/dist-packages (from unstructured) (5.2.0)\n",
            "Collecting filetype (from unstructured)\n",
            "  Downloading filetype-1.2.0-py2.py3-none-any.whl.metadata (6.5 kB)\n",
            "Collecting python-magic (from unstructured)\n",
            "  Downloading python_magic-0.4.27-py2.py3-none-any.whl.metadata (5.8 kB)\n",
            "Requirement already satisfied: lxml in /usr/local/lib/python3.10/dist-packages (from unstructured) (5.3.0)\n",
            "Requirement already satisfied: nltk in /usr/local/lib/python3.10/dist-packages (from unstructured) (3.9.1)\n",
            "Requirement already satisfied: requests in /usr/local/lib/python3.10/dist-packages (from unstructured) (2.32.3)\n",
            "Requirement already satisfied: beautifulsoup4 in /usr/local/lib/python3.10/dist-packages (from unstructured) (4.12.3)\n",
            "Collecting emoji (from unstructured)\n",
            "  Downloading emoji-2.14.0-py3-none-any.whl.metadata (5.7 kB)\n",
            "Requirement already satisfied: dataclasses-json in /usr/local/lib/python3.10/dist-packages (from unstructured) (0.6.7)\n",
            "Collecting python-iso639 (from unstructured)\n",
            "  Downloading python_iso639-2024.10.22-py3-none-any.whl.metadata (13 kB)\n",
            "Collecting langdetect (from unstructured)\n",
            "  Downloading langdetect-1.0.9.tar.gz (981 kB)\n",
            "\u001b[2K     \u001b[90m━━━━━━━━━━━━━━━━━━━━━━━━━━━━━━━━━━━━━━━━\u001b[0m \u001b[32m981.5/981.5 kB\u001b[0m \u001b[31m41.2 MB/s\u001b[0m eta \u001b[36m0:00:00\u001b[0m\n",
            "\u001b[?25h  Preparing metadata (setup.py) ... \u001b[?25l\u001b[?25hdone\n",
            "Requirement already satisfied: numpy<2 in /usr/local/lib/python3.10/dist-packages (from unstructured) (1.26.4)\n",
            "Collecting rapidfuzz (from unstructured)\n",
            "  Downloading rapidfuzz-3.11.0-cp310-cp310-manylinux_2_17_x86_64.manylinux2014_x86_64.whl.metadata (11 kB)\n",
            "Collecting backoff (from unstructured)\n",
            "  Downloading backoff-2.2.1-py3-none-any.whl.metadata (14 kB)\n",
            "Requirement already satisfied: typing-extensions in /usr/local/lib/python3.10/dist-packages (from unstructured) (4.12.2)\n",
            "Collecting unstructured-client (from unstructured)\n",
            "  Downloading unstructured_client-0.28.1-py3-none-any.whl.metadata (20 kB)\n",
            "Requirement already satisfied: wrapt in /usr/local/lib/python3.10/dist-packages (from unstructured) (1.17.0)\n",
            "Requirement already satisfied: tqdm in /usr/local/lib/python3.10/dist-packages (from unstructured) (4.67.1)\n",
            "Requirement already satisfied: psutil in /usr/local/lib/python3.10/dist-packages (from unstructured) (5.9.5)\n",
            "Collecting python-oxmsg (from unstructured)\n",
            "  Downloading python_oxmsg-0.0.1-py3-none-any.whl.metadata (5.0 kB)\n",
            "Requirement already satisfied: html5lib in /usr/local/lib/python3.10/dist-packages (from unstructured) (1.1)\n",
            "Requirement already satisfied: soupsieve>1.2 in /usr/local/lib/python3.10/dist-packages (from beautifulsoup4->unstructured) (2.6)\n",
            "Requirement already satisfied: marshmallow<4.0.0,>=3.18.0 in /usr/local/lib/python3.10/dist-packages (from dataclasses-json->unstructured) (3.23.2)\n",
            "Requirement already satisfied: typing-inspect<1,>=0.4.0 in /usr/local/lib/python3.10/dist-packages (from dataclasses-json->unstructured) (0.9.0)\n",
            "Requirement already satisfied: six>=1.9 in /usr/local/lib/python3.10/dist-packages (from html5lib->unstructured) (1.17.0)\n",
            "Requirement already satisfied: webencodings in /usr/local/lib/python3.10/dist-packages (from html5lib->unstructured) (0.5.1)\n",
            "Requirement already satisfied: click in /usr/local/lib/python3.10/dist-packages (from nltk->unstructured) (8.1.7)\n",
            "Requirement already satisfied: joblib in /usr/local/lib/python3.10/dist-packages (from nltk->unstructured) (1.4.2)\n",
            "Requirement already satisfied: regex>=2021.8.3 in /usr/local/lib/python3.10/dist-packages (from nltk->unstructured) (2024.11.6)\n",
            "Collecting olefile (from python-oxmsg->unstructured)\n",
            "  Downloading olefile-0.47-py2.py3-none-any.whl.metadata (9.7 kB)\n",
            "Requirement already satisfied: charset-normalizer<4,>=2 in /usr/local/lib/python3.10/dist-packages (from requests->unstructured) (3.4.0)\n",
            "Requirement already satisfied: idna<4,>=2.5 in /usr/local/lib/python3.10/dist-packages (from requests->unstructured) (3.10)\n",
            "Requirement already satisfied: urllib3<3,>=1.21.1 in /usr/local/lib/python3.10/dist-packages (from requests->unstructured) (1.26.20)\n",
            "Requirement already satisfied: certifi>=2017.4.17 in /usr/local/lib/python3.10/dist-packages (from requests->unstructured) (2024.12.14)\n",
            "Collecting aiofiles>=24.1.0 (from unstructured-client->unstructured)\n",
            "  Downloading aiofiles-24.1.0-py3-none-any.whl.metadata (10 kB)\n",
            "Requirement already satisfied: cryptography>=3.1 in /usr/local/lib/python3.10/dist-packages (from unstructured-client->unstructured) (43.0.3)\n",
            "Requirement already satisfied: eval-type-backport<0.3.0,>=0.2.0 in /usr/local/lib/python3.10/dist-packages (from unstructured-client->unstructured) (0.2.0)\n",
            "Requirement already satisfied: httpx>=0.27.0 in /usr/local/lib/python3.10/dist-packages (from unstructured-client->unstructured) (0.28.1)\n",
            "Collecting jsonpath-python<2.0.0,>=1.0.6 (from unstructured-client->unstructured)\n",
            "  Downloading jsonpath_python-1.0.6-py3-none-any.whl.metadata (12 kB)\n",
            "Requirement already satisfied: nest-asyncio>=1.6.0 in /usr/local/lib/python3.10/dist-packages (from unstructured-client->unstructured) (1.6.0)\n",
            "Collecting pydantic<2.10.0,>=2.9.2 (from unstructured-client->unstructured)\n",
            "  Downloading pydantic-2.9.2-py3-none-any.whl.metadata (149 kB)\n",
            "\u001b[2K     \u001b[90m━━━━━━━━━━━━━━━━━━━━━━━━━━━━━━━━━━━━━━━━\u001b[0m \u001b[32m149.4/149.4 kB\u001b[0m \u001b[31m10.2 MB/s\u001b[0m eta \u001b[36m0:00:00\u001b[0m\n",
            "\u001b[?25hCollecting pypdf>=4.0 (from unstructured-client->unstructured)\n",
            "  Downloading pypdf-5.1.0-py3-none-any.whl.metadata (7.2 kB)\n",
            "Requirement already satisfied: python-dateutil<3.0.0,>=2.8.2 in /usr/local/lib/python3.10/dist-packages (from unstructured-client->unstructured) (2.8.2)\n",
            "Requirement already satisfied: requests-toolbelt>=1.0.0 in /usr/local/lib/python3.10/dist-packages (from unstructured-client->unstructured) (1.0.0)\n",
            "Requirement already satisfied: cffi>=1.12 in /usr/local/lib/python3.10/dist-packages (from cryptography>=3.1->unstructured-client->unstructured) (1.17.1)\n",
            "Requirement already satisfied: anyio in /usr/local/lib/python3.10/dist-packages (from httpx>=0.27.0->unstructured-client->unstructured) (3.7.1)\n",
            "Requirement already satisfied: httpcore==1.* in /usr/local/lib/python3.10/dist-packages (from httpx>=0.27.0->unstructured-client->unstructured) (1.0.7)\n",
            "Requirement already satisfied: h11<0.15,>=0.13 in /usr/local/lib/python3.10/dist-packages (from httpcore==1.*->httpx>=0.27.0->unstructured-client->unstructured) (0.14.0)\n",
            "Requirement already satisfied: packaging>=17.0 in /usr/local/lib/python3.10/dist-packages (from marshmallow<4.0.0,>=3.18.0->dataclasses-json->unstructured) (24.2)\n",
            "Requirement already satisfied: annotated-types>=0.6.0 in /usr/local/lib/python3.10/dist-packages (from pydantic<2.10.0,>=2.9.2->unstructured-client->unstructured) (0.7.0)\n",
            "Collecting pydantic-core==2.23.4 (from pydantic<2.10.0,>=2.9.2->unstructured-client->unstructured)\n",
            "  Downloading pydantic_core-2.23.4-cp310-cp310-manylinux_2_17_x86_64.manylinux2014_x86_64.whl.metadata (6.6 kB)\n",
            "Requirement already satisfied: mypy-extensions>=0.3.0 in /usr/local/lib/python3.10/dist-packages (from typing-inspect<1,>=0.4.0->dataclasses-json->unstructured) (1.0.0)\n",
            "Requirement already satisfied: pycparser in /usr/local/lib/python3.10/dist-packages (from cffi>=1.12->cryptography>=3.1->unstructured-client->unstructured) (2.22)\n",
            "Requirement already satisfied: sniffio>=1.1 in /usr/local/lib/python3.10/dist-packages (from anyio->httpx>=0.27.0->unstructured-client->unstructured) (1.3.1)\n",
            "Requirement already satisfied: exceptiongroup in /usr/local/lib/python3.10/dist-packages (from anyio->httpx>=0.27.0->unstructured-client->unstructured) (1.2.2)\n",
            "Downloading unstructured-0.16.11-py3-none-any.whl (1.7 MB)\n",
            "\u001b[2K   \u001b[90m━━━━━━━━━━━━━━━━━━━━━━━━━━━━━━━━━━━━━━━━\u001b[0m \u001b[32m1.7/1.7 MB\u001b[0m \u001b[31m35.8 MB/s\u001b[0m eta \u001b[36m0:00:00\u001b[0m\n",
            "\u001b[?25hDownloading backoff-2.2.1-py3-none-any.whl (15 kB)\n",
            "Downloading emoji-2.14.0-py3-none-any.whl (586 kB)\n",
            "\u001b[2K   \u001b[90m━━━━━━━━━━━━━━━━━━━━━━━━━━━━━━━━━━━━━━━━\u001b[0m \u001b[32m586.9/586.9 kB\u001b[0m \u001b[31m28.3 MB/s\u001b[0m eta \u001b[36m0:00:00\u001b[0m\n",
            "\u001b[?25hDownloading filetype-1.2.0-py2.py3-none-any.whl (19 kB)\n",
            "Downloading python_iso639-2024.10.22-py3-none-any.whl (274 kB)\n",
            "\u001b[2K   \u001b[90m━━━━━━━━━━━━━━━━━━━━━━━━━━━━━━━━━━━━━━━━\u001b[0m \u001b[32m274.9/274.9 kB\u001b[0m \u001b[31m17.5 MB/s\u001b[0m eta \u001b[36m0:00:00\u001b[0m\n",
            "\u001b[?25hDownloading python_magic-0.4.27-py2.py3-none-any.whl (13 kB)\n",
            "Downloading python_oxmsg-0.0.1-py3-none-any.whl (31 kB)\n",
            "Downloading rapidfuzz-3.11.0-cp310-cp310-manylinux_2_17_x86_64.manylinux2014_x86_64.whl (3.1 MB)\n",
            "\u001b[2K   \u001b[90m━━━━━━━━━━━━━━━━━━━━━━━━━━━━━━━━━━━━━━━━\u001b[0m \u001b[32m3.1/3.1 MB\u001b[0m \u001b[31m48.3 MB/s\u001b[0m eta \u001b[36m0:00:00\u001b[0m\n",
            "\u001b[?25hDownloading unstructured_client-0.28.1-py3-none-any.whl (62 kB)\n",
            "\u001b[2K   \u001b[90m━━━━━━━━━━━━━━━━━━━━━━━━━━━━━━━━━━━━━━━━\u001b[0m \u001b[32m62.9/62.9 kB\u001b[0m \u001b[31m4.7 MB/s\u001b[0m eta \u001b[36m0:00:00\u001b[0m\n",
            "\u001b[?25hDownloading aiofiles-24.1.0-py3-none-any.whl (15 kB)\n",
            "Downloading jsonpath_python-1.0.6-py3-none-any.whl (7.6 kB)\n",
            "Downloading pydantic-2.9.2-py3-none-any.whl (434 kB)\n",
            "\u001b[2K   \u001b[90m━━━━━━━━━━━━━━━━━━━━━━━━━━━━━━━━━━━━━━━━\u001b[0m \u001b[32m434.9/434.9 kB\u001b[0m \u001b[31m20.8 MB/s\u001b[0m eta \u001b[36m0:00:00\u001b[0m\n",
            "\u001b[?25hDownloading pydantic_core-2.23.4-cp310-cp310-manylinux_2_17_x86_64.manylinux2014_x86_64.whl (2.1 MB)\n",
            "\u001b[2K   \u001b[90m━━━━━━━━━━━━━━━━━━━━━━━━━━━━━━━━━━━━━━━━\u001b[0m \u001b[32m2.1/2.1 MB\u001b[0m \u001b[31m43.4 MB/s\u001b[0m eta \u001b[36m0:00:00\u001b[0m\n",
            "\u001b[?25hDownloading pypdf-5.1.0-py3-none-any.whl (297 kB)\n",
            "\u001b[2K   \u001b[90m━━━━━━━━━━━━━━━━━━━━━━━━━━━━━━━━━━━━━━━━\u001b[0m \u001b[32m298.0/298.0 kB\u001b[0m \u001b[31m19.5 MB/s\u001b[0m eta \u001b[36m0:00:00\u001b[0m\n",
            "\u001b[?25hDownloading olefile-0.47-py2.py3-none-any.whl (114 kB)\n",
            "\u001b[2K   \u001b[90m━━━━━━━━━━━━━━━━━━━━━━━━━━━━━━━━━━━━━━━━\u001b[0m \u001b[32m114.6/114.6 kB\u001b[0m \u001b[31m6.8 MB/s\u001b[0m eta \u001b[36m0:00:00\u001b[0m\n",
            "\u001b[?25hBuilding wheels for collected packages: langdetect\n",
            "  Building wheel for langdetect (setup.py) ... \u001b[?25l\u001b[?25hdone\n",
            "  Created wheel for langdetect: filename=langdetect-1.0.9-py3-none-any.whl size=993222 sha256=bfcc2582edc9e53b25248dd4ca20fe5b1a80d617995aac4629f97e8df7f29e11\n",
            "  Stored in directory: /root/.cache/pip/wheels/95/03/7d/59ea870c70ce4e5a370638b5462a7711ab78fba2f655d05106\n",
            "Successfully built langdetect\n",
            "Installing collected packages: filetype, rapidfuzz, python-magic, python-iso639, pypdf, pydantic-core, olefile, langdetect, jsonpath-python, emoji, backoff, aiofiles, python-oxmsg, pydantic, unstructured-client, unstructured\n",
            "  Attempting uninstall: pydantic-core\n",
            "    Found existing installation: pydantic_core 2.27.1\n",
            "    Uninstalling pydantic_core-2.27.1:\n",
            "      Successfully uninstalled pydantic_core-2.27.1\n",
            "  Attempting uninstall: pydantic\n",
            "    Found existing installation: pydantic 2.10.3\n",
            "    Uninstalling pydantic-2.10.3:\n",
            "      Successfully uninstalled pydantic-2.10.3\n",
            "\u001b[31mERROR: pip's dependency resolver does not currently take into account all the packages that are installed. This behaviour is the source of the following dependency conflicts.\n",
            "google-genai 0.3.0 requires websockets<15.0dev,>=13.0, but you have websockets 10.4 which is incompatible.\u001b[0m\u001b[31m\n",
            "\u001b[0mSuccessfully installed aiofiles-24.1.0 backoff-2.2.1 emoji-2.14.0 filetype-1.2.0 jsonpath-python-1.0.6 langdetect-1.0.9 olefile-0.47 pydantic-2.9.2 pydantic-core-2.23.4 pypdf-5.1.0 python-iso639-2024.10.22 python-magic-0.4.27 python-oxmsg-0.0.1 rapidfuzz-3.11.0 unstructured-0.16.11 unstructured-client-0.28.1\n"
          ]
        }
      ]
    },
    {
      "cell_type": "code",
      "source": [
        "from google.colab import drive\n",
        "drive.mount('/content/drive')"
      ],
      "metadata": {
        "colab": {
          "base_uri": "https://localhost:8080/"
        },
        "id": "Y0euwUegKBk8",
        "outputId": "c85e7dae-9ead-4761-c76f-f64f59b6263d"
      },
      "execution_count": null,
      "outputs": [
        {
          "output_type": "stream",
          "name": "stdout",
          "text": [
            "Mounted at /content/drive\n"
          ]
        }
      ]
    },
    {
      "cell_type": "code",
      "source": [
        "from langchain_community.document_loaders import UnstructuredHTMLLoader\n",
        "\n",
        "file_path = \"/content/drive/Shareddrives/Projeto_final_rna_deep_learning/Funcionários da Companhia Zaffari fazem novas denúncias trabalhistas - ICL Notícias.html\"\n",
        "\n",
        "loader = UnstructuredHTMLLoader(file_path)\n",
        "data = loader.load()\n",
        "\n",
        "print(data)"
      ],
      "metadata": {
        "colab": {
          "base_uri": "https://localhost:8080/"
        },
        "id": "EC9QW6gxKZkx",
        "outputId": "2a638632-9235-40b4-9410-7e19a39efe11"
      },
      "execution_count": null,
      "outputs": [
        {
          "output_type": "stream",
          "name": "stdout",
          "text": [
            "[Document(metadata={'source': '/content/drive/Shareddrives/Projeto_final_rna_deep_learning/Funcionários da Companhia Zaffari fazem novas denúncias trabalhistas - ICL Notícias.html'}, page_content=\"Melhor site nacional de notícias (BPA)\\n\\nSeja Membro ICL\\n\\nSeja Membro ICL\\n\\nSociedade\\n\\nFuncionários da Companhia Zaffari fazem novas denúncias trabalhistas\\n\\nUma série de casos chegou na redação do BdF e do O Futuro após a repercussão nacional da primeira reportagem\\n\\n21/12/2024 | 08h30\\n\\nCompartilhe\\n\\nJornal O Futuro\\n\\nouça este conteúdo readme\\n\\n0:00 1.0x\\n\\nok\\n\\nPublicidade\\n\\nPor Theo Dalla — Brasil de Fato e Jornal O Futuro\\n\\nA publicação da reportagem sobre as condições de trabalho na Companhia Zaffari, fruto de uma parceria entre o Jornal O Futuro e o Brasil de Fato, abriu a porta para uma série de novas denúncias de atuais e ex-funcionários da empresa. Eles não só reafirmam as violações de direitos já denunciadas, como apontam novos problemas que reforçam a ideia de condições degradantes de trabalho: adolescentes trabalhando na escala 10×1 e por mais de 10 horas nos “dias de dobra”, constantes desvios de função, controle do uso do banheiro, constrangimentos e adoecimento mental.\\n\\nPor outro lado, trabalhadores relataram que, com a repercussão da denúncia e a realização de três manifestações no interior das lojas Zaffari, a empresa imediatamente iniciou uma operação para a mudança da escala, a fim de acabar com a de dez dias trabalhados para um de folga (10×1) e impedir que os funcionários trabalhem por três domingos seguidos.\\n\\nRestrição do uso do banheiro durante a jornada\\n\\nUma denúncia que geralmente coloca as operadoras de caixa em uma situação constrangedora é o controle rigoroso do uso do banheiro (o “21”, como é chamado na loja). Segundo uma funcionária, que preferiu manter anonimato, para ter direito a utilizar o banheiro, é preciso pedir permissão para um fiscal, que pode autorizar ou não. Quando é feita uma solicitação, a operadora entra numa espécie de “lista de espera”. Ela explica: “Quando tu pede o ’21’, eles anotam numa prancheta. Tem vezes que a gente espera uma, até duas horas. Teve uma vez que pedi às 19h e me liberaram para o banheiro só pelas 21h. Porque eles não querem liberar. Daí, quando eles liberam, às vezes não dá tempo. Já teve quatro operadoras na minha loja que chegaram a fazer na roupa mesmo porque não deu tempo de chegar no banheiro.”\\n\\nSeu colega empacotador complementa: “Na quinta (12) mesmo isso aconteceu. Uma operadora pediu pra ir, passou meia hora, depois uma hora, e nada. Aí, ela pediu pra eu ver se tinham anotado pra ela, e o fiscal não anotou. Ela teve que botar o caixa em pausa e correr pro banheiro.” O ’21’, que também é usado pra tomar água e dar uma pausa no ritmo intenso de trabalho, tem o limite de 10 a 15 minutos. “Se ficar mais, somos cobrados”, explicou o empacotador. A mesma situação também é reiterada por ex-funcionários. “Quando trabalhava lá não podia levar água pro caixa. Pra ir no banheiro tinha que ficar implorando, era por ordem de pedido. Até 10 ou 11 dias sem folga! E isso nem é tudo!”\\n\\nO uso do banheiro é uma necessidade fisiológica humana, uma necessidade básica e primária, sem possibilidade de controle ou restrição. Por esse motivo, o uso do banheiro é também considerado um direito do trabalhador, como expressa a Norma Reguladora nº 17: “Com o fim de permitir a satisfação das necessidades fisiológicas, a organização deve permitir que os operadores saiam de seus postos de trabalho a qualquer momento da jornada, sem repercussões sobre suas avaliações e remunerações.”\\n\\nO Tribunal Superior do Trabalho (TST) tem o entendimento de que a restrição do uso do banheiro fere o princípio da dignidade humana e pode configurar “abuso do poder diretivo do empregador”. A decisão argumenta que “o Tribunal Superior do Trabalho tem entendido que a restrição pelo empregador ao uso de banheiro pelos seus empregados fere o princípio da dignidade da pessoa humana, tutelado no artigo 1º, inciso III, da Constituição Federal, traduzindo-se em verdadeiro abuso no exercício do poder diretivo da empresa (artigo 2º da CLT), o que configura ato ilícito, sendo, assim, indenizável o dano moral sofrido pelos empregados.”\\n\\nA decisão também enfatiza que, mesmo em relação às atividades ininterruptas, como é o caso de um hipermercado, “há que prevalecer o direito irrestrito de acesso às instalações sanitárias da empresa, durante a jornada de trabalho”. Por isso, também a contagem do número de pausas e do tempo despendido em cada uma delas “em si mesma já constitui intolerável constrangimento e menoscabo [depreciação] à dignidade humana”.\\n\\nRelações abusivas de trabalho e adoecimento mental\\n\\nUm segurança da empresa, que entrou em contato a partir da repercussão da primeira matéria, revelou como era a relação com seus gerentes. “Quando nós fazíamos 10×1 e queríamos descansar por dois dias seguidos por ter trabalhado nos feriados, o gerente e o gerente geral chamavam os funcionários de vagabundos, que não era pra se acostumar. E, ainda por cima, se reclamar, eles só falam: ‘se não gostar, pede as contas’. Sem falar que querem mandar em tudo nas nossas vidas, como corte de cabelo e a barba”. Por fim, revelou que era criticado até quando precisava levar parentes ao hospital. “Aí, eles diziam que o funcionário não tem compromisso com a empresa.”\\n\\nUma funcionária recém-demitida, que pediu para não ser identificada, endossou a denúncia. “Quanto ao assédio moral, tive várias crises de ansiedade. Em muitas viagens no banheiro, meninas passando mal, chorando por causa da ansiedade e do estresse. Hoje, estou em tratamento pra depressão”. Mesmo quando oferecia atestado médico para não se submeter ao trabalho nesta situação, a companhia invalidava caso não constasse a Classificação Internacional das Doenças (CID).\\n\\nEm relação a essa exigência, também há decisão contrária do Tribunal Superior do Trabalho, que afirma “que não se pode exigir informação sobre a Classificação Internacional de Doenças (CID) em atestado médico e odontológico como requisito para o abono de faltas para empregados”. O CID é o código que identifica o diagnóstico que o paciente recebe, e sua exigência pela empresa para validar o atestado viola o direito à privacidade do empregado. A ex-funcionária descreve uma conversa com sua médica. “Minha própria médica me dizia: você não é obrigada a colocar o CID. Eu sempre falava que se não colocasse eles me cobrariam ou não aceitariam. Eu tinha que assinar no meu atestado que eu estava concordando em colocar o CID.”\\n\\nAinda sobre os efeitos destas condições de trabalho sobre a saúde mental e a dignidade dos trabalhadores, diversas ex-funcionárias se pronunciaram por meio das redes sociais, reiterando as denúncias feitas e dando seu relato pessoal:\\n\\n“Eu trabalhei lá, tive crise de ansiedade, síndrome do pânico. Estava pirando até que pedi demissão, graças a deus. Eu perdi boa parte do crescimento das minhas filhas.”\\n\\n“Foi lá que eu adquiri meus remédios de ansiedade e crise do pânico. Exaustão total, não gostaria que meu pior inimigo trabalhasse nesse mercado, o que a gente sofre lá dentro ninguém conta.”\\n\\n“Desvalorização no trabalho, sobrecarregavam, exploravam, desvio de função, já fiz escala 12×1 (e queriam que fosse 18), em pleno período de enchente. Você não tem vida e ainda sente desrespeitado!”\\n\\n“Tive que trabalhar no Zaffari por 2 anos para pagar a faculdade, graças a essa empresa que não recomendo a ninguém, desenvolvi ansiedade e depressão na época. Quase desisti da faculdade, mas achei melhor pra mim pedir demissão.”\\n\\nO uso da força de trabalho de adolescentes\\n\\nA contratação de adolescentes entre 16 e 18 anos de idade é permitida por lei, desde que sejam obedecidas regras específicas estabelecidas pelo Estatuto da Criança e do Adolescente (ECA), que proíbe a alocação de menores em atividades insalubres, perigosas, penosas e noturnas. Além disso, outras duas regras balizam a contratação de adolescentes: que os locais não sejam “prejudiciais ao seu desenvolvimento físico, psíquico, moral e social” e que permitam sua frequência escolar. Os demais direitos são regidos pela Consolidação das Leis Trabalhistas (CLT), como para os maiores de idade.\\n\\nSegundo relatos, os adolescentes contratados pela Companhia Zaffari trabalham principalmente “na frente de caixa”, com a função de empacotadores, ou operadores de caixa. Um dos entrevistados relatou que, apesar de ter em sua carteira de trabalho o registro como empacotador, é constantemente redirecionado para outras funções para “dar apoio”. “Eu já fui colocado em várias funções. Já fui pra padaria, já fui dar apoio na rua, apoio pro estacionamento, já puxei carrinho e já fiquei na devolução”. No seu contrato, porém, há uma cláusula que “regulamenta” o acúmulo de funções, onde diz que o jovem receberá o mesmo salário para exercer outras atividades, “mesmo aquelas não inerentes às funções [para a qual foi contratado]”. Assim, o salário permanece os mesmos R$1.412, com descontos que entregam cerca de R$1 mil líquido por mês.\\n\\nO adolescente também denunciou ser submetido a jornadas que extrapolam as 10 horas de trabalho, chegando a 11 horas e 30 minutos.\\n\\nRegistro do ponto do empacotador adolescente com trabalho de 11 horas e 30 minutos no domingo (Foto: Jornal O Futuro)\\n\\nUm colega da mesma função e idade, mas de outra loja, disse ter sido promovido a operador de caixa (o que significa um aumento de R$ 300 no salário bruto), função em que ficou trabalhando durante dois meses sem ocorrer a mudança em seu contrato. Situação similar foi reiterada por outras colegas de loja, antes empacotadoras, hoje operadoras de caixa. Este mesmo adolescente também denunciou trabalhar diversas vezes sob o regime 10×1, além de chegar a 11 horas de trabalho nos domingos e feriados “de dobra”.\\n\\nRegistro do ponto do outro adolescente empacotador com 11 horas e 1 minuto de trabalho no domingo (Foto: Jornal O Futuro)\\n\\nO limite de duas horas extras por dia é frequentemente desrespeitado pela Companhia, que utiliza do mecanismo de compensação com o objetivo de livrar-se da obrigação de pagá-las aos funcionários. “Eles deixam acumulando só pra dispensar no fim do mês, entendeu? Daí eles liberam mais cedo”, contou o empacotador, em acordo com a mesma denúncia relatada na matéria anterior.\\n\\nEstas violações de direitos, quando somadas às escalas e jornadas extenuantes de trabalho, têm impacto direto sobre o direito ao desenvolvimento social e escolar dos adolescentes. Ainda que respeite os limites de horários (que, por lei, não podem trabalhar das 22h às 5h), a rotina exaustiva sufoca os estudos e frequentemente coloca os jovens sob o dilema de largá-los ou não.\\n\\n“No domingo eu trabalho das 9h às 20h, chego entre 22h e 23h em casa, vou comer e dormir, pras 5h, 6h da manhã estar de pé de novo. É complicado, mas eu preciso pra me sustentar.” Segundo ele, não há tempo para estudar ou fazer trabalhos escolares. “Nem estudo. Se estudo é meia hora antes de entrar na aula. Não tenho tempo pra estudar. E na minha folga, que seria o dia que eu tenho pra estudar, tenho que arrumar a casa e resolver os problemas que deixei de lado durante a semana”, explicou. “Já pensei em largar, mas graças a Deus não fiz isso.”\\n\\nNa mesma entrevista em que perguntamos sobre a regulação da jornada de trabalho, Valdete Souto Severo, doutora em direito do trabalho pela Universidade de São Paulo (USP), salientou a importância do respeito à norma constitucional, seja quando fixa jornada máxima (de 8h ou de 6h), seja quando protege a infância e a juventude. “Quero enfatizar que a reflexão a ser feita é sobre o tipo de sociedade em que queremos viver. A realização de horas extras com habitualidade, além de ser um contrassenso, pois torna essas horas ordinárias na vida do trabalhador, prejudica toda a comunidade. Tem direta relação com o abandono do estudo, com a dificuldade em se especializar em alguma profissão”.\\n\\nA resposta da Companhia Zaffari\\n\\nEm nota ao Brasil de Fato RS, o advogado da Companhia Zaffari, Flávio Obino Filho, afirmou “que os acordos coletivos de trabalho que envolvem mais de setecentas empresas do comércio de Porto Alegre não estabelecem a dita escala 10×1. Os acordos contêm a obrigação de concessão pelas empresas de repouso semanal remunerado na semana iniciada na segunda feira e que se encerra no domingo. Estabelecem, ainda, que o número de dias de trabalho corridos não ultrapasse 10 (dez). Assim, normalmente, considerando o período de um mês, ocorre uma sequência de 10, 2, 6 e 6 dias de trabalho antes de cada repouso. A Companhia Zaffari tem o mesmo acordo com o Ministério Público do Trabalho estabelecendo idêntico formato de descanso semanal remunerado. O acordo foi homologado pela Justiça do Trabalho e está vigente. Quanto a posição do Sindec de renegociar durante o ano de 2025 os mais de 700 acordos coletivos em negociações que são assistidas pelos sindicatos empresariais, a Companhia Zaffari, chamada, certamente acompanhará o procedimento negocial. A negociação coletiva é sempre o caminho para a solução de eventual conflito trabalhista“.\\n\\nRecebemos relatos de que a empresa iniciou uma movimentação interna para modificar a escala. Segundo funcionários de diferentes lojas, foi anunciado que a escala seria limitada a 6×1, só haveria trabalho em dois domingos consecutivos e os adolescentes não participariam mais dos “dias de dobra”, a que também eram submetidos até então (sextas, sábados e domingos em que as horas extras são obrigatórias, chegando a 11h trabalhadas).\\n\\nNo entanto, ainda há desconfiança por parte dos trabalhadores que avaliam esta medida como um “extintor de incêndio”. Os entrevistados temem que a empresa faça isso agora e, quando “baixar a poeira, vai voltar tudo igual como é hoje”.\\n\\nO presidente do Sindicato dos Empregados no Comércio de Porto Alegre (Sindec-Poa), Nilton Neco, falou ao GZH que não renovará, em 2025, o acordo que permite a extensão da jornada para 10 dias de trabalho. Segundo ele, a decisão foi tomada em função da posição favorável do sindicato à luta pela redução da jornada de trabalho. O sindicato foi questionado sobre as novas denúncias e respondeu que a entidade dispõe de canais de denúncias permanentemente abertos, além de ter equipes de fiscalização circulando pelas empresas para inspecionar as condições de trabalho.\\n\\nManifestações no interior das lojas\\n\\nNos dias 5 e 6, foram realizadas manifestações no interior das lojas da avenida Ipiranga e da rua Lima e Silva. Partidos políticos de esquerda e movimentos sociais se uniram estendendo faixas e denunciando as condições de trabalho da empresa. Segundo os organizadores, as manifestações contaram com apoio dos consumidores e dos próprios trabalhadores, “que apesar da pressão e constrangimento dos superiores para não se manifestar, reiteraram as denúncias feitas pelos manifestantes”.\\n\\nNa sexta-feira (13), mesmo com chuva, também aconteceu um ato pelo fim da escala 6×1 e pela redução da jornada de trabalho sem redução salarial na Esquina Democrática, no centro de Porto Alegre. Já para o dia 20/12, foi convocada mais uma Manifestação Nacional pelo Fim da Escala 6×1.\\n\\nInformações em primeira mão! Siga o canal do ICL Notícias no WhatsApp Acesso total a mais de 300 cursos, materiais e séries! Seja Membro ICL Siga e acompanhe as atualizações do ICL Notícias também pelo Google News\\n\\ndireitos trabalhistasmercado de trabalho\\n\\nDeixe um comentário\\n\\nMais Lidas\\n\\nveja mais\\n\\nregras claras\\n\\nMovimento de pais tenta impedir que celulares fiquem nas mochilas dos alunos\\n\\nMovimento Desconecta se reúne com o MEC para solicitar regra mais clara\\n\\nInvestigação\\n\\nEmpresa de máquina de cartão de ex-diretor da Bola de Neve faturou R$ 500 mil com dízimo\\n\\nfilha de militar\\n\\nMulher que levou coroa de flores a Lula recebe pensão de R$ 14 mil do Exército\\n\\n'Feliz Natal para quem?'\\n\\nTrabalhadores vão às ruas nesta sexta contra jornadas exaustivas; confira cidades\\n\\ndistorção\\n\\nCelebrada por governo e centrão, reforma tributária amplia incentivo aos agrotóxicos\\n\\nAssine nossa newsletter\\n\\nReceba nossos informativos diretamente em seu e-mail\\n\\nExpediente\\n\\nFale com a Redação\\n\\nPolítica de Privacidade\\n\\nTermos de Uso\\n\\n© 2024 — Todos os direitos reservados\\n\\nUtilizamos cookies essenciais e tecnologias semelhantes para analisar e aprimorar nosso serviço, personalizar conteúdos e melhorar sua experiência digital de acordo com a nossa Política de Privacidade e, ao continuar navegando, você concorda com estas condições.\\n\\nProsseguir\")]\n"
          ]
        }
      ]
    },
    {
      "cell_type": "code",
      "source": [
        "# Carrega o conteúdo da página\n",
        "docs = loader.load()\n",
        "\n",
        "len(docs[0].page_content)"
      ],
      "metadata": {
        "colab": {
          "base_uri": "https://localhost:8080/"
        },
        "id": "JBg16CcK_wRK",
        "outputId": "24a79fb5-3688-4691-f624-e9e293b1eab0"
      },
      "execution_count": null,
      "outputs": [
        {
          "output_type": "execute_result",
          "data": {
            "text/plain": [
              "16290"
            ]
          },
          "metadata": {},
          "execution_count": 87
        }
      ]
    },
    {
      "cell_type": "code",
      "source": [
        "text_splitter = RecursiveCharacterTextSplitter(\n",
        "    chunk_size=15100, chunk_overlap=12000, add_start_index=True\n",
        ")\n",
        "all_splits = text_splitter.split_documents(docs)\n",
        "\n",
        "len(all_splits)"
      ],
      "metadata": {
        "colab": {
          "base_uri": "https://localhost:8080/"
        },
        "id": "1GCScSOesSHg",
        "outputId": "10c1ccfe-dea5-49df-a50d-741eeaa7c37b"
      },
      "execution_count": null,
      "outputs": [
        {
          "output_type": "execute_result",
          "data": {
            "text/plain": [
              "2"
            ]
          },
          "metadata": {},
          "execution_count": 96
        }
      ]
    },
    {
      "cell_type": "code",
      "source": [
        "print(all_splits[0].page_content)"
      ],
      "metadata": {
        "colab": {
          "base_uri": "https://localhost:8080/"
        },
        "id": "NSJVjY-HsTK5",
        "outputId": "c197d231-41fa-426a-b908-93143dd46321"
      },
      "execution_count": null,
      "outputs": [
        {
          "output_type": "stream",
          "name": "stdout",
          "text": [
            "Melhor site nacional de notícias (BPA)\n",
            "\n",
            "Seja Membro ICL\n",
            "\n",
            "Seja Membro ICL\n",
            "\n",
            "Sociedade\n",
            "\n",
            "Funcionários da Companhia Zaffari fazem novas denúncias trabalhistas\n",
            "\n",
            "Uma série de casos chegou na redação do BdF e do O Futuro após a repercussão nacional da primeira reportagem\n",
            "\n",
            "21/12/2024 | 08h30\n",
            "\n",
            "Compartilhe\n",
            "\n",
            "Jornal O Futuro\n",
            "\n",
            "ouça este conteúdo readme\n",
            "\n",
            "0:00 1.0x\n",
            "\n",
            "ok\n",
            "\n",
            "Publicidade\n",
            "\n",
            "Por Theo Dalla — Brasil de Fato e Jornal O Futuro\n",
            "\n",
            "A publicação da reportagem sobre as condições de trabalho na Companhia Zaffari, fruto de uma parceria entre o Jornal O Futuro e o Brasil de Fato, abriu a porta para uma série de novas denúncias de atuais e ex-funcionários da empresa. Eles não só reafirmam as violações de direitos já denunciadas, como apontam novos problemas que reforçam a ideia de condições degradantes de trabalho: adolescentes trabalhando na escala 10×1 e por mais de 10 horas nos “dias de dobra”, constantes desvios de função, controle do uso do banheiro, constrangimentos e adoecimento mental.\n",
            "\n",
            "Por outro lado, trabalhadores relataram que, com a repercussão da denúncia e a realização de três manifestações no interior das lojas Zaffari, a empresa imediatamente iniciou uma operação para a mudança da escala, a fim de acabar com a de dez dias trabalhados para um de folga (10×1) e impedir que os funcionários trabalhem por três domingos seguidos.\n",
            "\n",
            "Restrição do uso do banheiro durante a jornada\n",
            "\n",
            "Uma denúncia que geralmente coloca as operadoras de caixa em uma situação constrangedora é o controle rigoroso do uso do banheiro (o “21”, como é chamado na loja). Segundo uma funcionária, que preferiu manter anonimato, para ter direito a utilizar o banheiro, é preciso pedir permissão para um fiscal, que pode autorizar ou não. Quando é feita uma solicitação, a operadora entra numa espécie de “lista de espera”. Ela explica: “Quando tu pede o ’21’, eles anotam numa prancheta. Tem vezes que a gente espera uma, até duas horas. Teve uma vez que pedi às 19h e me liberaram para o banheiro só pelas 21h. Porque eles não querem liberar. Daí, quando eles liberam, às vezes não dá tempo. Já teve quatro operadoras na minha loja que chegaram a fazer na roupa mesmo porque não deu tempo de chegar no banheiro.”\n",
            "\n",
            "Seu colega empacotador complementa: “Na quinta (12) mesmo isso aconteceu. Uma operadora pediu pra ir, passou meia hora, depois uma hora, e nada. Aí, ela pediu pra eu ver se tinham anotado pra ela, e o fiscal não anotou. Ela teve que botar o caixa em pausa e correr pro banheiro.” O ’21’, que também é usado pra tomar água e dar uma pausa no ritmo intenso de trabalho, tem o limite de 10 a 15 minutos. “Se ficar mais, somos cobrados”, explicou o empacotador. A mesma situação também é reiterada por ex-funcionários. “Quando trabalhava lá não podia levar água pro caixa. Pra ir no banheiro tinha que ficar implorando, era por ordem de pedido. Até 10 ou 11 dias sem folga! E isso nem é tudo!”\n",
            "\n",
            "O uso do banheiro é uma necessidade fisiológica humana, uma necessidade básica e primária, sem possibilidade de controle ou restrição. Por esse motivo, o uso do banheiro é também considerado um direito do trabalhador, como expressa a Norma Reguladora nº 17: “Com o fim de permitir a satisfação das necessidades fisiológicas, a organização deve permitir que os operadores saiam de seus postos de trabalho a qualquer momento da jornada, sem repercussões sobre suas avaliações e remunerações.”\n",
            "\n",
            "O Tribunal Superior do Trabalho (TST) tem o entendimento de que a restrição do uso do banheiro fere o princípio da dignidade humana e pode configurar “abuso do poder diretivo do empregador”. A decisão argumenta que “o Tribunal Superior do Trabalho tem entendido que a restrição pelo empregador ao uso de banheiro pelos seus empregados fere o princípio da dignidade da pessoa humana, tutelado no artigo 1º, inciso III, da Constituição Federal, traduzindo-se em verdadeiro abuso no exercício do poder diretivo da empresa (artigo 2º da CLT), o que configura ato ilícito, sendo, assim, indenizável o dano moral sofrido pelos empregados.”\n",
            "\n",
            "A decisão também enfatiza que, mesmo em relação às atividades ininterruptas, como é o caso de um hipermercado, “há que prevalecer o direito irrestrito de acesso às instalações sanitárias da empresa, durante a jornada de trabalho”. Por isso, também a contagem do número de pausas e do tempo despendido em cada uma delas “em si mesma já constitui intolerável constrangimento e menoscabo [depreciação] à dignidade humana”.\n",
            "\n",
            "Relações abusivas de trabalho e adoecimento mental\n",
            "\n",
            "Um segurança da empresa, que entrou em contato a partir da repercussão da primeira matéria, revelou como era a relação com seus gerentes. “Quando nós fazíamos 10×1 e queríamos descansar por dois dias seguidos por ter trabalhado nos feriados, o gerente e o gerente geral chamavam os funcionários de vagabundos, que não era pra se acostumar. E, ainda por cima, se reclamar, eles só falam: ‘se não gostar, pede as contas’. Sem falar que querem mandar em tudo nas nossas vidas, como corte de cabelo e a barba”. Por fim, revelou que era criticado até quando precisava levar parentes ao hospital. “Aí, eles diziam que o funcionário não tem compromisso com a empresa.”\n",
            "\n",
            "Uma funcionária recém-demitida, que pediu para não ser identificada, endossou a denúncia. “Quanto ao assédio moral, tive várias crises de ansiedade. Em muitas viagens no banheiro, meninas passando mal, chorando por causa da ansiedade e do estresse. Hoje, estou em tratamento pra depressão”. Mesmo quando oferecia atestado médico para não se submeter ao trabalho nesta situação, a companhia invalidava caso não constasse a Classificação Internacional das Doenças (CID).\n",
            "\n",
            "Em relação a essa exigência, também há decisão contrária do Tribunal Superior do Trabalho, que afirma “que não se pode exigir informação sobre a Classificação Internacional de Doenças (CID) em atestado médico e odontológico como requisito para o abono de faltas para empregados”. O CID é o código que identifica o diagnóstico que o paciente recebe, e sua exigência pela empresa para validar o atestado viola o direito à privacidade do empregado. A ex-funcionária descreve uma conversa com sua médica. “Minha própria médica me dizia: você não é obrigada a colocar o CID. Eu sempre falava que se não colocasse eles me cobrariam ou não aceitariam. Eu tinha que assinar no meu atestado que eu estava concordando em colocar o CID.”\n",
            "\n",
            "Ainda sobre os efeitos destas condições de trabalho sobre a saúde mental e a dignidade dos trabalhadores, diversas ex-funcionárias se pronunciaram por meio das redes sociais, reiterando as denúncias feitas e dando seu relato pessoal:\n",
            "\n",
            "“Eu trabalhei lá, tive crise de ansiedade, síndrome do pânico. Estava pirando até que pedi demissão, graças a deus. Eu perdi boa parte do crescimento das minhas filhas.”\n",
            "\n",
            "“Foi lá que eu adquiri meus remédios de ansiedade e crise do pânico. Exaustão total, não gostaria que meu pior inimigo trabalhasse nesse mercado, o que a gente sofre lá dentro ninguém conta.”\n",
            "\n",
            "“Desvalorização no trabalho, sobrecarregavam, exploravam, desvio de função, já fiz escala 12×1 (e queriam que fosse 18), em pleno período de enchente. Você não tem vida e ainda sente desrespeitado!”\n",
            "\n",
            "“Tive que trabalhar no Zaffari por 2 anos para pagar a faculdade, graças a essa empresa que não recomendo a ninguém, desenvolvi ansiedade e depressão na época. Quase desisti da faculdade, mas achei melhor pra mim pedir demissão.”\n",
            "\n",
            "O uso da força de trabalho de adolescentes\n",
            "\n",
            "A contratação de adolescentes entre 16 e 18 anos de idade é permitida por lei, desde que sejam obedecidas regras específicas estabelecidas pelo Estatuto da Criança e do Adolescente (ECA), que proíbe a alocação de menores em atividades insalubres, perigosas, penosas e noturnas. Além disso, outras duas regras balizam a contratação de adolescentes: que os locais não sejam “prejudiciais ao seu desenvolvimento físico, psíquico, moral e social” e que permitam sua frequência escolar. Os demais direitos são regidos pela Consolidação das Leis Trabalhistas (CLT), como para os maiores de idade.\n",
            "\n",
            "Segundo relatos, os adolescentes contratados pela Companhia Zaffari trabalham principalmente “na frente de caixa”, com a função de empacotadores, ou operadores de caixa. Um dos entrevistados relatou que, apesar de ter em sua carteira de trabalho o registro como empacotador, é constantemente redirecionado para outras funções para “dar apoio”. “Eu já fui colocado em várias funções. Já fui pra padaria, já fui dar apoio na rua, apoio pro estacionamento, já puxei carrinho e já fiquei na devolução”. No seu contrato, porém, há uma cláusula que “regulamenta” o acúmulo de funções, onde diz que o jovem receberá o mesmo salário para exercer outras atividades, “mesmo aquelas não inerentes às funções [para a qual foi contratado]”. Assim, o salário permanece os mesmos R$1.412, com descontos que entregam cerca de R$1 mil líquido por mês.\n",
            "\n",
            "O adolescente também denunciou ser submetido a jornadas que extrapolam as 10 horas de trabalho, chegando a 11 horas e 30 minutos.\n",
            "\n",
            "Registro do ponto do empacotador adolescente com trabalho de 11 horas e 30 minutos no domingo (Foto: Jornal O Futuro)\n",
            "\n",
            "Um colega da mesma função e idade, mas de outra loja, disse ter sido promovido a operador de caixa (o que significa um aumento de R$ 300 no salário bruto), função em que ficou trabalhando durante dois meses sem ocorrer a mudança em seu contrato. Situação similar foi reiterada por outras colegas de loja, antes empacotadoras, hoje operadoras de caixa. Este mesmo adolescente também denunciou trabalhar diversas vezes sob o regime 10×1, além de chegar a 11 horas de trabalho nos domingos e feriados “de dobra”.\n",
            "\n",
            "Registro do ponto do outro adolescente empacotador com 11 horas e 1 minuto de trabalho no domingo (Foto: Jornal O Futuro)\n",
            "\n",
            "O limite de duas horas extras por dia é frequentemente desrespeitado pela Companhia, que utiliza do mecanismo de compensação com o objetivo de livrar-se da obrigação de pagá-las aos funcionários. “Eles deixam acumulando só pra dispensar no fim do mês, entendeu? Daí eles liberam mais cedo”, contou o empacotador, em acordo com a mesma denúncia relatada na matéria anterior.\n",
            "\n",
            "Estas violações de direitos, quando somadas às escalas e jornadas extenuantes de trabalho, têm impacto direto sobre o direito ao desenvolvimento social e escolar dos adolescentes. Ainda que respeite os limites de horários (que, por lei, não podem trabalhar das 22h às 5h), a rotina exaustiva sufoca os estudos e frequentemente coloca os jovens sob o dilema de largá-los ou não.\n",
            "\n",
            "“No domingo eu trabalho das 9h às 20h, chego entre 22h e 23h em casa, vou comer e dormir, pras 5h, 6h da manhã estar de pé de novo. É complicado, mas eu preciso pra me sustentar.” Segundo ele, não há tempo para estudar ou fazer trabalhos escolares. “Nem estudo. Se estudo é meia hora antes de entrar na aula. Não tenho tempo pra estudar. E na minha folga, que seria o dia que eu tenho pra estudar, tenho que arrumar a casa e resolver os problemas que deixei de lado durante a semana”, explicou. “Já pensei em largar, mas graças a Deus não fiz isso.”\n",
            "\n",
            "Na mesma entrevista em que perguntamos sobre a regulação da jornada de trabalho, Valdete Souto Severo, doutora em direito do trabalho pela Universidade de São Paulo (USP), salientou a importância do respeito à norma constitucional, seja quando fixa jornada máxima (de 8h ou de 6h), seja quando protege a infância e a juventude. “Quero enfatizar que a reflexão a ser feita é sobre o tipo de sociedade em que queremos viver. A realização de horas extras com habitualidade, além de ser um contrassenso, pois torna essas horas ordinárias na vida do trabalhador, prejudica toda a comunidade. Tem direta relação com o abandono do estudo, com a dificuldade em se especializar em alguma profissão”.\n",
            "\n",
            "A resposta da Companhia Zaffari\n",
            "\n",
            "Em nota ao Brasil de Fato RS, o advogado da Companhia Zaffari, Flávio Obino Filho, afirmou “que os acordos coletivos de trabalho que envolvem mais de setecentas empresas do comércio de Porto Alegre não estabelecem a dita escala 10×1. Os acordos contêm a obrigação de concessão pelas empresas de repouso semanal remunerado na semana iniciada na segunda feira e que se encerra no domingo. Estabelecem, ainda, que o número de dias de trabalho corridos não ultrapasse 10 (dez). Assim, normalmente, considerando o período de um mês, ocorre uma sequência de 10, 2, 6 e 6 dias de trabalho antes de cada repouso. A Companhia Zaffari tem o mesmo acordo com o Ministério Público do Trabalho estabelecendo idêntico formato de descanso semanal remunerado. O acordo foi homologado pela Justiça do Trabalho e está vigente. Quanto a posição do Sindec de renegociar durante o ano de 2025 os mais de 700 acordos coletivos em negociações que são assistidas pelos sindicatos empresariais, a Companhia Zaffari, chamada, certamente acompanhará o procedimento negocial. A negociação coletiva é sempre o caminho para a solução de eventual conflito trabalhista“.\n",
            "\n",
            "Recebemos relatos de que a empresa iniciou uma movimentação interna para modificar a escala. Segundo funcionários de diferentes lojas, foi anunciado que a escala seria limitada a 6×1, só haveria trabalho em dois domingos consecutivos e os adolescentes não participariam mais dos “dias de dobra”, a que também eram submetidos até então (sextas, sábados e domingos em que as horas extras são obrigatórias, chegando a 11h trabalhadas).\n",
            "\n",
            "No entanto, ainda há desconfiança por parte dos trabalhadores que avaliam esta medida como um “extintor de incêndio”. Os entrevistados temem que a empresa faça isso agora e, quando “baixar a poeira, vai voltar tudo igual como é hoje”.\n",
            "\n",
            "O presidente do Sindicato dos Empregados no Comércio de Porto Alegre (Sindec-Poa), Nilton Neco, falou ao GZH que não renovará, em 2025, o acordo que permite a extensão da jornada para 10 dias de trabalho. Segundo ele, a decisão foi tomada em função da posição favorável do sindicato à luta pela redução da jornada de trabalho. O sindicato foi questionado sobre as novas denúncias e respondeu que a entidade dispõe de canais de denúncias permanentemente abertos, além de ter equipes de fiscalização circulando pelas empresas para inspecionar as condições de trabalho.\n",
            "\n",
            "Manifestações no interior das lojas\n",
            "\n",
            "Nos dias 5 e 6, foram realizadas manifestações no interior das lojas da avenida Ipiranga e da rua Lima e Silva. Partidos políticos de esquerda e movimentos sociais se uniram estendendo faixas e denunciando as condições de trabalho da empresa. Segundo os organizadores, as manifestações contaram com apoio dos consumidores e dos próprios trabalhadores, “que apesar da pressão e constrangimento dos superiores para não se manifestar, reiteraram as denúncias feitas pelos manifestantes”.\n",
            "\n",
            "Na sexta-feira (13), mesmo com chuva, também aconteceu um ato pelo fim da escala 6×1 e pela redução da jornada de trabalho sem redução salarial na Esquina Democrática, no centro de Porto Alegre. Já para o dia 20/12, foi convocada mais uma Manifestação Nacional pelo Fim da Escala 6×1.\n"
          ]
        }
      ]
    },
    {
      "cell_type": "code",
      "source": [
        "vectorstore = FAISS.from_documents(all_splits, OpenAIEmbeddings())\n",
        "\n",
        "retriever = vectorstore.as_retriever(search_type=\"similarity\", search_kwargs={\"k\": 6})\n",
        "\n",
        "retrieved_docs = retriever.invoke(\"Há abuso de poder por parte da empresa?\")\n",
        "\n",
        "len(retrieved_docs)"
      ],
      "metadata": {
        "id": "F3mygDVvtCjR",
        "colab": {
          "base_uri": "https://localhost:8080/"
        },
        "outputId": "d979cbb3-0fe6-41f7-91ac-011e6f022392"
      },
      "execution_count": null,
      "outputs": [
        {
          "output_type": "execute_result",
          "data": {
            "text/plain": [
              "2"
            ]
          },
          "metadata": {},
          "execution_count": 100
        }
      ]
    },
    {
      "cell_type": "code",
      "source": [
        "print(retrieved_docs[0].page_content)"
      ],
      "metadata": {
        "colab": {
          "base_uri": "https://localhost:8080/"
        },
        "id": "fl8-Ss4Ws7um",
        "outputId": "bacbe5fd-d8d7-45d3-f521-67617fe1929d"
      },
      "execution_count": null,
      "outputs": [
        {
          "output_type": "stream",
          "name": "stdout",
          "text": [
            "O Tribunal Superior do Trabalho (TST) tem o entendimento de que a restrição do uso do banheiro fere o princípio da dignidade humana e pode configurar “abuso do poder diretivo do empregador”. A decisão argumenta que “o Tribunal Superior do Trabalho tem entendido que a restrição pelo empregador ao uso de banheiro pelos seus empregados fere o princípio da dignidade da pessoa humana, tutelado no artigo 1º, inciso III, da Constituição Federal, traduzindo-se em verdadeiro abuso no exercício do poder diretivo da empresa (artigo 2º da CLT), o que configura ato ilícito, sendo, assim, indenizável o dano moral sofrido pelos empregados.”\n",
            "\n",
            "A decisão também enfatiza que, mesmo em relação às atividades ininterruptas, como é o caso de um hipermercado, “há que prevalecer o direito irrestrito de acesso às instalações sanitárias da empresa, durante a jornada de trabalho”. Por isso, também a contagem do número de pausas e do tempo despendido em cada uma delas “em si mesma já constitui intolerável constrangimento e menoscabo [depreciação] à dignidade humana”.\n",
            "\n",
            "Relações abusivas de trabalho e adoecimento mental\n",
            "\n",
            "Um segurança da empresa, que entrou em contato a partir da repercussão da primeira matéria, revelou como era a relação com seus gerentes. “Quando nós fazíamos 10×1 e queríamos descansar por dois dias seguidos por ter trabalhado nos feriados, o gerente e o gerente geral chamavam os funcionários de vagabundos, que não era pra se acostumar. E, ainda por cima, se reclamar, eles só falam: ‘se não gostar, pede as contas’. Sem falar que querem mandar em tudo nas nossas vidas, como corte de cabelo e a barba”. Por fim, revelou que era criticado até quando precisava levar parentes ao hospital. “Aí, eles diziam que o funcionário não tem compromisso com a empresa.”\n",
            "\n",
            "Uma funcionária recém-demitida, que pediu para não ser identificada, endossou a denúncia. “Quanto ao assédio moral, tive várias crises de ansiedade. Em muitas viagens no banheiro, meninas passando mal, chorando por causa da ansiedade e do estresse. Hoje, estou em tratamento pra depressão”. Mesmo quando oferecia atestado médico para não se submeter ao trabalho nesta situação, a companhia invalidava caso não constasse a Classificação Internacional das Doenças (CID).\n",
            "\n",
            "Em relação a essa exigência, também há decisão contrária do Tribunal Superior do Trabalho, que afirma “que não se pode exigir informação sobre a Classificação Internacional de Doenças (CID) em atestado médico e odontológico como requisito para o abono de faltas para empregados”. O CID é o código que identifica o diagnóstico que o paciente recebe, e sua exigência pela empresa para validar o atestado viola o direito à privacidade do empregado. A ex-funcionária descreve uma conversa com sua médica. “Minha própria médica me dizia: você não é obrigada a colocar o CID. Eu sempre falava que se não colocasse eles me cobrariam ou não aceitariam. Eu tinha que assinar no meu atestado que eu estava concordando em colocar o CID.”\n",
            "\n",
            "Ainda sobre os efeitos destas condições de trabalho sobre a saúde mental e a dignidade dos trabalhadores, diversas ex-funcionárias se pronunciaram por meio das redes sociais, reiterando as denúncias feitas e dando seu relato pessoal:\n",
            "\n",
            "“Eu trabalhei lá, tive crise de ansiedade, síndrome do pânico. Estava pirando até que pedi demissão, graças a deus. Eu perdi boa parte do crescimento das minhas filhas.”\n",
            "\n",
            "“Foi lá que eu adquiri meus remédios de ansiedade e crise do pânico. Exaustão total, não gostaria que meu pior inimigo trabalhasse nesse mercado, o que a gente sofre lá dentro ninguém conta.”\n",
            "\n",
            "“Desvalorização no trabalho, sobrecarregavam, exploravam, desvio de função, já fiz escala 12×1 (e queriam que fosse 18), em pleno período de enchente. Você não tem vida e ainda sente desrespeitado!”\n",
            "\n",
            "“Tive que trabalhar no Zaffari por 2 anos para pagar a faculdade, graças a essa empresa que não recomendo a ninguém, desenvolvi ansiedade e depressão na época. Quase desisti da faculdade, mas achei melhor pra mim pedir demissão.”\n",
            "\n",
            "O uso da força de trabalho de adolescentes\n",
            "\n",
            "A contratação de adolescentes entre 16 e 18 anos de idade é permitida por lei, desde que sejam obedecidas regras específicas estabelecidas pelo Estatuto da Criança e do Adolescente (ECA), que proíbe a alocação de menores em atividades insalubres, perigosas, penosas e noturnas. Além disso, outras duas regras balizam a contratação de adolescentes: que os locais não sejam “prejudiciais ao seu desenvolvimento físico, psíquico, moral e social” e que permitam sua frequência escolar. Os demais direitos são regidos pela Consolidação das Leis Trabalhistas (CLT), como para os maiores de idade.\n",
            "\n",
            "Segundo relatos, os adolescentes contratados pela Companhia Zaffari trabalham principalmente “na frente de caixa”, com a função de empacotadores, ou operadores de caixa. Um dos entrevistados relatou que, apesar de ter em sua carteira de trabalho o registro como empacotador, é constantemente redirecionado para outras funções para “dar apoio”. “Eu já fui colocado em várias funções. Já fui pra padaria, já fui dar apoio na rua, apoio pro estacionamento, já puxei carrinho e já fiquei na devolução”. No seu contrato, porém, há uma cláusula que “regulamenta” o acúmulo de funções, onde diz que o jovem receberá o mesmo salário para exercer outras atividades, “mesmo aquelas não inerentes às funções [para a qual foi contratado]”. Assim, o salário permanece os mesmos R$1.412, com descontos que entregam cerca de R$1 mil líquido por mês.\n",
            "\n",
            "O adolescente também denunciou ser submetido a jornadas que extrapolam as 10 horas de trabalho, chegando a 11 horas e 30 minutos.\n",
            "\n",
            "Registro do ponto do empacotador adolescente com trabalho de 11 horas e 30 minutos no domingo (Foto: Jornal O Futuro)\n",
            "\n",
            "Um colega da mesma função e idade, mas de outra loja, disse ter sido promovido a operador de caixa (o que significa um aumento de R$ 300 no salário bruto), função em que ficou trabalhando durante dois meses sem ocorrer a mudança em seu contrato. Situação similar foi reiterada por outras colegas de loja, antes empacotadoras, hoje operadoras de caixa. Este mesmo adolescente também denunciou trabalhar diversas vezes sob o regime 10×1, além de chegar a 11 horas de trabalho nos domingos e feriados “de dobra”.\n",
            "\n",
            "Registro do ponto do outro adolescente empacotador com 11 horas e 1 minuto de trabalho no domingo (Foto: Jornal O Futuro)\n",
            "\n",
            "O limite de duas horas extras por dia é frequentemente desrespeitado pela Companhia, que utiliza do mecanismo de compensação com o objetivo de livrar-se da obrigação de pagá-las aos funcionários. “Eles deixam acumulando só pra dispensar no fim do mês, entendeu? Daí eles liberam mais cedo”, contou o empacotador, em acordo com a mesma denúncia relatada na matéria anterior.\n",
            "\n",
            "Estas violações de direitos, quando somadas às escalas e jornadas extenuantes de trabalho, têm impacto direto sobre o direito ao desenvolvimento social e escolar dos adolescentes. Ainda que respeite os limites de horários (que, por lei, não podem trabalhar das 22h às 5h), a rotina exaustiva sufoca os estudos e frequentemente coloca os jovens sob o dilema de largá-los ou não.\n",
            "\n",
            "“No domingo eu trabalho das 9h às 20h, chego entre 22h e 23h em casa, vou comer e dormir, pras 5h, 6h da manhã estar de pé de novo. É complicado, mas eu preciso pra me sustentar.” Segundo ele, não há tempo para estudar ou fazer trabalhos escolares. “Nem estudo. Se estudo é meia hora antes de entrar na aula. Não tenho tempo pra estudar. E na minha folga, que seria o dia que eu tenho pra estudar, tenho que arrumar a casa e resolver os problemas que deixei de lado durante a semana”, explicou. “Já pensei em largar, mas graças a Deus não fiz isso.”\n",
            "\n",
            "Na mesma entrevista em que perguntamos sobre a regulação da jornada de trabalho, Valdete Souto Severo, doutora em direito do trabalho pela Universidade de São Paulo (USP), salientou a importância do respeito à norma constitucional, seja quando fixa jornada máxima (de 8h ou de 6h), seja quando protege a infância e a juventude. “Quero enfatizar que a reflexão a ser feita é sobre o tipo de sociedade em que queremos viver. A realização de horas extras com habitualidade, além de ser um contrassenso, pois torna essas horas ordinárias na vida do trabalhador, prejudica toda a comunidade. Tem direta relação com o abandono do estudo, com a dificuldade em se especializar em alguma profissão”.\n",
            "\n",
            "A resposta da Companhia Zaffari\n",
            "\n",
            "Em nota ao Brasil de Fato RS, o advogado da Companhia Zaffari, Flávio Obino Filho, afirmou “que os acordos coletivos de trabalho que envolvem mais de setecentas empresas do comércio de Porto Alegre não estabelecem a dita escala 10×1. Os acordos contêm a obrigação de concessão pelas empresas de repouso semanal remunerado na semana iniciada na segunda feira e que se encerra no domingo. Estabelecem, ainda, que o número de dias de trabalho corridos não ultrapasse 10 (dez). Assim, normalmente, considerando o período de um mês, ocorre uma sequência de 10, 2, 6 e 6 dias de trabalho antes de cada repouso. A Companhia Zaffari tem o mesmo acordo com o Ministério Público do Trabalho estabelecendo idêntico formato de descanso semanal remunerado. O acordo foi homologado pela Justiça do Trabalho e está vigente. Quanto a posição do Sindec de renegociar durante o ano de 2025 os mais de 700 acordos coletivos em negociações que são assistidas pelos sindicatos empresariais, a Companhia Zaffari, chamada, certamente acompanhará o procedimento negocial. A negociação coletiva é sempre o caminho para a solução de eventual conflito trabalhista“.\n",
            "\n",
            "Recebemos relatos de que a empresa iniciou uma movimentação interna para modificar a escala. Segundo funcionários de diferentes lojas, foi anunciado que a escala seria limitada a 6×1, só haveria trabalho em dois domingos consecutivos e os adolescentes não participariam mais dos “dias de dobra”, a que também eram submetidos até então (sextas, sábados e domingos em que as horas extras são obrigatórias, chegando a 11h trabalhadas).\n",
            "\n",
            "No entanto, ainda há desconfiança por parte dos trabalhadores que avaliam esta medida como um “extintor de incêndio”. Os entrevistados temem que a empresa faça isso agora e, quando “baixar a poeira, vai voltar tudo igual como é hoje”.\n",
            "\n",
            "O presidente do Sindicato dos Empregados no Comércio de Porto Alegre (Sindec-Poa), Nilton Neco, falou ao GZH que não renovará, em 2025, o acordo que permite a extensão da jornada para 10 dias de trabalho. Segundo ele, a decisão foi tomada em função da posição favorável do sindicato à luta pela redução da jornada de trabalho. O sindicato foi questionado sobre as novas denúncias e respondeu que a entidade dispõe de canais de denúncias permanentemente abertos, além de ter equipes de fiscalização circulando pelas empresas para inspecionar as condições de trabalho.\n",
            "\n",
            "Manifestações no interior das lojas\n",
            "\n",
            "Nos dias 5 e 6, foram realizadas manifestações no interior das lojas da avenida Ipiranga e da rua Lima e Silva. Partidos políticos de esquerda e movimentos sociais se uniram estendendo faixas e denunciando as condições de trabalho da empresa. Segundo os organizadores, as manifestações contaram com apoio dos consumidores e dos próprios trabalhadores, “que apesar da pressão e constrangimento dos superiores para não se manifestar, reiteraram as denúncias feitas pelos manifestantes”.\n",
            "\n",
            "Na sexta-feira (13), mesmo com chuva, também aconteceu um ato pelo fim da escala 6×1 e pela redução da jornada de trabalho sem redução salarial na Esquina Democrática, no centro de Porto Alegre. Já para o dia 20/12, foi convocada mais uma Manifestação Nacional pelo Fim da Escala 6×1.\n",
            "\n",
            "Informações em primeira mão! Siga o canal do ICL Notícias no WhatsApp Acesso total a mais de 300 cursos, materiais e séries! Seja Membro ICL Siga e acompanhe as atualizações do ICL Notícias também pelo Google News\n",
            "\n",
            "direitos trabalhistasmercado de trabalho\n",
            "\n",
            "Deixe um comentário\n",
            "\n",
            "Mais Lidas\n",
            "\n",
            "veja mais\n",
            "\n",
            "regras claras\n",
            "\n",
            "Movimento de pais tenta impedir que celulares fiquem nas mochilas dos alunos\n",
            "\n",
            "Movimento Desconecta se reúne com o MEC para solicitar regra mais clara\n",
            "\n",
            "Investigação\n",
            "\n",
            "Empresa de máquina de cartão de ex-diretor da Bola de Neve faturou R$ 500 mil com dízimo\n",
            "\n",
            "filha de militar\n",
            "\n",
            "Mulher que levou coroa de flores a Lula recebe pensão de R$ 14 mil do Exército\n",
            "\n",
            "'Feliz Natal para quem?'\n",
            "\n",
            "Trabalhadores vão às ruas nesta sexta contra jornadas exaustivas; confira cidades\n",
            "\n",
            "distorção\n",
            "\n",
            "Celebrada por governo e centrão, reforma tributária amplia incentivo aos agrotóxicos\n",
            "\n",
            "Assine nossa newsletter\n",
            "\n",
            "Receba nossos informativos diretamente em seu e-mail\n",
            "\n",
            "Expediente\n",
            "\n",
            "Fale com a Redação\n",
            "\n",
            "Política de Privacidade\n",
            "\n",
            "Termos de Uso\n",
            "\n",
            "© 2024 — Todos os direitos reservados\n",
            "\n",
            "Utilizamos cookies essenciais e tecnologias semelhantes para analisar e aprimorar nosso serviço, personalizar conteúdos e melhorar sua experiência digital de acordo com a nossa Política de Privacidade e, ao continuar navegando, você concorda com estas condições.\n",
            "\n",
            "Prosseguir\n"
          ]
        }
      ]
    },
    {
      "cell_type": "code",
      "source": [
        "from langchain_core.prompts import ChatPromptTemplate\n",
        "\n",
        "system_template = \"\"\"Você é um assistente para tarefas de perguntas e respostas. Use os seguintes trechos de contexto recuperados para responder à pergunta. Se você não souber a resposta, apenas diga que não sabe. Use no máximo duas frases e mantenha a resposta concisa e fale apenas o necessário.\n",
        "\n",
        "Pergunta: {question}\n",
        "\n",
        "Contexto: {context}\n",
        "\n",
        "Resposta:\n",
        "\"\"\"\n",
        "\n",
        "prompt_template = ChatPromptTemplate.from_template(system_template)"
      ],
      "metadata": {
        "id": "J-j9-JQ7ODJW"
      },
      "execution_count": null,
      "outputs": []
    },
    {
      "cell_type": "code",
      "source": [
        "example_messages = prompt_template.invoke({\n",
        "    \"context\": \"algum contexto\",\n",
        "    \"question\": \"alguma pergunta\"\n",
        "})\n",
        "\n",
        "print(example_messages.to_messages())"
      ],
      "metadata": {
        "colab": {
          "base_uri": "https://localhost:8080/"
        },
        "id": "RpoL0tytOKbT",
        "outputId": "eb543ec6-5115-4567-9961-b7fb277388ad"
      },
      "execution_count": null,
      "outputs": [
        {
          "output_type": "stream",
          "name": "stdout",
          "text": [
            "[HumanMessage(content='Você é um assistente para tarefas de perguntas e respostas. Use os seguintes trechos de contexto recuperados para responder à pergunta. Se você não souber a resposta, apenas diga que não sabe. Use no máximo duas frases e mantenha a resposta concisa e fale apenas o necessário.\\n\\nPergunta: alguma pergunta\\n\\nContexto: algum contexto\\n\\nResposta:\\n', additional_kwargs={}, response_metadata={})]\n"
          ]
        }
      ]
    },
    {
      "cell_type": "code",
      "source": [
        "from langchain_openai import ChatOpenAI\n",
        "\n",
        "llm = ChatOpenAI(model=\"gpt-4o-mini\")\n"
      ],
      "metadata": {
        "id": "pIeTIDk8OZ9R"
      },
      "execution_count": null,
      "outputs": []
    },
    {
      "cell_type": "code",
      "source": [
        "from langchain_core.output_parsers import StrOutputParser\n",
        "from langchain_core.runnables import RunnablePassthrough\n",
        "\n",
        "def format_docs(docs):\n",
        "    return \"\\n\\n\".join(doc.page_content for doc in docs)\n",
        "\n",
        "rag_chain = (\n",
        "    {\"context\": retriever | format_docs, \"question\": RunnablePassthrough()}\n",
        "    | prompt_template\n",
        "    | llm\n",
        "    | StrOutputParser()\n",
        ")"
      ],
      "metadata": {
        "id": "SSYmD50JOtwP"
      },
      "execution_count": null,
      "outputs": []
    },
    {
      "cell_type": "code",
      "source": [
        "for chunk in rag_chain.stream(\"Qual é a empresa denunciada?\"):\n",
        "    print(chunk, end=\"\", flush=True)"
      ],
      "metadata": {
        "colab": {
          "base_uri": "https://localhost:8080/"
        },
        "id": "pRB1TEH5O3yN",
        "outputId": "cfdc1154-fe5a-454a-e33d-441c5112eac1"
      },
      "execution_count": null,
      "outputs": [
        {
          "output_type": "stream",
          "name": "stdout",
          "text": [
            "A empresa denunciada é a Companhia Zaffari. Os funcionários relataram condições de trabalho degradantes e violações de direitos."
          ]
        }
      ]
    }
  ],
  "metadata": {
    "kernelspec": {
      "display_name": "base",
      "language": "python",
      "name": "python3"
    },
    "language_info": {
      "codemirror_mode": {
        "name": "ipython",
        "version": 3
      },
      "file_extension": ".py",
      "mimetype": "text/x-python",
      "name": "python",
      "nbconvert_exporter": "python",
      "pygments_lexer": "ipython3",
      "version": "3.10.13"
    },
    "colab": {
      "provenance": []
    }
  },
  "nbformat": 4,
  "nbformat_minor": 0
}