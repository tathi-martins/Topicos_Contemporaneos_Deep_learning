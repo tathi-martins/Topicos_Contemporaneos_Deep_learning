{
  "nbformat": 4,
  "nbformat_minor": 0,
  "metadata": {
    "colab": {
      "provenance": [],
      "toc_visible": true
    },
    "kernelspec": {
      "name": "python3",
      "display_name": "Python 3"
    },
    "language_info": {
      "name": "python"
    }
  },
  "cells": [
    {
      "cell_type": "markdown",
      "source": [
        "# Objetivo"
      ],
      "metadata": {
        "id": "3wcC1Squi6Da"
      }
    },
    {
      "cell_type": "markdown",
      "source": [
        "**Aluna:** Tathiana de Souza Martins\n",
        "**Email:** tsm2@cesar.school"
      ],
      "metadata": {
        "id": "_pJxXALitvds"
      }
    },
    {
      "cell_type": "markdown",
      "source": [
        "Este modelo foi desenvolvido para atestar se um determinado produto está superfaturado ou não. Pensado como uma ferramenta para auxiliar auditores ou analistas do TCE e/ou TCU a identificar produtos superfaturados em alguma obra pública. O projeto segue as diretrizes do projeto final do módulo Assuntos Contemporâneos da Pós-graduação de Engenharia e Análises de Dados do CESAR School, projeto este proposto pelo professor Silvan Ferreira.\n",
        "\n",
        "O aplicativo usa um sistema RAG utilizando a biblioteca LangChain e SerpiAPI para extrair os preços de um determinado produto, o Langchain Tools para criar funções personalizadas a serem usadas pelo modelo da OpenAI disponível abertamente, \"gpt-4o-mini\".\n",
        "\n",
        "Para utilizar é necessário apenas escrever o produto que o usuário deseja pesquisar o valor e o valor de corte, ou a pergunta se o valor está superfaturado ou não. O resultado é uma lista do produto pesquisado com os respectivos preços e link da loja e uma resposta estilo ChatGPT se o produto é superfaturado ou não."
      ],
      "metadata": {
        "id": "r_K5SfX1jzTD"
      }
    },
    {
      "cell_type": "markdown",
      "source": [
        "## Baixando as Bibliotecas"
      ],
      "metadata": {
        "id": "HUS6ofKQMr2B"
      }
    },
    {
      "cell_type": "code",
      "source": [
        "!pip install --upgrade --quiet  langchain-google-community\n",
        "!pip install --quiet langchain\n",
        "!pip install --quiet google-search-results\n",
        "!pip install --quiet google-search-results"
      ],
      "metadata": {
        "colab": {
          "base_uri": "https://localhost:8080/"
        },
        "id": "K5Vaec8B0MeR",
        "outputId": "ecb66901-2185-413d-e524-4883dbc10b58"
      },
      "execution_count": null,
      "outputs": [
        {
          "output_type": "stream",
          "name": "stdout",
          "text": [
            "\u001b[?25l   \u001b[90m━━━━━━━━━━━━━━━━━━━━━━━━━━━━━━━━━━━━━━━━\u001b[0m \u001b[32m0.0/77.6 kB\u001b[0m \u001b[31m?\u001b[0m eta \u001b[36m-:--:--\u001b[0m\r\u001b[2K   \u001b[90m━━━━━━━━━━━━━━━━━━━━━━━━━━━━━━━━━━━━━━━━\u001b[0m \u001b[32m77.6/77.6 kB\u001b[0m \u001b[31m3.2 MB/s\u001b[0m eta \u001b[36m0:00:00\u001b[0m\n",
            "\u001b[?25h\u001b[?25l   \u001b[90m━━━━━━━━━━━━━━━━━━━━━━━━━━━━━━━━━━━━━━━━\u001b[0m \u001b[32m0.0/2.5 MB\u001b[0m \u001b[31m?\u001b[0m eta \u001b[36m-:--:--\u001b[0m\r\u001b[2K   \u001b[91m━━━━━━━━━━━━━━\u001b[0m\u001b[91m╸\u001b[0m\u001b[90m━━━━━━━━━━━━━━━━━━━━━━━━━\u001b[0m \u001b[32m0.9/2.5 MB\u001b[0m \u001b[31m24.7 MB/s\u001b[0m eta \u001b[36m0:00:01\u001b[0m\r\u001b[2K   \u001b[91m━━━━━━━━━━━━━━━━━━━━━━━━━━━━━━━━━━━━━━━\u001b[0m\u001b[91m╸\u001b[0m \u001b[32m2.5/2.5 MB\u001b[0m \u001b[31m44.5 MB/s\u001b[0m eta \u001b[36m0:00:01\u001b[0m\r\u001b[2K   \u001b[90m━━━━━━━━━━━━━━━━━━━━━━━━━━━━━━━━━━━━━━━━\u001b[0m \u001b[32m2.5/2.5 MB\u001b[0m \u001b[31m32.0 MB/s\u001b[0m eta \u001b[36m0:00:00\u001b[0m\n",
            "\u001b[2K   \u001b[90m━━━━━━━━━━━━━━━━━━━━━━━━━━━━━━━━━━━━━━━━\u001b[0m \u001b[32m411.6/411.6 kB\u001b[0m \u001b[31m23.7 MB/s\u001b[0m eta \u001b[36m0:00:00\u001b[0m\n",
            "\u001b[2K   \u001b[90m━━━━━━━━━━━━━━━━━━━━━━━━━━━━━━━━━━━━━━━━\u001b[0m \u001b[32m1.0/1.0 MB\u001b[0m \u001b[31m44.2 MB/s\u001b[0m eta \u001b[36m0:00:00\u001b[0m\n",
            "\u001b[2K   \u001b[90m━━━━━━━━━━━━━━━━━━━━━━━━━━━━━━━━━━━━━━━━\u001b[0m \u001b[32m49.3/49.3 kB\u001b[0m \u001b[31m2.6 MB/s\u001b[0m eta \u001b[36m0:00:00\u001b[0m\n",
            "\u001b[?25h  Preparing metadata (setup.py) ... \u001b[?25l\u001b[?25hdone\n",
            "  Building wheel for google-search-results (setup.py) ... \u001b[?25l\u001b[?25hdone\n"
          ]
        }
      ]
    },
    {
      "cell_type": "code",
      "source": [
        "!pip install langchain_openai langchain_core langgraph"
      ],
      "metadata": {
        "colab": {
          "base_uri": "https://localhost:8080/"
        },
        "collapsed": true,
        "id": "_ChRyKPLInlZ",
        "outputId": "0acf19d9-f8c6-4639-9ba4-154683173208"
      },
      "execution_count": null,
      "outputs": [
        {
          "output_type": "stream",
          "name": "stdout",
          "text": [
            "Collecting langchain_openai\n",
            "  Downloading langchain_openai-0.2.14-py3-none-any.whl.metadata (2.7 kB)\n",
            "Requirement already satisfied: langchain_core in /usr/local/lib/python3.10/dist-packages (0.3.28)\n",
            "Collecting langgraph\n",
            "  Downloading langgraph-0.2.60-py3-none-any.whl.metadata (15 kB)\n",
            "Collecting openai<2.0.0,>=1.58.1 (from langchain_openai)\n",
            "  Downloading openai-1.58.1-py3-none-any.whl.metadata (27 kB)\n",
            "Collecting tiktoken<1,>=0.7 (from langchain_openai)\n",
            "  Downloading tiktoken-0.8.0-cp310-cp310-manylinux_2_17_x86_64.manylinux2014_x86_64.whl.metadata (6.6 kB)\n",
            "Requirement already satisfied: PyYAML>=5.3 in /usr/local/lib/python3.10/dist-packages (from langchain_core) (6.0.2)\n",
            "Requirement already satisfied: jsonpatch<2.0,>=1.33 in /usr/local/lib/python3.10/dist-packages (from langchain_core) (1.33)\n",
            "Requirement already satisfied: langsmith<0.3,>=0.1.125 in /usr/local/lib/python3.10/dist-packages (from langchain_core) (0.2.3)\n",
            "Requirement already satisfied: packaging<25,>=23.2 in /usr/local/lib/python3.10/dist-packages (from langchain_core) (24.2)\n",
            "Requirement already satisfied: pydantic<3.0.0,>=2.5.2 in /usr/local/lib/python3.10/dist-packages (from langchain_core) (2.10.3)\n",
            "Requirement already satisfied: tenacity!=8.4.0,<10.0.0,>=8.1.0 in /usr/local/lib/python3.10/dist-packages (from langchain_core) (9.0.0)\n",
            "Requirement already satisfied: typing-extensions>=4.7 in /usr/local/lib/python3.10/dist-packages (from langchain_core) (4.12.2)\n",
            "Collecting langgraph-checkpoint<3.0.0,>=2.0.4 (from langgraph)\n",
            "  Downloading langgraph_checkpoint-2.0.9-py3-none-any.whl.metadata (4.6 kB)\n",
            "Collecting langgraph-sdk<0.2.0,>=0.1.42 (from langgraph)\n",
            "  Downloading langgraph_sdk-0.1.48-py3-none-any.whl.metadata (1.8 kB)\n",
            "Requirement already satisfied: jsonpointer>=1.9 in /usr/local/lib/python3.10/dist-packages (from jsonpatch<2.0,>=1.33->langchain_core) (3.0.0)\n",
            "Requirement already satisfied: msgpack<2.0.0,>=1.1.0 in /usr/local/lib/python3.10/dist-packages (from langgraph-checkpoint<3.0.0,>=2.0.4->langgraph) (1.1.0)\n",
            "Requirement already satisfied: httpx>=0.25.2 in /usr/local/lib/python3.10/dist-packages (from langgraph-sdk<0.2.0,>=0.1.42->langgraph) (0.28.1)\n",
            "Requirement already satisfied: orjson>=3.10.1 in /usr/local/lib/python3.10/dist-packages (from langgraph-sdk<0.2.0,>=0.1.42->langgraph) (3.10.12)\n",
            "Requirement already satisfied: requests<3,>=2 in /usr/local/lib/python3.10/dist-packages (from langsmith<0.3,>=0.1.125->langchain_core) (2.32.3)\n",
            "Requirement already satisfied: requests-toolbelt<2.0.0,>=1.0.0 in /usr/local/lib/python3.10/dist-packages (from langsmith<0.3,>=0.1.125->langchain_core) (1.0.0)\n",
            "Requirement already satisfied: anyio<5,>=3.5.0 in /usr/local/lib/python3.10/dist-packages (from openai<2.0.0,>=1.58.1->langchain_openai) (3.7.1)\n",
            "Requirement already satisfied: distro<2,>=1.7.0 in /usr/local/lib/python3.10/dist-packages (from openai<2.0.0,>=1.58.1->langchain_openai) (1.9.0)\n",
            "Requirement already satisfied: jiter<1,>=0.4.0 in /usr/local/lib/python3.10/dist-packages (from openai<2.0.0,>=1.58.1->langchain_openai) (0.8.2)\n",
            "Requirement already satisfied: sniffio in /usr/local/lib/python3.10/dist-packages (from openai<2.0.0,>=1.58.1->langchain_openai) (1.3.1)\n",
            "Requirement already satisfied: tqdm>4 in /usr/local/lib/python3.10/dist-packages (from openai<2.0.0,>=1.58.1->langchain_openai) (4.67.1)\n",
            "Requirement already satisfied: annotated-types>=0.6.0 in /usr/local/lib/python3.10/dist-packages (from pydantic<3.0.0,>=2.5.2->langchain_core) (0.7.0)\n",
            "Requirement already satisfied: pydantic-core==2.27.1 in /usr/local/lib/python3.10/dist-packages (from pydantic<3.0.0,>=2.5.2->langchain_core) (2.27.1)\n",
            "Requirement already satisfied: regex>=2022.1.18 in /usr/local/lib/python3.10/dist-packages (from tiktoken<1,>=0.7->langchain_openai) (2024.11.6)\n",
            "Requirement already satisfied: idna>=2.8 in /usr/local/lib/python3.10/dist-packages (from anyio<5,>=3.5.0->openai<2.0.0,>=1.58.1->langchain_openai) (3.10)\n",
            "Requirement already satisfied: exceptiongroup in /usr/local/lib/python3.10/dist-packages (from anyio<5,>=3.5.0->openai<2.0.0,>=1.58.1->langchain_openai) (1.2.2)\n",
            "Requirement already satisfied: certifi in /usr/local/lib/python3.10/dist-packages (from httpx>=0.25.2->langgraph-sdk<0.2.0,>=0.1.42->langgraph) (2024.12.14)\n",
            "Requirement already satisfied: httpcore==1.* in /usr/local/lib/python3.10/dist-packages (from httpx>=0.25.2->langgraph-sdk<0.2.0,>=0.1.42->langgraph) (1.0.7)\n",
            "Requirement already satisfied: h11<0.15,>=0.13 in /usr/local/lib/python3.10/dist-packages (from httpcore==1.*->httpx>=0.25.2->langgraph-sdk<0.2.0,>=0.1.42->langgraph) (0.14.0)\n",
            "Requirement already satisfied: charset-normalizer<4,>=2 in /usr/local/lib/python3.10/dist-packages (from requests<3,>=2->langsmith<0.3,>=0.1.125->langchain_core) (3.4.0)\n",
            "Requirement already satisfied: urllib3<3,>=1.21.1 in /usr/local/lib/python3.10/dist-packages (from requests<3,>=2->langsmith<0.3,>=0.1.125->langchain_core) (2.2.3)\n",
            "Downloading langchain_openai-0.2.14-py3-none-any.whl (50 kB)\n",
            "\u001b[2K   \u001b[90m━━━━━━━━━━━━━━━━━━━━━━━━━━━━━━━━━━━━━━━━\u001b[0m \u001b[32m50.9/50.9 kB\u001b[0m \u001b[31m2.4 MB/s\u001b[0m eta \u001b[36m0:00:00\u001b[0m\n",
            "\u001b[?25hDownloading langgraph-0.2.60-py3-none-any.whl (135 kB)\n",
            "\u001b[2K   \u001b[90m━━━━━━━━━━━━━━━━━━━━━━━━━━━━━━━━━━━━━━━━\u001b[0m \u001b[32m135.7/135.7 kB\u001b[0m \u001b[31m5.6 MB/s\u001b[0m eta \u001b[36m0:00:00\u001b[0m\n",
            "\u001b[?25hDownloading langgraph_checkpoint-2.0.9-py3-none-any.whl (37 kB)\n",
            "Downloading langgraph_sdk-0.1.48-py3-none-any.whl (43 kB)\n",
            "\u001b[2K   \u001b[90m━━━━━━━━━━━━━━━━━━━━━━━━━━━━━━━━━━━━━━━━\u001b[0m \u001b[32m43.7/43.7 kB\u001b[0m \u001b[31m2.3 MB/s\u001b[0m eta \u001b[36m0:00:00\u001b[0m\n",
            "\u001b[?25hDownloading openai-1.58.1-py3-none-any.whl (454 kB)\n",
            "\u001b[2K   \u001b[90m━━━━━━━━━━━━━━━━━━━━━━━━━━━━━━━━━━━━━━━━\u001b[0m \u001b[32m454.3/454.3 kB\u001b[0m \u001b[31m17.1 MB/s\u001b[0m eta \u001b[36m0:00:00\u001b[0m\n",
            "\u001b[?25hDownloading tiktoken-0.8.0-cp310-cp310-manylinux_2_17_x86_64.manylinux2014_x86_64.whl (1.2 MB)\n",
            "\u001b[2K   \u001b[90m━━━━━━━━━━━━━━━━━━━━━━━━━━━━━━━━━━━━━━━━\u001b[0m \u001b[32m1.2/1.2 MB\u001b[0m \u001b[31m39.7 MB/s\u001b[0m eta \u001b[36m0:00:00\u001b[0m\n",
            "\u001b[?25hInstalling collected packages: tiktoken, openai, langgraph-sdk, langgraph-checkpoint, langchain_openai, langgraph\n",
            "  Attempting uninstall: openai\n",
            "    Found existing installation: openai 1.57.4\n",
            "    Uninstalling openai-1.57.4:\n",
            "      Successfully uninstalled openai-1.57.4\n",
            "Successfully installed langchain_openai-0.2.14 langgraph-0.2.60 langgraph-checkpoint-2.0.9 langgraph-sdk-0.1.48 openai-1.58.1 tiktoken-0.8.0\n"
          ]
        }
      ]
    },
    {
      "cell_type": "code",
      "source": [
        "## Importando as Bibliotecas"
      ],
      "metadata": {
        "id": "mqmeAirHMy73"
      },
      "execution_count": null,
      "outputs": []
    },
    {
      "cell_type": "code",
      "source": [
        "import os\n",
        "from langchain_openai import ChatOpenAI\n",
        "from langchain_core.tools import Tool\n",
        "from langchain_google_community import GoogleSearchAPIWrapper\n",
        "from langchain.utilities import SerpAPIWrapper\n",
        "from langgraph.prebuilt import create_react_agent\n",
        "from langchain_core.messages import HumanMessage\n"
      ],
      "metadata": {
        "id": "VFia8BBnzhJC"
      },
      "execution_count": null,
      "outputs": []
    },
    {
      "cell_type": "code",
      "source": [
        "import getpass\n",
        "import os\n",
        "\n",
        "os.environ[\"OPENAI_API_KEY\"] = getpass.getpass()"
      ],
      "metadata": {
        "colab": {
          "base_uri": "https://localhost:8080/"
        },
        "id": "EXN3jdD42tnS",
        "outputId": "b8087653-981e-45b6-f03e-986d41233a2a"
      },
      "execution_count": null,
      "outputs": [
        {
          "name": "stdout",
          "output_type": "stream",
          "text": [
            "··········\n"
          ]
        }
      ]
    },
    {
      "cell_type": "code",
      "source": [
        "os.environ['SERPAPI_API_KEY'] =  getpass.getpass() # Use a sua chave SerpAPI\n",
        "os.environ['GOOGLE_API_KEY'] = getpass.getpass() # Use a sua chave Google API\n"
      ],
      "metadata": {
        "id": "JUfBgeTIzuXq"
      },
      "execution_count": null,
      "outputs": []
    },
    {
      "cell_type": "markdown",
      "source": [
        "## Baixando o modelo da OpenAI GPT 4o mini"
      ],
      "metadata": {
        "id": "yDR_mNkZM40Q"
      }
    },
    {
      "cell_type": "code",
      "source": [
        "llm = ChatOpenAI(model=\"gpt-4o-mini\", temperature=0)"
      ],
      "metadata": {
        "id": "FzetNIVUJHKp"
      },
      "execution_count": null,
      "outputs": []
    },
    {
      "cell_type": "markdown",
      "source": [
        "## Funções e Tools"
      ],
      "metadata": {
        "id": "gs_8RfCKNIN4"
      }
    },
    {
      "cell_type": "code",
      "source": [
        "@tool\n",
        "def fetch_google_shopping(query: str, max_results: int = 10):\n",
        "    \"\"\"Busca no Google Shopping para comparar preços de produtos.\n",
        "\n",
        "    Args:\n",
        "        query: A pesquisa a ser realizada no Google Shopping.\n",
        "        max_results: Número máximo de resultados desejados.\n",
        "    \"\"\"\n",
        "    search = SerpAPIWrapper(\n",
        "        params={\n",
        "            \"gl\": \"br\",           # Geolocalização: Brasil\n",
        "            \"hl\": \"pt-BR\",        # Idioma: Português do Brasil\n",
        "            \"tbm\": \"shop\",        # Tipo de busca: Google Shopping\n",
        "            \"num\": max_results,   # Número de resultados desejados\n",
        "        }\n",
        "    )\n",
        "    result = search.run(query)\n",
        "    return result\n",
        "\n",
        "@tool\n",
        "def calcula_valor_min(query_result):\n",
        "    \"\"\"Calcula o valor mínimo entre os resultados da pesquisa.\n",
        "\n",
        "    Args:\n",
        "        query_result: Resultados da pesquisa.\n",
        "\n",
        "    Returns:\n",
        "        O menor valor encontrado nos resultados.\n",
        "    \"\"\"\n",
        "    prices = [item.get('extracted_price') for item in query_result if item.get('extracted_price') is not None]\n",
        "    if not prices:\n",
        "        return \"Nenhum preço disponível\"\n",
        "    return min(prices)\n",
        "\n",
        "@tool\n",
        "def superfaturado(price: float, min_price: float) -> str:\n",
        "    \"\"\"Calcula se o valor de um item é superfaturado.\n",
        "\n",
        "    Args:\n",
        "        price: Preço do item.\n",
        "        min_price: Preço mínimo encontrado.\n",
        "\n",
        "    Returns:\n",
        "        'Superfaturado' ou 'Não superfaturado'.\n",
        "    \"\"\"\n",
        "    if price >= min_price * 2:\n",
        "        return 'Superfaturado'\n",
        "    else:\n",
        "        return 'Não superfaturado'\n",
        "\n",
        "\n",
        "# Lista de ferramentas\n",
        "tools = [fetch_google_shopping, calcula_valor_min, superfaturado]\n"
      ],
      "metadata": {
        "id": "fPkIilfIJVfE"
      },
      "execution_count": null,
      "outputs": []
    },
    {
      "cell_type": "markdown",
      "source": [
        "## Fazendo a query e a resposta"
      ],
      "metadata": {
        "id": "sXfuudLHNQ_l"
      }
    },
    {
      "cell_type": "code",
      "source": [
        "agent_executor = create_react_agent(llm, tools)\n",
        "\n",
        "response = agent_executor.invoke({\n",
        "    \"messages\": [\n",
        "        HumanMessage(content=\"Pesquise preço para Desktop i3 8gb hd 500gb, e verifique se há um preço menor do que R$2645.52\")\n",
        "    ]\n",
        "})\n"
      ],
      "metadata": {
        "colab": {
          "base_uri": "https://localhost:8080/"
        },
        "collapsed": true,
        "id": "6ceyBhs2PBpB",
        "outputId": "2aed6259-31e8-4d61-fd27-df216ff971cf"
      },
      "execution_count": null,
      "outputs": [
        {
          "output_type": "stream",
          "name": "stdout",
          "text": [
            "[HumanMessage(content='Pesquise preço para Desktop i3 8gb hd 500gb, e verifique se há um preço menor do que R$2645.52', additional_kwargs={}, response_metadata={}, id='5cc76b3a-579e-4d53-a338-d42a46badf04'), AIMessage(content='', additional_kwargs={'tool_calls': [{'id': 'call_W82GxWAoW05urzptNL7ysA19', 'function': {'arguments': '{\"query\":\"Desktop i3 8gb hd 500gb\"}', 'name': 'fetch_google_shopping'}, 'type': 'function'}], 'refusal': None}, response_metadata={'token_usage': {'completion_tokens': 26, 'prompt_tokens': 227, 'total_tokens': 253, 'completion_tokens_details': {'accepted_prediction_tokens': 0, 'audio_tokens': 0, 'reasoning_tokens': 0, 'rejected_prediction_tokens': 0}, 'prompt_tokens_details': {'audio_tokens': 0, 'cached_tokens': 0}}, 'model_name': 'gpt-4o-mini-2024-07-18', 'system_fingerprint': 'fp_0aa8d3e20b', 'finish_reason': 'tool_calls', 'logprobs': None}, id='run-64b5a464-3039-4bee-8f12-53fcd0ab7501-0', tool_calls=[{'name': 'fetch_google_shopping', 'args': {'query': 'Desktop i3 8gb hd 500gb'}, 'id': 'call_W82GxWAoW05urzptNL7ysA19', 'type': 'tool_call'}], usage_metadata={'input_tokens': 227, 'output_tokens': 26, 'total_tokens': 253, 'input_token_details': {'audio': 0, 'cache_read': 0}, 'output_token_details': {'audio': 0, 'reasoning': 0}}), ToolMessage(content='[{\"position\": 1, \"title\": \"Computador Completo Intel Core I3 8GB Hd 500Gb Monitor Wifi\", \"link\": \"https://www.casasbahia.com.br/computador-completo-intel-core-i3-8gb-hd-500gb-monitor-wifi-1536708788/p/1536708788?utm_medium=Cpc&utm_source=google_freelisting&IdSku=1536708788&idLojista=145309&tipoLojista=3P&srsltid=AfmBOoo6Ufj0l2MDylYladsCpskzRiWsWF0PtxRX8T5k6l5YRgN1VMGi-Rk\", \"product_link\": \"https://www.google.com/shopping/product/10052093828281759239?gl=br\", \"product_id\": \"10052093828281759239\", \"serpapi_product_api\": \"https://serpapi.com/search.json?device=desktop&engine=google_product&gl=br&google_domain=google.com&hl=pt-BR&product_id=10052093828281759239\", \"number_of_comparisons\": \"10\", \"comparison_link\": \"https://www.google.com/shopping/product/10052093828281759239/offers?gl=br&q=Desktop+i3+8gb+hd+500gb&num=10&hl=pt-BR&prds=eto:1483582285010547870_0,pid:5898487241595599234,rsk:PC_9964770728534879753&sa=X&ved=0ahUKEwjnvPSJ8s-KAxX1l4kEHSqzNGcQ3q4ECIsK\", \"serpapi_product_api_comparisons\": \"https://serpapi.com/search.json?engine=google_product&filter=eto%3A1483582285010547870_0%2Cpid%3A5898487241595599234%2Crsk%3APC_9964770728534879753&hl=pt&num=10&offers=1&product_id=10052093828281759239&sa=X&ved=0ahUKEwjnvPSJ8s-KAxX1l4kEHSqzNGcQ3q4ECIsK\", \"source\": \"Casas Bahia\", \"price\": \"R$\\xa0881,84\", \"extracted_price\": 881.84, \"installment\": {\"price\": \"R$\\xa0205,08\", \"extracted_price\": 205.08, \"period\": 5}, \"rating\": 5.0, \"reviews\": 2, \"extensions\": [\"Windows\", \"Intel CPU\", \"PROMOÇÃO\"], \"thumbnail\": \"https://encrypted-tbn0.gstatic.com/shopping?q=tbn:ANd9GcTeFl5vZD8bWsX9lbvcqd6v2JOhoLXiPWDzWEnWT_H-3_YdedyYcbiuryQgcic3ePnoEUOm2ecSSbZ4G8uC5GvgnLujFFf8Ad8pnx7XSRcqJV2zC_dyoS_R0A&usqp=CAE\", \"tag\": \"PROMOÇÃO\"}, {\"position\": 2, \"title\": \"Computador Desktop Intel Core I3, 8GB RAM, Ssd 240GB, HDMI, Windows 10 Pro 64 Bits\", \"link\": \"https://www.kabum.com.br/produto/569256/computador-desktop-intel-core-i3-8gb-ram-ssd-240gb-hdmi-windows-10-pro-64-bits?srsltid=AfmBOorQ7Of8mpjKUGCYOrtJCYeiPfdsfWX8NbNZEIjIbdj7aiEyL1kESOE\", \"product_link\": \"https://www.google.com/shopping/product/12345003325589112571?gl=br\", \"product_id\": \"12345003325589112571\", \"serpapi_product_api\": \"https://serpapi.com/search.json?device=desktop&engine=google_product&gl=br&google_domain=google.com&hl=pt-BR&product_id=12345003325589112571\", \"number_of_comparisons\": \"4\", \"comparison_link\": \"https://www.google.com/shopping/product/12345003325589112571/offers?gl=br&q=Desktop+i3+8gb+hd+500gb&num=10&hl=pt-BR&prds=eto:1254472099652245381_0,pid:2432287202799875067,rsk:PC_4778198843294867838&sa=X&ved=0ahUKEwjnvPSJ8s-KAxX1l4kEHSqzNGcQ3q4ECJsK\", \"serpapi_product_api_comparisons\": \"https://serpapi.com/search.json?engine=google_product&filter=eto%3A1254472099652245381_0%2Cpid%3A2432287202799875067%2Crsk%3APC_4778198843294867838&hl=pt&num=10&offers=1&product_id=12345003325589112571&sa=X&ved=0ahUKEwjnvPSJ8s-KAxX1l4kEHSqzNGcQ3q4ECJsK\", \"source\": \"KaBuM!\", \"price\": \"R$\\xa0490,99\", \"extracted_price\": 490.99, \"installment\": {\"price\": \"R$\\xa061,37\", \"extracted_price\": 61.37, \"period\": 10}, \"rating\": 2.7, \"reviews\": 3, \"extensions\": [\"Windows\", \"Intel CPU\"], \"thumbnail\": \"https://encrypted-tbn2.gstatic.com/shopping?q=tbn:ANd9GcQYHMGR6uhO1XNy6wJFPLvjocgPyJzibid38_wyTDkyN-ShQ-0LNnHVe37oZy5baRFhKNREOT1J4RNMprJ_I0n60KQ90yxKB7AxeC2qGWHHBiV5LMUOe3Rrjg&usqp=CAE\"}, {\"position\": 3, \"title\": \"Computador Desktop, Intel Core I3 4o Geração, 8GB RAM, Hd Ssd 480GB, Conexões USB ...\", \"link\": \"https://shopee.com.br/product/275151625/22697319464?gads_t_sig=VTJGc2RHVmtYMTlxTFVSVVRrdENkVHQ3ZkZSUTMrR3pBWmZZNzdrcnRBM0RsS2VUczV0N3Zsa2ZtQWlmc1JiVFcyTnBBK3JvZE1waEV6SlRMVDcwTVdWS2VqWS96L3VySllsSGVuL1JtWm1YRXBCbUxhNFp4OHc2d0ZuQUlLMXQwbENsbEZ4STNaT3Q1Rk95QWFISTNnPT0\", \"product_link\": \"https://www.google.com/shopping/product/17045291180761846143?gl=br\", \"product_id\": \"17045291180761846143\", \"serpapi_product_api\": \"https://serpapi.com/search.json?device=desktop&engine=google_product&gl=br&google_domain=google.com&hl=pt-BR&product_id=17045291180761846143\", \"number_of_comparisons\": \"5\", \"comparison_link\": \"https://www.google.com/shopping/product/17045291180761846143/offers?gl=br&q=Desktop+i3+8gb+hd+500gb&num=10&hl=pt-BR&prds=eto:9041368656331380591_0,pid:13115840118072073489&sa=X&ved=0ahUKEwjnvPSJ8s-KAxX1l4kEHSqzNGcQ3q4ECKkK\", \"serpapi_product_api_comparisons\": \"https://serpapi.com/search.json?engine=google_product&filter=eto%3A9041368656331380591_0%2Cpid%3A13115840118072073489&hl=pt&num=10&offers=1&product_id=17045291180761846143&sa=X&ved=0ahUKEwjnvPSJ8s-KAxX1l4kEHSqzNGcQ3q4ECKkK\", \"source\": \"Shopee\", \"price\": \"R$\\xa0862,53\", \"extracted_price\": 862.53, \"extensions\": [\"Intel CPU\", \"2 núcleos\"], \"thumbnail\": \"https://encrypted-tbn1.gstatic.com/shopping?q=tbn:ANd9GcSr-rHzdrD1rPelu9fOXMN9Gp7VhYR63BUI1fIAaUPsogPfjkc50xqf00zgt4nuM9xFXk0isMYOH0SzeunDPAR8-240bqlIQ32n33DOIrMyYRAtdAQ0NmjDfw&usqp=CAE\"}]', name='fetch_google_shopping', id='eb20bc1a-af0e-4919-91c7-811cae039a0c', tool_call_id='call_W82GxWAoW05urzptNL7ysA19'), AIMessage(content='', additional_kwargs={'tool_calls': [{'id': 'call_54Br4ZKRdCIAP0Hnzvqj91Wk', 'function': {'arguments': '{\"query_result\":[{\"position\":1,\"title\":\"Computador Completo Intel Core I3 8GB Hd 500Gb Monitor Wifi\",\"link\":\"https://www.casasbahia.com.br/computador-completo-intel-core-i3-8gb-hd-500gb-monitor-wifi-1536708788/p/1536708788?utm_medium=Cpc&utm_source=google_freelisting&IdSku=1536708788&idLojista=145309&tipoLojista=3P&srsltid=AfmBOoo6Ufj0l2MDylYladsCpskzRiWsWF0PtxRX8T5k6l5YRgN1VMGi-Rk\",\"product_link\":\"https://www.google.com/shopping/product/10052093828281759239?gl=br\",\"product_id\":\"10052093828281759239\",\"serpapi_product_api\":\"https://serpapi.com/search.json?device=desktop&engine=google_product&gl=br&google_domain=google.com&hl=pt-BR&product_id=10052093828281759239\",\"number_of_comparisons\":\"10\",\"comparison_link\":\"https://www.google.com/shopping/product/10052093828281759239/offers?gl=br&q=Desktop+i3+8gb+hd+500gb&num=10&hl=pt-BR&prds=eto:1483582285010547870_0,pid:5898487241595599234,rsk:PC_9964770728534879753&sa=X&ved=0ahUKEwjnvPSJ8s-KAxX1l4kEHSqzNGcQ3q4ECIsK\",\"serpapi_product_api_comparisons\":\"https://serpapi.com/search.json?engine=google_product&filter=eto%3A1483582285010547870_0%2Cpid%3A5898487241595599234%2Crsk%3APC_9964770728534879753&hl=pt&num=10&offers=1&product_id=10052093828281759239&sa=X&ved=0ahUKEwjnvPSJ8s-KAxX1l4kEHSqzNGcQ3q4ECIsK\",\"source\":\"Casas Bahia\",\"price\":\"R$\\xa0881,84\",\"extracted_price\":881.84,\"installment\":{\"price\":\"R$\\xa0205,08\",\"extracted_price\":205.08,\"period\":5},\"rating\":5,\"reviews\":2,\"extensions\":[\"Windows\",\"Intel CPU\",\"PROMOÇÃO\"],\"thumbnail\":\"https://encrypted-tbn0.gstatic.com/shopping?q=tbn:ANd9GcTeFl5vZD8bWsX9lbvcqd6v2JOhoLXiPWDzWEnWT_H-3_YdedyYcbiuryQgcic3ePnoEUOm2ecSSbZ4G8uC5GvgnLujFFf8Ad8pnx7XSRcqJV2zC_dyoS_R0A&usqp=CAE\",\"tag\":\"PROMOÇÃO\"},{\"position\":2,\"title\":\"Computador Desktop Intel Core I3, 8GB RAM, Ssd 240GB, HDMI, Windows 10 Pro 64 Bits\",\"link\":\"https://www.kabum.com.br/produto/569256/computador-desktop-intel-core-i3-8gb-ram-ssd-240gb-hdmi-windows-10-pro-64-bits?srsltid=AfmBOorQ7Of8mpjKUGCYOrtJCYeiPfdsfWX8NbNZEIjIbdj7aiEyL1kESOE\",\"product_link\":\"https://www.google.com/shopping/product/12345003325589112571?gl=br\",\"product_id\":\"12345003325589112571\",\"serpapi_product_api\":\"https://serpapi.com/search.json?device=desktop&engine=google_product&gl=br&google_domain=google.com&hl=pt-BR&product_id=12345003325589112571\",\"number_of_comparisons\":\"4\",\"comparison_link\":\"https://www.google.com/shopping/product/12345003325589112571/offers?gl=br&q=Desktop+i3+8gb+hd+500gb&num=10&hl=pt-BR&prds=eto:1254472099652245381_0,pid:2432287202799875067,rsk:PC_4778198843294867838&sa=X&ved=0ahUKEwjnvPSJ8s-KAxX1l4kEHSqzNGcQ3q4ECJsK\",\"serpapi_product_api_comparisons\":\"https://serpapi.com/search.json?engine=google_product&filter=eto%3A1254472099652245381_0%2Cpid%3A2432287202799875067%2Crsk%3APC_4778198843294867838&hl=pt&num=10&offers=1&product_id=12345003325589112571&sa=X&ved=0ahUKEwjnvPSJ8s-KAxX1l4kEHSqzNGcQ3q4ECJsK\",\"source\":\"KaBuM!\",\"price\":\"R$\\xa0490,99\",\"extracted_price\":490.99,\"installment\":{\"price\":\"R$\\xa061,37\",\"extracted_price\":61.37,\"period\":10},\"rating\":2.7,\"reviews\":3,\"extensions\":[\"Windows\",\"Intel CPU\"],\"thumbnail\":\"https://encrypted-tbn2.gstatic.com/shopping?q=tbn:ANd9GcQYHMGR6uhO1XNy6wJFPLvjocgPyJzibid38_wyTDkyN-ShQ-0LNnHVe37oZy5baRFhKNREOT1J4RNMprJ_I0n60KQ90yxKB7AxeC2qGWHHBiV5LMUOe3Rrjg&usqp=CAE\"},{\"position\":3,\"title\":\"Computador Desktop, Intel Core I3 4o Geração, 8GB RAM, Hd Ssd 480GB, Conexões USB ...\",\"link\":\"https://shopee.com.br/product/275151625/22697319464?gads_t_sig=VTJGc2RHVmtYMTlxTFVSVVRrdENkVHQ3ZkZSUTMrR3pBWmZZNzdrcnRBM0RsS2VUczV0N3Zsa2ZtQWlmc1JiVFcyTnBBK3JvZE1waEV6SlRMVDcwTVdWS2VqWS96L3VySllsSGVuL1JtWm1YRXBCbUxhNFp4OHc2d0ZuQUlLMXQwbENsbEZ4STNaT3Q1Rk95QWFISTNnPT0\",\"product_link\":\"https://www.google.com/shopping/product/17045291180761846143?gl=br\",\"product_id\":\"17045291180761846143\",\"serpapi_product_api\":\"https://serpapi.com/search.json?device=desktop&engine=google_product&gl=br&google_domain=google.com&hl=pt-BR&product_id=17045291180761846143\",\"number_of_comparisons\":\"5\",\"comparison_link\":\"https://www.google.com/shopping/product/17045291180761846143/offers?gl=br&q=Desktop+i3+8gb+hd+500gb&num=10&hl=pt-BR&prds=eto:9041368656331380591_0,pid:13115840118072073489&sa=X&ved=0ahUKEwjnvPSJ8s-KAxX1l4kEHSqzNGcQ3q4ECKkK\",\"serpapi_product_api_comparisons\":\"https://serpapi.com/search.json?engine=google_product&filter=eto%3A9041368656331380591_0%2Cpid%3A13115840118072073489&hl=pt&num=10&offers=1&product_id=17045291180761846143&sa=X&ved=0ahUKEwjnvPSJ8s-KAxX1l4kEHSqzNGcQ3q4ECKkK\",\"source\":\"Shopee\",\"price\":\"R$\\xa0862,53\",\"extracted_price\":862.53,\"extensions\":[\"Intel CPU\",\"2 núcleos\"],\"thumbnail\":\"https://encrypted-tbn1.gstatic.com/shopping?q=tbn:ANd9GcSr-rHzdrD1rPelu9fOXMN9Gp7VhYR63BUI1fIAaUPsogPfjkc50xqf00zgt4nuM9xFXk0isMYOH0SzeunDPAR8-240bqlIQ32n33DOIrMyYRAtdAQ0NmjDfw&usqp=CAE\"}]}', 'name': 'calcula_valor_min'}, 'type': 'function'}], 'refusal': None}, response_metadata={'token_usage': {'completion_tokens': 2001, 'prompt_tokens': 2356, 'total_tokens': 4357, 'completion_tokens_details': {'accepted_prediction_tokens': 0, 'audio_tokens': 0, 'reasoning_tokens': 0, 'rejected_prediction_tokens': 0}, 'prompt_tokens_details': {'audio_tokens': 0, 'cached_tokens': 0}}, 'model_name': 'gpt-4o-mini-2024-07-18', 'system_fingerprint': 'fp_0aa8d3e20b', 'finish_reason': 'tool_calls', 'logprobs': None}, id='run-6b9d4149-596a-4aa4-aa06-0f1fcf25d421-0', tool_calls=[{'name': 'calcula_valor_min', 'args': {'query_result': [{'position': 1, 'title': 'Computador Completo Intel Core I3 8GB Hd 500Gb Monitor Wifi', 'link': 'https://www.casasbahia.com.br/computador-completo-intel-core-i3-8gb-hd-500gb-monitor-wifi-1536708788/p/1536708788?utm_medium=Cpc&utm_source=google_freelisting&IdSku=1536708788&idLojista=145309&tipoLojista=3P&srsltid=AfmBOoo6Ufj0l2MDylYladsCpskzRiWsWF0PtxRX8T5k6l5YRgN1VMGi-Rk', 'product_link': 'https://www.google.com/shopping/product/10052093828281759239?gl=br', 'product_id': '10052093828281759239', 'serpapi_product_api': 'https://serpapi.com/search.json?device=desktop&engine=google_product&gl=br&google_domain=google.com&hl=pt-BR&product_id=10052093828281759239', 'number_of_comparisons': '10', 'comparison_link': 'https://www.google.com/shopping/product/10052093828281759239/offers?gl=br&q=Desktop+i3+8gb+hd+500gb&num=10&hl=pt-BR&prds=eto:1483582285010547870_0,pid:5898487241595599234,rsk:PC_9964770728534879753&sa=X&ved=0ahUKEwjnvPSJ8s-KAxX1l4kEHSqzNGcQ3q4ECIsK', 'serpapi_product_api_comparisons': 'https://serpapi.com/search.json?engine=google_product&filter=eto%3A1483582285010547870_0%2Cpid%3A5898487241595599234%2Crsk%3APC_9964770728534879753&hl=pt&num=10&offers=1&product_id=10052093828281759239&sa=X&ved=0ahUKEwjnvPSJ8s-KAxX1l4kEHSqzNGcQ3q4ECIsK', 'source': 'Casas Bahia', 'price': 'R$\\xa0881,84', 'extracted_price': 881.84, 'installment': {'price': 'R$\\xa0205,08', 'extracted_price': 205.08, 'period': 5}, 'rating': 5, 'reviews': 2, 'extensions': ['Windows', 'Intel CPU', 'PROMOÇÃO'], 'thumbnail': 'https://encrypted-tbn0.gstatic.com/shopping?q=tbn:ANd9GcTeFl5vZD8bWsX9lbvcqd6v2JOhoLXiPWDzWEnWT_H-3_YdedyYcbiuryQgcic3ePnoEUOm2ecSSbZ4G8uC5GvgnLujFFf8Ad8pnx7XSRcqJV2zC_dyoS_R0A&usqp=CAE', 'tag': 'PROMOÇÃO'}, {'position': 2, 'title': 'Computador Desktop Intel Core I3, 8GB RAM, Ssd 240GB, HDMI, Windows 10 Pro 64 Bits', 'link': 'https://www.kabum.com.br/produto/569256/computador-desktop-intel-core-i3-8gb-ram-ssd-240gb-hdmi-windows-10-pro-64-bits?srsltid=AfmBOorQ7Of8mpjKUGCYOrtJCYeiPfdsfWX8NbNZEIjIbdj7aiEyL1kESOE', 'product_link': 'https://www.google.com/shopping/product/12345003325589112571?gl=br', 'product_id': '12345003325589112571', 'serpapi_product_api': 'https://serpapi.com/search.json?device=desktop&engine=google_product&gl=br&google_domain=google.com&hl=pt-BR&product_id=12345003325589112571', 'number_of_comparisons': '4', 'comparison_link': 'https://www.google.com/shopping/product/12345003325589112571/offers?gl=br&q=Desktop+i3+8gb+hd+500gb&num=10&hl=pt-BR&prds=eto:1254472099652245381_0,pid:2432287202799875067,rsk:PC_4778198843294867838&sa=X&ved=0ahUKEwjnvPSJ8s-KAxX1l4kEHSqzNGcQ3q4ECJsK', 'serpapi_product_api_comparisons': 'https://serpapi.com/search.json?engine=google_product&filter=eto%3A1254472099652245381_0%2Cpid%3A2432287202799875067%2Crsk%3APC_4778198843294867838&hl=pt&num=10&offers=1&product_id=12345003325589112571&sa=X&ved=0ahUKEwjnvPSJ8s-KAxX1l4kEHSqzNGcQ3q4ECJsK', 'source': 'KaBuM!', 'price': 'R$\\xa0490,99', 'extracted_price': 490.99, 'installment': {'price': 'R$\\xa061,37', 'extracted_price': 61.37, 'period': 10}, 'rating': 2.7, 'reviews': 3, 'extensions': ['Windows', 'Intel CPU'], 'thumbnail': 'https://encrypted-tbn2.gstatic.com/shopping?q=tbn:ANd9GcQYHMGR6uhO1XNy6wJFPLvjocgPyJzibid38_wyTDkyN-ShQ-0LNnHVe37oZy5baRFhKNREOT1J4RNMprJ_I0n60KQ90yxKB7AxeC2qGWHHBiV5LMUOe3Rrjg&usqp=CAE'}, {'position': 3, 'title': 'Computador Desktop, Intel Core I3 4o Geração, 8GB RAM, Hd Ssd 480GB, Conexões USB ...', 'link': 'https://shopee.com.br/product/275151625/22697319464?gads_t_sig=VTJGc2RHVmtYMTlxTFVSVVRrdENkVHQ3ZkZSUTMrR3pBWmZZNzdrcnRBM0RsS2VUczV0N3Zsa2ZtQWlmc1JiVFcyTnBBK3JvZE1waEV6SlRMVDcwTVdWS2VqWS96L3VySllsSGVuL1JtWm1YRXBCbUxhNFp4OHc2d0ZuQUlLMXQwbENsbEZ4STNaT3Q1Rk95QWFISTNnPT0', 'product_link': 'https://www.google.com/shopping/product/17045291180761846143?gl=br', 'product_id': '17045291180761846143', 'serpapi_product_api': 'https://serpapi.com/search.json?device=desktop&engine=google_product&gl=br&google_domain=google.com&hl=pt-BR&product_id=17045291180761846143', 'number_of_comparisons': '5', 'comparison_link': 'https://www.google.com/shopping/product/17045291180761846143/offers?gl=br&q=Desktop+i3+8gb+hd+500gb&num=10&hl=pt-BR&prds=eto:9041368656331380591_0,pid:13115840118072073489&sa=X&ved=0ahUKEwjnvPSJ8s-KAxX1l4kEHSqzNGcQ3q4ECKkK', 'serpapi_product_api_comparisons': 'https://serpapi.com/search.json?engine=google_product&filter=eto%3A9041368656331380591_0%2Cpid%3A13115840118072073489&hl=pt&num=10&offers=1&product_id=17045291180761846143&sa=X&ved=0ahUKEwjnvPSJ8s-KAxX1l4kEHSqzNGcQ3q4ECKkK', 'source': 'Shopee', 'price': 'R$\\xa0862,53', 'extracted_price': 862.53, 'extensions': ['Intel CPU', '2 núcleos'], 'thumbnail': 'https://encrypted-tbn1.gstatic.com/shopping?q=tbn:ANd9GcSr-rHzdrD1rPelu9fOXMN9Gp7VhYR63BUI1fIAaUPsogPfjkc50xqf00zgt4nuM9xFXk0isMYOH0SzeunDPAR8-240bqlIQ32n33DOIrMyYRAtdAQ0NmjDfw&usqp=CAE'}]}, 'id': 'call_54Br4ZKRdCIAP0Hnzvqj91Wk', 'type': 'tool_call'}], usage_metadata={'input_tokens': 2356, 'output_tokens': 2001, 'total_tokens': 4357, 'input_token_details': {'audio': 0, 'cache_read': 0}, 'output_token_details': {'audio': 0, 'reasoning': 0}}), ToolMessage(content='490.99', name='calcula_valor_min', id='502e4ec2-09ba-415c-a12f-976f1c60030e', tool_call_id='call_54Br4ZKRdCIAP0Hnzvqj91Wk'), AIMessage(content='', additional_kwargs={'tool_calls': [{'id': 'call_UiZZdCcOZoLvVUlZSHoyfdMn', 'function': {'arguments': '{\"price\":2645.52,\"min_price\":490.99}', 'name': 'superfaturado'}, 'type': 'function'}], 'refusal': None}, response_metadata={'token_usage': {'completion_tokens': 27, 'prompt_tokens': 4370, 'total_tokens': 4397, 'completion_tokens_details': {'accepted_prediction_tokens': 0, 'audio_tokens': 0, 'reasoning_tokens': 0, 'rejected_prediction_tokens': 0}, 'prompt_tokens_details': {'audio_tokens': 0, 'cached_tokens': 4224}}, 'model_name': 'gpt-4o-mini-2024-07-18', 'system_fingerprint': 'fp_0aa8d3e20b', 'finish_reason': 'tool_calls', 'logprobs': None}, id='run-88ce5c40-4791-4303-a647-dbf0c7716874-0', tool_calls=[{'name': 'superfaturado', 'args': {'price': 2645.52, 'min_price': 490.99}, 'id': 'call_UiZZdCcOZoLvVUlZSHoyfdMn', 'type': 'tool_call'}], usage_metadata={'input_tokens': 4370, 'output_tokens': 27, 'total_tokens': 4397, 'input_token_details': {'audio': 0, 'cache_read': 4224}, 'output_token_details': {'audio': 0, 'reasoning': 0}}), ToolMessage(content='Superfaturado', name='superfaturado', id='f72a9ae7-0cd4-45e3-8023-15c4966c98a4', tool_call_id='call_UiZZdCcOZoLvVUlZSHoyfdMn'), AIMessage(content='Os preços encontrados para desktops com as especificações solicitadas são:\\n\\n1. **Computador Completo Intel Core I3 8GB HD 500GB Monitor Wifi**\\n   - Preço: R$ 881,84\\n   - [Link para compra](https://www.casasbahia.com.br/computador-completo-intel-core-i3-8gb-hd-500gb-monitor-wifi-1536708788/p/1536708788?utm_medium=Cpc&utm_source=google_freelisting&IdSku=1536708788&idLojista=145309&tipoLojista=3P&srsltid=AfmBOoo6Ufj0l2MDylYladsCpskzRiWsWF0PtxRX8T5k6l5YRgN1VMGi-Rk)\\n\\n2. **Computador Desktop Intel Core I3, 8GB RAM, SSD 240GB, HDMI, Windows 10 Pro 64 Bits**\\n   - Preço: R$ 490,99\\n   - [Link para compra](https://www.kabum.com.br/produto/569256/computador-desktop-intel-core-i3-8gb-ram-ssd-240gb-hdmi-windows-10-pro-64-bits?srsltid=AfmBOorQ7Of8mpjKUGCYOrtJCYeiPfdsfWX8NbNZEIjIbdj7aiEyL1kESOE)\\n\\n3. **Computador Desktop, Intel Core I3 4ª Geração, 8GB RAM, HD SSD 480GB**\\n   - Preço: R$ 862,53\\n   - [Link para compra](https://shopee.com.br/product/275151625/22697319464?gads_t_sig=VTJGc2RHVmtYMTlxTFVSVVRrdENkVHQ3ZkZSUTMrR3pBWmZZNzdrcnRBM0RsS2VUczV0N3Zsa2ZtQWlmc1JiVFcyTnBBK3JvZE1waEV6SlRMVDcwTVdWS2VqWS96L3VySllsSGVuL1JtWm1YRXBCbUxhNFp4OHc2d0ZuQUlLMXQwbENsbEZ4STNaT3Q1Rk95QWFISTNnPT0)\\n\\nO menor preço encontrado foi de **R$ 490,99**, que é significativamente menor do que R$ 2645,52. Portanto, o preço de R$ 2645,52 é considerado **superfaturado**.', additional_kwargs={'refusal': None}, response_metadata={'token_usage': {'completion_tokens': 578, 'prompt_tokens': 4410, 'total_tokens': 4988, 'completion_tokens_details': {'accepted_prediction_tokens': 0, 'audio_tokens': 0, 'reasoning_tokens': 0, 'rejected_prediction_tokens': 0}, 'prompt_tokens_details': {'audio_tokens': 0, 'cached_tokens': 4224}}, 'model_name': 'gpt-4o-mini-2024-07-18', 'system_fingerprint': 'fp_0aa8d3e20b', 'finish_reason': 'stop', 'logprobs': None}, id='run-1f9d6c5f-4ba7-47d2-8e2a-56ecb92c2bf9-0', usage_metadata={'input_tokens': 4410, 'output_tokens': 578, 'total_tokens': 4988, 'input_token_details': {'audio': 0, 'cache_read': 4224}, 'output_token_details': {'audio': 0, 'reasoning': 0}})]\n",
            "human\n",
            "Pesquise preço para Desktop i3 8gb hd 500gb, e verifique se há um preço menor do que R$2645.52\n",
            "\n",
            "ai\n",
            "\n",
            "\n",
            "tool\n",
            "[{\"position\": 1, \"title\": \"Computador Completo Intel Core I3 8GB Hd 500Gb Monitor Wifi\", \"link\": \"https://www.casasbahia.com.br/computador-completo-intel-core-i3-8gb-hd-500gb-monitor-wifi-1536708788/p/1536708788?utm_medium=Cpc&utm_source=google_freelisting&IdSku=1536708788&idLojista=145309&tipoLojista=3P&srsltid=AfmBOoo6Ufj0l2MDylYladsCpskzRiWsWF0PtxRX8T5k6l5YRgN1VMGi-Rk\", \"product_link\": \"https://www.google.com/shopping/product/10052093828281759239?gl=br\", \"product_id\": \"10052093828281759239\", \"serpapi_product_api\": \"https://serpapi.com/search.json?device=desktop&engine=google_product&gl=br&google_domain=google.com&hl=pt-BR&product_id=10052093828281759239\", \"number_of_comparisons\": \"10\", \"comparison_link\": \"https://www.google.com/shopping/product/10052093828281759239/offers?gl=br&q=Desktop+i3+8gb+hd+500gb&num=10&hl=pt-BR&prds=eto:1483582285010547870_0,pid:5898487241595599234,rsk:PC_9964770728534879753&sa=X&ved=0ahUKEwjnvPSJ8s-KAxX1l4kEHSqzNGcQ3q4ECIsK\", \"serpapi_product_api_comparisons\": \"https://serpapi.com/search.json?engine=google_product&filter=eto%3A1483582285010547870_0%2Cpid%3A5898487241595599234%2Crsk%3APC_9964770728534879753&hl=pt&num=10&offers=1&product_id=10052093828281759239&sa=X&ved=0ahUKEwjnvPSJ8s-KAxX1l4kEHSqzNGcQ3q4ECIsK\", \"source\": \"Casas Bahia\", \"price\": \"R$ 881,84\", \"extracted_price\": 881.84, \"installment\": {\"price\": \"R$ 205,08\", \"extracted_price\": 205.08, \"period\": 5}, \"rating\": 5.0, \"reviews\": 2, \"extensions\": [\"Windows\", \"Intel CPU\", \"PROMOÇÃO\"], \"thumbnail\": \"https://encrypted-tbn0.gstatic.com/shopping?q=tbn:ANd9GcTeFl5vZD8bWsX9lbvcqd6v2JOhoLXiPWDzWEnWT_H-3_YdedyYcbiuryQgcic3ePnoEUOm2ecSSbZ4G8uC5GvgnLujFFf8Ad8pnx7XSRcqJV2zC_dyoS_R0A&usqp=CAE\", \"tag\": \"PROMOÇÃO\"}, {\"position\": 2, \"title\": \"Computador Desktop Intel Core I3, 8GB RAM, Ssd 240GB, HDMI, Windows 10 Pro 64 Bits\", \"link\": \"https://www.kabum.com.br/produto/569256/computador-desktop-intel-core-i3-8gb-ram-ssd-240gb-hdmi-windows-10-pro-64-bits?srsltid=AfmBOorQ7Of8mpjKUGCYOrtJCYeiPfdsfWX8NbNZEIjIbdj7aiEyL1kESOE\", \"product_link\": \"https://www.google.com/shopping/product/12345003325589112571?gl=br\", \"product_id\": \"12345003325589112571\", \"serpapi_product_api\": \"https://serpapi.com/search.json?device=desktop&engine=google_product&gl=br&google_domain=google.com&hl=pt-BR&product_id=12345003325589112571\", \"number_of_comparisons\": \"4\", \"comparison_link\": \"https://www.google.com/shopping/product/12345003325589112571/offers?gl=br&q=Desktop+i3+8gb+hd+500gb&num=10&hl=pt-BR&prds=eto:1254472099652245381_0,pid:2432287202799875067,rsk:PC_4778198843294867838&sa=X&ved=0ahUKEwjnvPSJ8s-KAxX1l4kEHSqzNGcQ3q4ECJsK\", \"serpapi_product_api_comparisons\": \"https://serpapi.com/search.json?engine=google_product&filter=eto%3A1254472099652245381_0%2Cpid%3A2432287202799875067%2Crsk%3APC_4778198843294867838&hl=pt&num=10&offers=1&product_id=12345003325589112571&sa=X&ved=0ahUKEwjnvPSJ8s-KAxX1l4kEHSqzNGcQ3q4ECJsK\", \"source\": \"KaBuM!\", \"price\": \"R$ 490,99\", \"extracted_price\": 490.99, \"installment\": {\"price\": \"R$ 61,37\", \"extracted_price\": 61.37, \"period\": 10}, \"rating\": 2.7, \"reviews\": 3, \"extensions\": [\"Windows\", \"Intel CPU\"], \"thumbnail\": \"https://encrypted-tbn2.gstatic.com/shopping?q=tbn:ANd9GcQYHMGR6uhO1XNy6wJFPLvjocgPyJzibid38_wyTDkyN-ShQ-0LNnHVe37oZy5baRFhKNREOT1J4RNMprJ_I0n60KQ90yxKB7AxeC2qGWHHBiV5LMUOe3Rrjg&usqp=CAE\"}, {\"position\": 3, \"title\": \"Computador Desktop, Intel Core I3 4o Geração, 8GB RAM, Hd Ssd 480GB, Conexões USB ...\", \"link\": \"https://shopee.com.br/product/275151625/22697319464?gads_t_sig=VTJGc2RHVmtYMTlxTFVSVVRrdENkVHQ3ZkZSUTMrR3pBWmZZNzdrcnRBM0RsS2VUczV0N3Zsa2ZtQWlmc1JiVFcyTnBBK3JvZE1waEV6SlRMVDcwTVdWS2VqWS96L3VySllsSGVuL1JtWm1YRXBCbUxhNFp4OHc2d0ZuQUlLMXQwbENsbEZ4STNaT3Q1Rk95QWFISTNnPT0\", \"product_link\": \"https://www.google.com/shopping/product/17045291180761846143?gl=br\", \"product_id\": \"17045291180761846143\", \"serpapi_product_api\": \"https://serpapi.com/search.json?device=desktop&engine=google_product&gl=br&google_domain=google.com&hl=pt-BR&product_id=17045291180761846143\", \"number_of_comparisons\": \"5\", \"comparison_link\": \"https://www.google.com/shopping/product/17045291180761846143/offers?gl=br&q=Desktop+i3+8gb+hd+500gb&num=10&hl=pt-BR&prds=eto:9041368656331380591_0,pid:13115840118072073489&sa=X&ved=0ahUKEwjnvPSJ8s-KAxX1l4kEHSqzNGcQ3q4ECKkK\", \"serpapi_product_api_comparisons\": \"https://serpapi.com/search.json?engine=google_product&filter=eto%3A9041368656331380591_0%2Cpid%3A13115840118072073489&hl=pt&num=10&offers=1&product_id=17045291180761846143&sa=X&ved=0ahUKEwjnvPSJ8s-KAxX1l4kEHSqzNGcQ3q4ECKkK\", \"source\": \"Shopee\", \"price\": \"R$ 862,53\", \"extracted_price\": 862.53, \"extensions\": [\"Intel CPU\", \"2 núcleos\"], \"thumbnail\": \"https://encrypted-tbn1.gstatic.com/shopping?q=tbn:ANd9GcSr-rHzdrD1rPelu9fOXMN9Gp7VhYR63BUI1fIAaUPsogPfjkc50xqf00zgt4nuM9xFXk0isMYOH0SzeunDPAR8-240bqlIQ32n33DOIrMyYRAtdAQ0NmjDfw&usqp=CAE\"}]\n",
            "\n",
            "ai\n",
            "\n",
            "\n",
            "tool\n",
            "490.99\n",
            "\n",
            "ai\n",
            "\n",
            "\n",
            "tool\n",
            "Superfaturado\n",
            "\n",
            "ai\n",
            "Os preços encontrados para desktops com as especificações solicitadas são:\n",
            "\n",
            "1. **Computador Completo Intel Core I3 8GB HD 500GB Monitor Wifi**\n",
            "   - Preço: R$ 881,84\n",
            "   - [Link para compra](https://www.casasbahia.com.br/computador-completo-intel-core-i3-8gb-hd-500gb-monitor-wifi-1536708788/p/1536708788?utm_medium=Cpc&utm_source=google_freelisting&IdSku=1536708788&idLojista=145309&tipoLojista=3P&srsltid=AfmBOoo6Ufj0l2MDylYladsCpskzRiWsWF0PtxRX8T5k6l5YRgN1VMGi-Rk)\n",
            "\n",
            "2. **Computador Desktop Intel Core I3, 8GB RAM, SSD 240GB, HDMI, Windows 10 Pro 64 Bits**\n",
            "   - Preço: R$ 490,99\n",
            "   - [Link para compra](https://www.kabum.com.br/produto/569256/computador-desktop-intel-core-i3-8gb-ram-ssd-240gb-hdmi-windows-10-pro-64-bits?srsltid=AfmBOorQ7Of8mpjKUGCYOrtJCYeiPfdsfWX8NbNZEIjIbdj7aiEyL1kESOE)\n",
            "\n",
            "3. **Computador Desktop, Intel Core I3 4ª Geração, 8GB RAM, HD SSD 480GB**\n",
            "   - Preço: R$ 862,53\n",
            "   - [Link para compra](https://shopee.com.br/product/275151625/22697319464?gads_t_sig=VTJGc2RHVmtYMTlxTFVSVVRrdENkVHQ3ZkZSUTMrR3pBWmZZNzdrcnRBM0RsS2VUczV0N3Zsa2ZtQWlmc1JiVFcyTnBBK3JvZE1waEV6SlRMVDcwTVdWS2VqWS96L3VySllsSGVuL1JtWm1YRXBCbUxhNFp4OHc2d0ZuQUlLMXQwbENsbEZ4STNaT3Q1Rk95QWFISTNnPT0)\n",
            "\n",
            "O menor preço encontrado foi de **R$ 490,99**, que é significativamente menor do que R$ 2645,52. Portanto, o preço de R$ 2645,52 é considerado **superfaturado**.\n",
            "\n"
          ]
        }
      ]
    },
    {
      "cell_type": "code",
      "source": [
        "print(response[\"messages\"][-1].content)"
      ],
      "metadata": {
        "colab": {
          "base_uri": "https://localhost:8080/"
        },
        "id": "JFljZ4eaXBmu",
        "outputId": "f614a08c-4648-4084-d7e7-ed8958dddddc"
      },
      "execution_count": null,
      "outputs": [
        {
          "output_type": "stream",
          "name": "stdout",
          "text": [
            "Os preços encontrados para desktops com as especificações solicitadas são:\n",
            "\n",
            "1. **Computador Completo Intel Core I3 8GB HD 500GB Monitor Wifi**\n",
            "   - Preço: R$ 881,84\n",
            "   - [Link para compra](https://www.casasbahia.com.br/computador-completo-intel-core-i3-8gb-hd-500gb-monitor-wifi-1536708788/p/1536708788?utm_medium=Cpc&utm_source=google_freelisting&IdSku=1536708788&idLojista=145309&tipoLojista=3P&srsltid=AfmBOoo6Ufj0l2MDylYladsCpskzRiWsWF0PtxRX8T5k6l5YRgN1VMGi-Rk)\n",
            "\n",
            "2. **Computador Desktop Intel Core I3, 8GB RAM, SSD 240GB, HDMI, Windows 10 Pro 64 Bits**\n",
            "   - Preço: R$ 490,99\n",
            "   - [Link para compra](https://www.kabum.com.br/produto/569256/computador-desktop-intel-core-i3-8gb-ram-ssd-240gb-hdmi-windows-10-pro-64-bits?srsltid=AfmBOorQ7Of8mpjKUGCYOrtJCYeiPfdsfWX8NbNZEIjIbdj7aiEyL1kESOE)\n",
            "\n",
            "3. **Computador Desktop, Intel Core I3 4ª Geração, 8GB RAM, HD SSD 480GB**\n",
            "   - Preço: R$ 862,53\n",
            "   - [Link para compra](https://shopee.com.br/product/275151625/22697319464?gads_t_sig=VTJGc2RHVmtYMTlxTFVSVVRrdENkVHQ3ZkZSUTMrR3pBWmZZNzdrcnRBM0RsS2VUczV0N3Zsa2ZtQWlmc1JiVFcyTnBBK3JvZE1waEV6SlRMVDcwTVdWS2VqWS96L3VySllsSGVuL1JtWm1YRXBCbUxhNFp4OHc2d0ZuQUlLMXQwbENsbEZ4STNaT3Q1Rk95QWFISTNnPT0)\n",
            "\n",
            "O menor preço encontrado foi de **R$ 490,99**, que é significativamente menor do que R$ 2645,52. Portanto, o preço de R$ 2645,52 é considerado **superfaturado**.\n"
          ]
        }
      ]
    },
    {
      "cell_type": "markdown",
      "source": [
        "## Conclusão\n",
        "\n",
        "Geralmente os valores de produtos superfaturados em obras públicas possui o valor triplicado de seu valor médio ou mínimo de mercado. Por isso, a comparação de preços foi feita com o valor R$2645.52\n",
        "\n",
        "A resposta gerada pelo modelo foi satisfatória e dentro do esperado, o modelo conseguiu determinar corretamente que o produto estava superfaturado."
      ],
      "metadata": {
        "id": "rQ3PSOtrH2I6"
      }
    },
    {
      "cell_type": "markdown",
      "source": [
        "**Fontes:**\n",
        "\n",
        "\n",
        "* https://python.langchain.com/docs/integrations/tools/google_serper/#as-part-of-a-self-ask-with-search-chain\n",
        "\n",
        "* https://python.langchain.com/docs/integrations/providers/serpapi/\n",
        "\n",
        "\n",
        "* https://python.langchain.com/docs/integrations/providers/google/#3rd-party-integrations\n",
        "\n",
        "* https://python.langchain.com/docs/integrations/tools/google_search/\n",
        "\n",
        "* https://python.langchain.com/docs/how_to/tools_builtin/#customizing-default-tools\n",
        "\n",
        "* https://serpapi.com/\n",
        "\n",
        "* https://python.langchain.com/docs/integrations/providers/google/#google-search\n",
        "\n",
        "* https://stackoverflow.com/questions/37083058/programmatically-searching-google-in-python-using-custom-search\n"
      ],
      "metadata": {
        "id": "Njl3wWPBPBHr"
      }
    }
  ]
}